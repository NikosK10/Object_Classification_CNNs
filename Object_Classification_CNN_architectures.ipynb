{
 "cells": [
  {
   "cell_type": "markdown",
   "metadata": {
    "id": "LpnEVMCYYlnD"
   },
   "source": [
    "# 2nd Individual Assignment in Image and Video Technology and Analysis\n"
   ]
  },
  {
   "cell_type": "markdown",
   "metadata": {
    "id": "krthQV5k3kof"
   },
   "source": [
    "### **Student Name: Nikolaos Katsaidonis**\n",
    "\n",
    "### **Student ID: 03121868**\n"
   ]
  },
  {
   "cell_type": "markdown",
   "metadata": {
    "id": "HnEzMQjA3yWL"
   },
   "source": [
    "# Part A: Theoretical Section  \n",
    "In this section, we study the three papers and present summary tables with the key characteristics of the networks.\n"
   ]
  },
  {
   "cell_type": "markdown",
   "metadata": {
    "id": "c_e7DFen4lAR"
   },
   "source": [
    "# Paper 1: Handwritten Digit Recognition with a Back-Propagation Network (LeNet)\n",
    "\n",
    "This paper presents the design of a network that closely resembles modern CNNs, specifically the LeNet architecture, aimed at handwritten digit classification. The network focuses on reducing the number of parameters and consists of 4 layers: H1, H2, H3, H4. Average pooling is applied between convolutions. Below is a summary of the architecture in table format:\n",
    "\n",
    "! For an input map of size N×N, the output is (N–m+1)×(N–m+1), where m = kernel size.\n",
    "\n",
    "## Overall Network Architecture\n",
    "\n",
    "| Layer     | Feature Maps | Map Size (Output) | Units (Neurons) | Description |\n",
    "|-----------|----------------|---------------------|------------------|-------------|\n",
    "| Input     | 1              | 28×28               | 784              | Extended from 16×16 original image |\n",
    "| H1        | 4              | 24×24               | 4×576 = 2304     | Convolution with 5×5 kernels, stride 1 |\n",
    "| H2        | 4              | 12×12               | 4×144 = 576      | 2×2 average pooling, stride = 2 (subsampling) |\n",
    "| H3        | 12             | 8×8                 | 12×64 = 768      | Convolution with 5×5 kernels, input from H2 |\n",
    "| H4        | 12             | 4×4                 | 12×16 = 192      | Subsampling 2×2, same as H2 |\n",
    "| Output    | -              | 10                  | 10               | Fully connected layer for digit classification |\n",
    "\n",
    "**Activation: Not explicitly mentioned, but likely tanh to output values in the range [-1, 1].**\n",
    "\n",
    "**No activation follows the pooling layers, as pooling itself performs a form of smoothing.**\n",
    "\n",
    "**Total units (neurons):** 4635\n",
    "\n",
    "**Total connections (weights):** 98,442\n",
    "\n",
    "**Independent parameters (weights + biases):** 2578\n"
   ]
  },
  {
   "cell_type": "markdown",
   "metadata": {
    "id": "g_TzLHpPCbQY"
   },
   "source": [
    "# Paper 2: ImageNet Classification with Deep Convolutional Neural Networks (AlexNet)\n",
    "\n",
    "This paper presents the architecture of the well-known AlexNet. It is a deep neural network with **5 convolutional layers, 3 fully connected layers**, and several **intermediate regularization and max pooling layers**. The paper emphasizes the importance of **using ReLU activation**, both to address the vanishing gradients problem and to reduce training time. \n",
    "\n",
    "Furthermore, it is shown experimentally that **overlapping pooling (i.e., kernel size > stride)** improves the generalization ability of the model. Lastly, the application of **dropout helps prevent overfitting**. The architecture of the network is presented in the table below:\n",
    "\n",
    "| **Layer**          | **Type**                  | **Number of Kernels (maps)** | **Kernel Size** | **Stride** | **Output Size**       | **Notes**                                                |\n",
    "|--------------------|---------------------------|-------------------------------|-----------------|------------|------------------------|----------------------------------------------------------|\n",
    "| **Input Layer**    | Image Input               | -                             | 224x224x3       | -          | 224x224x3              | Resized to 224x224 and normalized.                       |\n",
    "| **Conv1**          | Convolutional             | 96                            | 11x11x3         | 4          | 55x55x96               | Response normalization applied.                          |\n",
    "| **Max Pooling1**   | Pooling                   | -                             | 3x3             | 2          | 27x27x96               | Max pooling with stride 2.                               |\n",
    "| **Conv2**          | Convolutional             | 256                           | 5x5x48          | 1          | 27x27x256              | Response normalization applied.                          |\n",
    "| **Max Pooling2**   | Pooling                   | -                             | 3x3             | 2          | 13x13x256              | Max pooling with stride 2.                               |\n",
    "| **Conv3**          | Convolutional             | 384                           | 3x3x256         | 1          | 13x13x384              | Response normalization applied.                          |\n",
    "| **Conv4**          | Convolutional             | 384                           | 3x3x192         | 1          | 13x13x384              | -                                                        |\n",
    "| **Conv5**          | Convolutional             | 256                           | 3x3x192         | 1          | 13x13x256              | -                                                        |\n",
    "| **FC1**            | Fully Connected (Dense)   | -                             | -               | -          | 4096                   | -                                                        |\n",
    "| **FC2**            | Fully Connected (Dense)   | -                             | -               | -          | 4096                   | -                                                        |\n",
    "| **FC3**            | Fully Connected (Dense)   | -                             | -               | -          | 1000                   | Output layer with 1000 classes (for classification).     |\n",
    "| **Output Layer**   | Softmax (for classification) | -                          | -               | -          | 1000                   | Final output (probabilities for 1000 classes).           |\n",
    "\n",
    "We note that the general formula for output size is:  \n",
    "**[(N + 2P – F) / s + 1]**, where:\n",
    "\n",
    "- **N**: Input dimension (NxN)  \n",
    "- **F**: Kernel (filter) size  \n",
    "- **P**: Padding (used to preserve spatial dimensions)  \n",
    "- **s**: Stride\n",
    "\n",
    "**Total neurons:** 650K  \n",
    "**Total connections (weights):** 60M\n"
   ]
  },
  {
   "cell_type": "markdown",
   "metadata": {
    "id": "bK_BZ_DHYiWf"
   },
   "source": [
    "\n",
    "\n",
    "![Screenshot 2025-04-16 002412.png](data:image/png;base64,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)"
   ]
  },
  {
   "cell_type": "markdown",
   "metadata": {
    "id": "6dduE72H7gLX"
   },
   "source": [
    "### Techniques for Better Generalization\n",
    "\n",
    "### Data Augmentation\n",
    "\n",
    "To reduce overfitting, two main forms of data augmentation are used:\n",
    "\n",
    "1. **Random Crops & Reflections**:\n",
    "   - Random 224×224 patches (and their horizontal reflections) are extracted from the original 256×256 images.\n",
    "   - This significantly increases the size of the training set without needing to store additional images.\n",
    "\n",
    "2. **Brightness & Color Variations (PCA-based Augmentation)**:\n",
    "   - PCA is performed on the RGB pixel values and random variations are added along the principal components.\n",
    "   - This simulates changes in lighting and color conditions in the environment.\n",
    "\n",
    "These techniques contribute to **improving the network's generalization** and reduce the top-1 error rate by **more than 1%**.\n",
    "\n",
    "---\n",
    "\n",
    "### Dropout\n",
    "\n",
    "- Applied to the first two fully connected layers.\n",
    "- During training, each neuron is \"turned off\" with a probability of 0.5.\n",
    "- The network learns **more general and robust features**, since it cannot rely on specific neurons.\n",
    "- During testing, all neurons are active, but their outputs are scaled by 0.5 to simulate the training behavior.\n",
    "- Dropout is highly effective for **preventing overfitting**, although it slows convergence (roughly doubles the number of iterations).\n",
    "\n",
    "---\n"
   ]
  },
  {
   "cell_type": "markdown",
   "metadata": {
    "id": "mmPdkgvLAMAQ"
   },
   "source": [
    "### Experimental Results\n",
    "\n",
    "The following tables summarize the performance of the CNN model compared to other methods across various ImageNet datasets, as reported in the paper.\n",
    "\n",
    "### Table 1: ILSVRC-2010\n",
    "\n",
    "| Model              | Top-1  | Top-5  |\n",
    "|--------------------|--------|--------|\n",
    "| Sparse coding      | 47.1%  | 28.2%  |\n",
    "| SIFT + FVs         | 45.7%  | 25.7%  |\n",
    "| **CNN (AlexNet)**  | **37.5%**  | **17.0%**  |\n",
    "\n",
    "The CNN clearly outperforms traditional feature representation methods (e.g., SIFT, FVs).\n",
    "\n",
    "---\n",
    "\n",
    "### Table 2: ILSVRC-2012\n",
    "\n",
    "| Model                  | Top-1 (val) | Top-5 (val) | Top-5 (test) |\n",
    "|------------------------|-------------|-------------|--------------|\n",
    "| SIFT + FVs             | —           | —           | 26.2%        |\n",
    "| 1 CNN                  | 40.7%       | 18.2%       | —            |\n",
    "| 5 CNNs                 | 38.1%       | 16.4%       | **16.4%**    |\n",
    "| 1 CNN* (fine-tuned)    | 39.0%       | 16.6%       | —            |\n",
    "| 7 CNNs* (ensemble)     | **36.7%**   | **15.4%**   | **15.3%**    |\n",
    "\n",
    "> The symbol `*` refers to models pre-trained on a larger dataset (Fall 2011, 22K classes) and then fine-tuned on ILSVRC-2012.\n",
    "\n",
    "**Conclusions**:\n",
    "- The CNN (AlexNet) significantly outperforms classical approaches.\n",
    "- Combining multiple CNNs (ensemble) further reduces the error rate.\n",
    "- Fine-tuning on a large dataset leads to improved accuracy.\n",
    "\n",
    "---\n",
    "\n",
    "*The tables report Top-1 and Top-5 error rates: the percentage of cases where the correct label was not the top prediction (Top-1), or not among the top five predictions (Top-5).*\n"
   ]
  },
  {
   "cell_type": "markdown",
   "metadata": {
    "id": "HgBu5IxoBAMb"
   },
   "source": [
    "# Paper 3: VERY DEEP CONVOLUTIONAL NETWORKS FOR LARGE-SCALE IMAGE RECOGNITION (VGG)\n",
    "\n",
    "This paper introduced a simple yet highly effective CNN architectural pattern, known as **VGGNet**, which achieved state-of-the-art performance in the ILSVRC 2014 competition. Its key contribution was the use of **very deep networks** (up to 19 weight layers) that rely entirely on **small 3×3 filters** across the entire architecture. This design allowed for better feature representation without a significant increase in the number of parameters.\n",
    "\n",
    "The paper presents several variants, so we will provide a general overview of the architecture, rather than a detailed layer-by-layer breakdown like in the previous models.\n",
    "\n",
    "| Component             | Description                                                                  |\n",
    "|-----------------------|------------------------------------------------------------------------------|\n",
    "| Input                 | RGB image of size 224×224                                                    |\n",
    "| Conv Layers           | Small 3×3 filters, stride 1, padding 1                                       |\n",
    "| 1×1 Conv              | (used in some variants, e.g., configuration C)                               |\n",
    "| Max-Pooling           | 2×2 window with stride 2                                                     |\n",
    "| Fully Connected Layers| 2 × 4096 neurons + 1 × 1000 (final softmax for ILSVRC classification)        |\n",
    "| Activation Function   | ReLU used in all hidden layers                                               |\n",
    "| Network Depth         | 11 to 19 weight layers (8–16 conv + 3 FC)                                    |\n",
    "| No LRN                | Not used, as it showed no improvement on ImageNet performance                |\n",
    "\n",
    "---\n",
    "\n",
    "### Methods for Improving Generalization\n",
    "\n",
    "To avoid overfitting and improve generalization, the authors used:\n",
    "\n",
    "- **Data Augmentation**: Random crops, horizontal flips, and RGB jittering applied to the training set.\n",
    "- **Dropout**: Applied to the fully connected (FC) layers with a dropout probability of 0.5.\n",
    "- **Weight Decay (L2 Regularization)**: Added as a penalty term in the loss function to discourage overfitting.\n",
    "\n",
    "VGG’s main innovation was using many small kernels, resulting in deeper networks. Additionally, it starts with 64 feature maps and **doubles them after each pooling layer**.\n",
    "\n",
    "These techniques, combined with a deep yet orderly architecture, led VGGNet to achieve excellent classification accuracy.\n",
    "\n",
    "## VGGNet Performance (ILSVRC 2014)\n",
    "\n",
    "- **Top-1 error (single model):** ~24.4%  \n",
    "- **Top-5 error (single model):** **7.3%**  \n",
    "- **Top-5 error (ensemble):** ~6.8%\n"
   ]
  },
  {
   "cell_type": "markdown",
   "metadata": {
    "id": "yxDZ_EjvWV0l"
   },
   "source": [
    "# Comparative Overview: LeNet, AlexNet & VGGNet\n",
    "\n",
    "| Characteristic             | LeNet (1998)              | AlexNet (2012)                 | VGGNet (2014)                  |\n",
    "|---------------------------|---------------------------|--------------------------------|-------------------------------|\n",
    "| Depth                     | ~7 layers                 | 8 (5 Conv + 3 FC)              | 11–19 (16 Conv + 3 FC)        |\n",
    "| Conv Filters              | 5×5                       | 11×11, 5×5, 3×3                | 3×3 (throughout the network)  |\n",
    "| Stride                    | 1                         | 4 (initial), 1 in later layers | 1                             |\n",
    "| Padding                   | No                        | Yes (to preserve dimensions)   | Yes (usually 1 pixel)         |\n",
    "| Activation Function       | tanh/sigmoid              | ReLU                           | ReLU                          |\n",
    "| Parameters                | ~98K                      | ~60M                           | ~133M                         |\n",
    "| Pooling                   | Average Pooling           | Max Pooling (3×3, stride 2)    | Max Pooling (2×2, stride 2)   |\n",
    "| Dropout                   | No                        | Yes (in FC layers)             | Yes (in FC layers)            |\n",
    "| Data Augmentation         | No                        | Yes (cropping, flip, PCA)      | Yes (cropping, flip)          |\n",
    "| Accuracy                  | 3.4% (error rate)         | 17.0% (Top-5 error)            | **7.3%** (Top-5 error)        |\n",
    "\n",
    "**Note: LeNet's low error rate is due to the much simpler problem (10 classes, e.g., MNIST).**\n",
    "\n",
    "---\n",
    "\n",
    "## Remarks\n",
    "\n",
    "- **LeNet-5** was revolutionary at its time, but designed for simple grayscale images. It uses tanh/sigmoid activations and very few parameters, without dropout or data augmentation.\n",
    "- **AlexNet** introduced ReLU, dropout, data augmentation, and leveraged GPU training.\n",
    "- **VGGNet** focused on **increasing depth** using small filters (3×3) across the architecture.\n",
    "\n",
    "The performance improves significantly from LeNet → AlexNet → VGGNet, mainly due to better architectural design, more data, and stronger regularization techniques.\n"
   ]
  },
  {
   "cell_type": "markdown",
   "metadata": {
    "id": "SSo_GsFytW_l"
   },
   "source": [
    "# Part Β: Implementation"
   ]
  },
  {
   "cell_type": "markdown",
   "metadata": {
    "id": "DfEMjsB4Yurm"
   },
   "source": [
    "### Introduction and Overview of the Dataset\n"
   ]
  },
  {
   "cell_type": "code",
   "execution_count": null,
   "metadata": {
    "id": "STXQMBuN3nZ6"
   },
   "outputs": [],
   "source": [
    "from __future__ import absolute_import, division, print_function, unicode_literals # legacy compatibility\n",
    "\n",
    "import numpy as np\n",
    "import pandas as pd\n",
    "import matplotlib.pyplot as plt"
   ]
  },
  {
   "cell_type": "code",
   "execution_count": null,
   "metadata": {
    "colab": {
     "base_uri": "https://localhost:8080/",
     "height": 53
    },
    "collapsed": true,
    "executionInfo": {
     "elapsed": 23,
     "status": "ok",
     "timestamp": 1746449708328,
     "user": {
      "displayName": "κυριακος «kyriakos» κατσιαδραμης",
      "userId": "14339214325585293356"
     },
     "user_tz": -180
    },
    "id": "2WSEGPI9Q7tW",
    "outputId": "f7a3b5fd-4d1e-487e-8dda-054cc58476e4"
   },
   "outputs": [
    {
     "data": {
      "application/vnd.google.colaboratory.intrinsic+json": {
       "type": "string"
      },
      "text/plain": [
       "\"\\nΕXAMPLE:\\n\\nunfiltered_list = [(1, 'image1'), (2, 'image2'), (3, 'image3'), (1, 'image4')]\\ntarget_list = [1, 3]\\n\\nget_ds_index(unfiltered_list, target_list)\\n# --> [0, 2, 3]\\n\\n\""
      ]
     },
     "execution_count": 2,
     "metadata": {},
     "output_type": "execute_result"
    }
   ],
   "source": [
    "# helper functions\n",
    "\n",
    "# select from from_list elements with index in index_list\n",
    "def select_from_list(from_list, index_list):\n",
    "  filtered_list= [from_list[i] for i in index_list]\n",
    "  return(filtered_list)\n",
    "\n",
    "# append in filtered_list the index of each element of unfilterd_list if it exists in in target_list\n",
    "def get_ds_index(unfiliterd_list, target_list):\n",
    "  index = 0\n",
    "  filtered_list=[]\n",
    "  for i_ in unfiliterd_list:\n",
    "    if i_[0] in target_list:\n",
    "      filtered_list.append(index)\n",
    "    index += 1\n",
    "  return(filtered_list)\n",
    "#usefull if we want to keep specific labels\n",
    "\"\"\"\n",
    "ΕXAMPLE:\n",
    "\n",
    "unfiltered_list = [(1, 'image1'), (2, 'image2'), (3, 'image3'), (1, 'image4')]\n",
    "target_list = [1, 3]\n",
    "\n",
    "get_ds_index(unfiltered_list, target_list)\n",
    "# --> [0, 2, 3]\n",
    "\n",
    "\"\"\"\n"
   ]
  },
  {
   "cell_type": "markdown",
   "metadata": {
    "id": "C2QtijpxyE_i"
   },
   "source": [
    "### Exploring the dataset"
   ]
  },
  {
   "cell_type": "code",
   "execution_count": null,
   "metadata": {
    "colab": {
     "base_uri": "https://localhost:8080/"
    },
    "executionInfo": {
     "elapsed": 9339,
     "status": "ok",
     "timestamp": 1746449717668,
     "user": {
      "displayName": "κυριακος «kyriakos» κατσιαδραμης",
      "userId": "14339214325585293356"
     },
     "user_tz": -180
    },
    "id": "OCW71UaGzz0Q",
    "outputId": "d9675b12-026a-4b75-a484-252228981bf1"
   },
   "outputs": [
    {
     "name": "stdout",
     "output_type": "stream",
     "text": [
      "Downloading data from https://www.cs.toronto.edu/~kriz/cifar-100-python.tar.gz\n",
      "\u001b[1m169001437/169001437\u001b[0m \u001b[32m━━━━━━━━━━━━━━━━━━━━\u001b[0m\u001b[37m\u001b[0m \u001b[1m4s\u001b[0m 0us/step\n"
     ]
    }
   ],
   "source": [
    "# load the entire dataset\n",
    "import tensorflow as tf\n",
    "from tensorflow.keras import datasets, layers, models\n",
    "\n",
    "(x_train_all, y_train_all), (x_test_all, y_test_all) = tf.keras.datasets.cifar100.load_data(label_mode='fine')"
   ]
  },
  {
   "cell_type": "code",
   "execution_count": null,
   "metadata": {
    "colab": {
     "base_uri": "https://localhost:8080/"
    },
    "executionInfo": {
     "elapsed": 18,
     "status": "ok",
     "timestamp": 1746449717688,
     "user": {
      "displayName": "κυριακος «kyriakos» κατσιαδραμης",
      "userId": "14339214325585293356"
     },
     "user_tz": -180
    },
    "id": "kGKYHffEE1do",
    "outputId": "a7cc2629-af99-4759-e393-21e93ef608ac"
   },
   "outputs": [
    {
     "name": "stdout",
     "output_type": "stream",
     "text": [
      "(50000, 32, 32, 3)\n"
     ]
    }
   ],
   "source": [
    "print(x_train_all.shape) #RGB 32x32"
   ]
  },
  {
   "cell_type": "markdown",
   "metadata": {
    "id": "9PO9wIwYUf0R"
   },
   "source": [
    "Each team will work with a different subset of the dataset.  \n",
    "In the next cell, replace the value of the `team_seed` variable with the number corresponding to your team.\n"
   ]
  },
  {
   "cell_type": "code",
   "execution_count": null,
   "metadata": {
    "colab": {
     "base_uri": "https://localhost:8080/",
     "height": 53
    },
    "executionInfo": {
     "elapsed": 47,
     "status": "ok",
     "timestamp": 1746449717735,
     "user": {
      "displayName": "κυριακος «kyriakos» κατσιαδραμης",
      "userId": "14339214325585293356"
     },
     "user_tz": -180
    },
    "id": "RhbZJW6PxUDJ",
    "outputId": "33acf23a-a8d6-4286-a7ca-50a9d4429f01"
   },
   "outputs": [
    {
     "data": {
      "application/vnd.google.colaboratory.intrinsic+json": {
       "type": "string"
      },
      "text/plain": [
       "'\\n# select from CIFAR100 20 classes\\ncifar100_classes_url = \"https://pastebin.com/raw/nzE1n98V\"#its a .csv which contains\\n                                                          #20 labels in each line\\n'"
      ]
     },
     "execution_count": 5,
     "metadata": {},
     "output_type": "execute_result"
    }
   ],
   "source": [
    "# REPLACE WITH YOUR TEAM NUMBER\n",
    "team_seed = 868\n",
    "\"\"\"\n",
    "# select from CIFAR100 20 classes\n",
    "cifar100_classes_url = \"https://pastebin.com/raw/nzE1n98V\"#its a .csv which contains\n",
    "                                                          #20 labels in each line\n",
    "\"\"\"\n"
   ]
  },
  {
   "cell_type": "code",
   "execution_count": null,
   "metadata": {
    "id": "vFx2BVXJQMT-"
   },
   "outputs": [],
   "source": [
    "import requests\n",
    "import pandas as pd\n",
    "from io import StringIO\n",
    "\n",
    "# Download team_classes\n",
    "response1 = requests.get(\"https://pastebin.com/raw/nzE1n98V\")\n",
    "data = StringIO(response1.text)\n",
    "team_classes = pd.read_csv(data, sep=\",\", header=None)\n",
    "\n",
    "# Download label names\n",
    "response2 = requests.get(\"https://pastebin.com/raw/qgDaNggt\")\n",
    "data_labels = StringIO(response2.text)\n",
    "CIFAR100_LABELS_LIST = pd.read_csv(data_labels, sep=\",\", header=None).astype(str).values.tolist()[0]\n"
   ]
  },
  {
   "cell_type": "code",
   "execution_count": null,
   "metadata": {
    "colab": {
     "base_uri": "https://localhost:8080/"
    },
    "executionInfo": {
     "elapsed": 17,
     "status": "ok",
     "timestamp": 1746449718605,
     "user": {
      "displayName": "κυριακος «kyriakos» κατσιαδραμης",
      "userId": "14339214325585293356"
     },
     "user_tz": -180
    },
    "id": "LLbNSoTfSAZk",
    "outputId": "f1669275-e5b8-4e70-b5f5-84fd1f2c9a84"
   },
   "outputs": [
    {
     "name": "stdout",
     "output_type": "stream",
     "text": [
      "(200, 20)\n"
     ]
    }
   ],
   "source": [
    "\"\"\"\n",
    "με team seed = 868 παιρνουμε out of bounds error\n",
    "αφου εχουμε μονο 200 γραμμές\n",
    "\n",
    "\"\"\"\n",
    "print(team_classes.shape)\n",
    "team_seed = 144"
   ]
  },
  {
   "cell_type": "markdown",
   "metadata": {
    "id": "yO9f6wb0Wi0H"
   },
   "source": [
    "Δημιουργούμε το μοναδικό dataset της ομάδας μας:"
   ]
  },
  {
   "cell_type": "code",
   "execution_count": null,
   "metadata": {
    "id": "PgIN2h_KuCp_"
   },
   "outputs": [],
   "source": [
    "#team_classes = pd.read_csv(cifar100_classes_url, sep=',', header=None)\n",
    "#CIFAR100_LABELS_LIST = pd.read_csv('https://pastebin.com/raw/qgDaNggt', sep=',', header=None).astype(str).values.tolist()[0] #all the categories in strings\n",
    "\n",
    "\n",
    "\n",
    "our_index = team_classes.iloc[team_seed,:].values.tolist() #get the line 868 -> 20 classes idxs\n",
    "our_classes = select_from_list(CIFAR100_LABELS_LIST, our_index) #get the name of our clases\n",
    "train_index = get_ds_index(y_train_all, our_index) #get the idxs samples that belongs tou our classes\n",
    "test_index = get_ds_index(y_test_all, our_index)\n",
    "\n",
    "x_train_ds = np.asarray(select_from_list(x_train_all, train_index))\n",
    "y_train_ds = np.asarray(select_from_list(y_train_all, train_index))\n",
    "x_test_ds = np.asarray(select_from_list(x_test_all, test_index))\n",
    "y_test_ds = np.asarray(select_from_list(y_test_all, test_index))"
   ]
  },
  {
   "cell_type": "code",
   "execution_count": null,
   "metadata": {
    "colab": {
     "base_uri": "https://localhost:8080/"
    },
    "executionInfo": {
     "elapsed": 16,
     "status": "ok",
     "timestamp": 1746449718787,
     "user": {
      "displayName": "κυριακος «kyriakos» κατσιαδραμης",
      "userId": "14339214325585293356"
     },
     "user_tz": -180
    },
    "id": "_B4-tvVOQq3j",
    "outputId": "8cee45fd-41e7-4602-82d1-99529cd63c48"
   },
   "outputs": [
    {
     "name": "stdout",
     "output_type": "stream",
     "text": [
      "The classes that we have are 20:\n",
      "[' bee', ' boy', ' bridge', ' bus', ' can', ' cattle', ' clock', ' dolphin', ' flatfish', ' lion', ' motorcycle', ' orchid', ' possum', ' seal', ' shrew', ' snake', ' spider', ' sweet_pepper', ' television', ' wolf']\n"
     ]
    }
   ],
   "source": [
    "# print our classes\n",
    "print(f\"The classes that we have are {len(our_classes)}:\")\n",
    "print(our_classes)"
   ]
  },
  {
   "cell_type": "code",
   "execution_count": null,
   "metadata": {
    "colab": {
     "base_uri": "https://localhost:8080/"
    },
    "executionInfo": {
     "elapsed": 15,
     "status": "ok",
     "timestamp": 1746449718803,
     "user": {
      "displayName": "κυριακος «kyriakos» κατσιαδραμης",
      "userId": "14339214325585293356"
     },
     "user_tz": -180
    },
    "id": "bk5wy0u7GGMj",
    "outputId": "0312afbc-43e3-4508-85ec-87c80cef61a2"
   },
   "outputs": [
    {
     "name": "stdout",
     "output_type": "stream",
     "text": [
      "Images of shape:\n",
      "(32, 32, 3)\n"
     ]
    }
   ],
   "source": [
    "print(\"Images of shape:\")\n",
    "print(x_train_ds[1].shape)"
   ]
  },
  {
   "cell_type": "code",
   "execution_count": null,
   "metadata": {
    "colab": {
     "base_uri": "https://localhost:8080/",
     "height": 597
    },
    "executionInfo": {
     "elapsed": 979,
     "status": "ok",
     "timestamp": 1746449719795,
     "user": {
      "displayName": "κυριακος «kyriakos» κατσιαδραμης",
      "userId": "14339214325585293356"
     },
     "user_tz": -180
    },
    "id": "QpGXgTs_5ZCk",
    "outputId": "842ba1fa-67bf-457e-b542-57f943ee7457"
   },
   "outputs": [
    {
     "name": "stdout",
     "output_type": "stream",
     "text": [
      "Train: X=(8500, 32, 32, 3), y=(8500, 1)\n",
      "Validation: X=(1500, 32, 32, 3), y=(1500, 1)\n",
      "Test: X=(2000, 32, 32, 3), y=(2000, 1)\n"
     ]
    },
    {
     "data": {
      "image/png": "[encoded data removed]",
      "text/plain": [
       "<Figure size 600x600 with 9 Axes>"
      ]
     },
     "metadata": {},
     "output_type": "display_data"
    }
   ],
   "source": [
    "# get (train) dataset dimensions\n",
    "data_size, img_rows, img_cols, img_channels = x_train_ds.shape\n",
    "\n",
    "# set validation set percentage (wrt the training set size)\n",
    "validation_percentage = 0.15\n",
    "val_size = round(validation_percentage * data_size)\n",
    "\n",
    "\n",
    "# Reserve val_size samples for validation and normalize all values\n",
    "x_val = x_train_ds[-val_size:] #takes the last val_size elements, regulization to [0-1]\n",
    "y_val = y_train_ds[-val_size:]\n",
    "x_train = x_train_ds[:-val_size] #the rest for training\n",
    "y_train = y_train_ds[:-val_size]\n",
    "x_test = x_test_ds\n",
    "y_test = y_test_ds\n",
    "\n",
    "#Firstly convert to float because the images may be unit8\n",
    "x_train = (x_train.astype('float32') / 255.0)\n",
    "x_val   = (x_val.astype('float32')   / 255.0)\n",
    "x_test  = (x_test.astype('float32')  / 255.0)\n",
    "\n",
    "y_train = np.array(y_train, dtype=np.int32)\n",
    "y_val = np.array(y_val, dtype=np.int32)\n",
    "y_test = np.array(y_test, dtype=np.int32)\n",
    "\n",
    "\n",
    "# summarize loaded dataset\n",
    "print('Train: X=%s, y=%s' % (x_train.shape, y_train.shape))\n",
    "print('Validation: X=%s, y=%s' % (x_val.shape, y_val.shape))\n",
    "print('Test: X=%s, y=%s' % (x_test.shape, y_test.shape))\n",
    "\n",
    "# get class label from class index (returns the name of the class)\n",
    "def class_label_from_index(fine_category):\n",
    "  return(CIFAR100_LABELS_LIST[fine_category.item(0)])\n",
    "\n",
    "# plot first few images\n",
    "plt.figure(figsize=(6, 6))\n",
    "for i in range(9):\n",
    "\t# define subplot\n",
    "  plt.subplot(330 + 1 + i).set_title(class_label_from_index(y_train[i]))\n",
    "\t# plot raw pixel data\n",
    "  plt.imshow(x_train[i], cmap=plt.get_cmap('gray'))\n",
    "  #show the figure\n",
    "plt.show()"
   ]
  },
  {
   "cell_type": "code",
   "execution_count": null,
   "metadata": {
    "colab": {
     "base_uri": "https://localhost:8080/"
    },
    "executionInfo": {
     "elapsed": 40,
     "status": "ok",
     "timestamp": 1746449719849,
     "user": {
      "displayName": "κυριακος «kyriakos» κατσιαδραμης",
      "userId": "14339214325585293356"
     },
     "user_tz": -180
    },
    "id": "dh19MFD832QW",
    "outputId": "23a6a167-1dc6-4e48-cae2-2f01dd10a166"
   },
   "outputs": [
    {
     "name": "stdout",
     "output_type": "stream",
     "text": [
      "{6: 0, 11: 1, 12: 2, 13: 3, 16: 4, 19: 5, 22: 6, 30: 7, 32: 8, 43: 9, 48: 10, 54: 11, 64: 12, 72: 13, 74: 14, 78: 15, 79: 16, 83: 17, 87: 18, 97: 19}\n"
     ]
    }
   ],
   "source": [
    "#Entropy waits classes with indexes from 0 to 19 so we map the indexes to 0-19\n",
    "mapping = {}\n",
    "for new_label,original_label in enumerate(our_index):\n",
    "  mapping[original_label] = new_label\n",
    "\n",
    "print(mapping)"
   ]
  },
  {
   "cell_type": "code",
   "execution_count": null,
   "metadata": {
    "colab": {
     "base_uri": "https://localhost:8080/"
    },
    "collapsed": true,
    "executionInfo": {
     "elapsed": 6,
     "status": "ok",
     "timestamp": 1746449719856,
     "user": {
      "displayName": "κυριακος «kyriakos» κατσιαδραμης",
      "userId": "14339214325585293356"
     },
     "user_tz": -180
    },
    "id": "FuWmkJofRIu5",
    "outputId": "ca3744c8-6811-44a1-fd47-6609a9b0a140"
   },
   "outputs": [
    {
     "name": "stdout",
     "output_type": "stream",
     "text": [
      "[ 6 11 12 13 16 19 22 30 32 43 48 54 64 72 74 78 79 83 87 97]\n"
     ]
    }
   ],
   "source": [
    "#lets print the distinct values of y before mapping\n",
    "print(np.unique(y_train))\n",
    "\n"
   ]
  },
  {
   "cell_type": "code",
   "execution_count": null,
   "metadata": {
    "colab": {
     "base_uri": "https://localhost:8080/"
    },
    "executionInfo": {
     "elapsed": 12,
     "status": "ok",
     "timestamp": 1746449719886,
     "user": {
      "displayName": "κυριακος «kyriakos» κατσιαδραμης",
      "userId": "14339214325585293356"
     },
     "user_tz": -180
    },
    "id": "2ssnPo6k4iNj",
    "outputId": "802b281c-6922-46d9-d8b0-e5b50a2707c7"
   },
   "outputs": [
    {
     "name": "stdout",
     "output_type": "stream",
     "text": [
      "[ 0  1  2  3  4  5  6  7  8  9 10 11 12 13 14 15 16 17 18 19]\n"
     ]
    }
   ],
   "source": [
    "#mapping the y_train set\n",
    "y_train = np.array([mapping[label[0]] for label in y_train])\n",
    "print(np.unique(y_train))\n"
   ]
  },
  {
   "cell_type": "code",
   "execution_count": null,
   "metadata": {
    "colab": {
     "base_uri": "https://localhost:8080/"
    },
    "collapsed": true,
    "executionInfo": {
     "elapsed": 26,
     "status": "ok",
     "timestamp": 1746449719913,
     "user": {
      "displayName": "κυριακος «kyriakos» κατσιαδραμης",
      "userId": "14339214325585293356"
     },
     "user_tz": -180
    },
    "id": "_nRJfnC07twh",
    "outputId": "6c8781a4-01cf-492f-d5cc-1861ec1df726"
   },
   "outputs": [
    {
     "name": "stdout",
     "output_type": "stream",
     "text": [
      "[ 0  1  2  3  4  5  6  7  8  9 10 11 12 13 14 15 16 17 18 19]\n",
      "[ 0  1  2  3  4  5  6  7  8  9 10 11 12 13 14 15 16 17 18 19]\n"
     ]
    }
   ],
   "source": [
    "#mapping y_val and y_test\n",
    "y_val = np.array([mapping[label[0]] for label in y_val])\n",
    "print(np.unique(y_val))\n",
    "\n",
    "y_test = np.array([mapping[label[0]] for label in y_test])\n",
    "print(np.unique(y_test))"
   ]
  },
  {
   "cell_type": "markdown",
   "metadata": {
    "id": "iAgowxR8oJH7"
   },
   "source": [
    "## Question 1\n",
    "---\n",
    "### Step 1: Design and Training of the Models\n",
    "\n",
    "Design and train the **LeNet, AlexNet, and VGG** models, as well as your own custom model (e.g., name it **MyCNN**), using the same optimization algorithm ([optimizer](https://keras.io/api/optimizers/)), the same [loss function](https://keras.io/api/losses/), the same batch size, and 50 training epochs `*`.\n",
    "\n",
    "To evaluate the performance of the models, use the F1-score as the evaluation [metric](https://keras.io/api/metrics/).\n",
    "\n",
    "`*`  \n",
    "You may experiment with different optimizers, loss functions, and batch sizes for the four models before settling on a final common configuration for all of them.\n",
    "\n",
    "---\n",
    "\n",
    "### Step 2: Model Evaluation\n",
    "\n",
    "a. For each of the models trained in Step 1, plot both the training and validation F1-scores on the same graph across all epochs.\n",
    "\n",
    "b. Thoroughly evaluate your results in terms of:\n",
    " - The impact of the number of data points/classes.\n",
    " - The effect of the optimization algorithm (optimizer).\n",
    " - The influence of the batch size.\n",
    "\n",
    "---\n",
    "\n",
    "### Step 3: F1-score Evaluation  \n",
    "Evaluate the F1-scores using your test set.\n",
    "\n",
    "---\n"
   ]
  },
  {
   "cell_type": "code",
   "execution_count": null,
   "metadata": {
    "id": "SO3L5PsAyJEx"
   },
   "outputs": [],
   "source": [
    "from sklearn.metrics import f1_score\n",
    "from tensorflow.keras.callbacks import Callback\n",
    "import numpy as np"
   ]
  },
  {
   "cell_type": "markdown",
   "metadata": {
    "id": "LVqVLCCOx1QE"
   },
   "source": [
    "**Class for getting f1 score while train/validation**"
   ]
  },
  {
   "cell_type": "code",
   "execution_count": null,
   "metadata": {
    "id": "-KhsrPaIwVck"
   },
   "outputs": [],
   "source": [
    "\"\"\"\n",
    "We can not automatically compute f1 while training.\n",
    "So we will create a callback class which will\n",
    "allow us to \"interupt\" training to compute the f1\n",
    "after every epoch.\n",
    "\n",
    "\"\"\"\n",
    "\n",
    "\n",
    "class F1ScoreCallback(Callback):\n",
    "    def __init__(self, x_train, y_train, x_val, y_val):\n",
    "        super().__init__()\n",
    "        self.x_train = x_train\n",
    "        self.y_train = y_train\n",
    "        self.x_val = x_val\n",
    "        self.y_val = y_val\n",
    "        self.f1_train_scores = []\n",
    "        self.f1_val_scores = []\n",
    "\n",
    "\n",
    "\n",
    "    #this is executed after each epoch (custom method of Callback class)\n",
    "    def on_epoch_end(self, epoch, logs=None):\n",
    "\n",
    "        # Predictions on train and val\n",
    "        logits_train = self.model.predict(self.x_train, verbose=0)\n",
    "        logits_val = self.model.predict(self.x_val, verbose=0)\n",
    "\n",
    "        # Apply softmax to get probabilities\n",
    "        y_train_pred = np.argmax(tf.nn.softmax(logits_train), axis=1)\n",
    "        y_val_pred = np.argmax(tf.nn.softmax(logits_val), axis=1)\n",
    "\n",
    "\n",
    "        y_train_true = self.y_train #.flatten()\n",
    "        y_val_true = self.y_val #.flatten()\n",
    "\n",
    "\n",
    "        #f1 scores\n",
    "        f1_train = f1_score(y_train_true, y_train_pred, average='macro')\n",
    "        f1_val = f1_score(y_val_true, y_val_pred, average='macro')\n",
    "\n",
    "        #append to the ist for plots\n",
    "        self.f1_train_scores.append(f1_train)\n",
    "        self.f1_val_scores.append(f1_val)\n",
    "\n",
    "\n",
    "        print(f\" — f1_train: {f1_train:.4f} — f1_val: {f1_val:.4f}\")\n"
   ]
  },
  {
   "cell_type": "markdown",
   "metadata": {
    "id": "V0VEtHZXwSyx"
   },
   "source": [
    "# LeNet  \n",
    "We begin with the LeNet network, which is a relatively \"lightweight\" model with few parameters.  \n",
    "Below is the implementation class for LeNet, followed by the training process, where we print the F1-score and accuracy for both the training and validation sets in each epoch:\n"
   ]
  },
  {
   "cell_type": "code",
   "execution_count": null,
   "metadata": {
    "id": "O943X5GAV_nO"
   },
   "outputs": [],
   "source": [
    "#Our network\n",
    "\n",
    "class LeNet(tf.keras.Model):\n",
    "\n",
    "    def __init__(self, num_classes=20):\n",
    "        super().__init__()\n",
    "        #self.save_hyperparameters()\n",
    "        self.model = tf.keras.models.Sequential([\n",
    "            tf.keras.layers.Conv2D(filters=4, kernel_size=5,\n",
    "                                   activation='sigmoid', padding='same',  input_shape=(32, 32, 3)),\n",
    "            tf.keras.layers.AvgPool2D(pool_size=2, strides=2),\n",
    "            tf.keras.layers.Conv2D(filters=12, kernel_size=5,\n",
    "                                   activation='sigmoid'),\n",
    "            tf.keras.layers.AvgPool2D(pool_size=2, strides=2),\n",
    "            tf.keras.layers.Flatten(),\n",
    "            tf.keras.layers.Dense(120, activation='sigmoid'), #output = 12(maps)x4x4=192\n",
    "            tf.keras.layers.Dense(84, activation='sigmoid'),\n",
    "            tf.keras.layers.Dense(num_classes)\n",
    "            ])\n",
    "\n",
    "    def call(self, x):\n",
    "      return self.model(x)"
   ]
  },
  {
   "cell_type": "code",
   "execution_count": null,
   "metadata": {
    "colab": {
     "base_uri": "https://localhost:8080/"
    },
    "executionInfo": {
     "elapsed": 923359,
     "status": "ok",
     "timestamp": 1744925331039,
     "user": {
      "displayName": "Νίκος Κατσαϊδώνης",
      "userId": "13489937806515013970"
     },
     "user_tz": -180
    },
    "id": "o246SiXMya_-",
    "outputId": "7e986f86-8a9e-4bcc-f82b-4ca02aa9f96e"
   },
   "outputs": [
    {
     "name": "stderr",
     "output_type": "stream",
     "text": [
      "/usr/local/lib/python3.11/dist-packages/keras/src/layers/convolutional/base_conv.py:107: UserWarning: Do not pass an `input_shape`/`input_dim` argument to a layer. When using Sequential models, prefer using an `Input(shape)` object as the first layer in the model instead.\n",
      "  super().__init__(activity_regularizer=activity_regularizer, **kwargs)\n"
     ]
    },
    {
     "name": "stdout",
     "output_type": "stream",
     "text": [
      "Epoch 1/50\n",
      "\u001b[1m133/133\u001b[0m \u001b[32m━━━━━━━━━━━━━━━━━━━━\u001b[0m\u001b[37m\u001b[0m \u001b[1m0s\u001b[0m 50ms/step - accuracy: 0.0500 - loss: 3.0365 — f1_train: 0.0048 — f1_val: 0.0044\n",
      "\u001b[1m133/133\u001b[0m \u001b[32m━━━━━━━━━━━━━━━━━━━━\u001b[0m\u001b[37m\u001b[0m \u001b[1m16s\u001b[0m 99ms/step - accuracy: 0.0500 - loss: 3.0363 - val_accuracy: 0.0460 - val_loss: 2.9990\n",
      "Epoch 2/50\n",
      "\u001b[1m133/133\u001b[0m \u001b[32m━━━━━━━━━━━━━━━━━━━━\u001b[0m\u001b[37m\u001b[0m \u001b[1m0s\u001b[0m 53ms/step - accuracy: 0.0622 - loss: 2.9840 — f1_train: 0.0552 — f1_val: 0.0481\n",
      "\u001b[1m133/133\u001b[0m \u001b[32m━━━━━━━━━━━━━━━━━━━━\u001b[0m\u001b[37m\u001b[0m \u001b[1m21s\u001b[0m 105ms/step - accuracy: 0.0624 - loss: 2.9836 - val_accuracy: 0.1067 - val_loss: 2.8340\n",
      "Epoch 3/50\n",
      "\u001b[1m132/133\u001b[0m \u001b[32m━━━━━━━━━━━━━━━━━━━\u001b[0m\u001b[37m━\u001b[0m \u001b[1m0s\u001b[0m 51ms/step - accuracy: 0.1283 - loss: 2.7836 — f1_train: 0.0951 — f1_val: 0.0955\n",
      "\u001b[1m133/133\u001b[0m \u001b[32m━━━━━━━━━━━━━━━━━━━━\u001b[0m\u001b[37m\u001b[0m \u001b[1m14s\u001b[0m 102ms/step - accuracy: 0.1283 - loss: 2.7834 - val_accuracy: 0.1540 - val_loss: 2.7502\n",
      "Epoch 4/50\n",
      "\u001b[1m132/133\u001b[0m \u001b[32m━━━━━━━━━━━━━━━━━━━\u001b[0m\u001b[37m━\u001b[0m \u001b[1m0s\u001b[0m 59ms/step - accuracy: 0.1571 - loss: 2.7168 — f1_train: 0.1034 — f1_val: 0.0982\n",
      "\u001b[1m133/133\u001b[0m \u001b[32m━━━━━━━━━━━━━━━━━━━━\u001b[0m\u001b[37m\u001b[0m \u001b[1m20s\u001b[0m 101ms/step - accuracy: 0.1571 - loss: 2.7168 - val_accuracy: 0.1500 - val_loss: 2.7292\n",
      "Epoch 5/50\n",
      "\u001b[1m133/133\u001b[0m \u001b[32m━━━━━━━━━━━━━━━━━━━━\u001b[0m\u001b[37m\u001b[0m \u001b[1m0s\u001b[0m 51ms/step - accuracy: 0.1591 - loss: 2.6996 — f1_train: 0.1442 — f1_val: 0.1420\n",
      "\u001b[1m133/133\u001b[0m \u001b[32m━━━━━━━━━━━━━━━━━━━━\u001b[0m\u001b[37m\u001b[0m \u001b[1m20s\u001b[0m 95ms/step - accuracy: 0.1591 - loss: 2.6994 - val_accuracy: 0.1800 - val_loss: 2.6896\n",
      "Epoch 6/50\n",
      "\u001b[1m133/133\u001b[0m \u001b[32m━━━━━━━━━━━━━━━━━━━━\u001b[0m\u001b[37m\u001b[0m \u001b[1m0s\u001b[0m 47ms/step - accuracy: 0.1847 - loss: 2.6564 — f1_train: 0.1372 — f1_val: 0.1187\n",
      "\u001b[1m133/133\u001b[0m \u001b[32m━━━━━━━━━━━━━━━━━━━━\u001b[0m\u001b[37m\u001b[0m \u001b[1m13s\u001b[0m 95ms/step - accuracy: 0.1847 - loss: 2.6564 - val_accuracy: 0.1627 - val_loss: 2.6605\n",
      "Epoch 7/50\n",
      "\u001b[1m133/133\u001b[0m \u001b[32m━━━━━━━━━━━━━━━━━━━━\u001b[0m\u001b[37m\u001b[0m \u001b[1m0s\u001b[0m 50ms/step - accuracy: 0.1866 - loss: 2.6303 — f1_train: 0.1437 — f1_val: 0.1344\n",
      "\u001b[1m133/133\u001b[0m \u001b[32m━━━━━━━━━━━━━━━━━━━━\u001b[0m\u001b[37m\u001b[0m \u001b[1m21s\u001b[0m 102ms/step - accuracy: 0.1866 - loss: 2.6303 - val_accuracy: 0.1860 - val_loss: 2.6384\n",
      "Epoch 8/50\n",
      "\u001b[1m133/133\u001b[0m \u001b[32m━━━━━━━━━━━━━━━━━━━━\u001b[0m\u001b[37m\u001b[0m \u001b[1m0s\u001b[0m 59ms/step - accuracy: 0.1945 - loss: 2.6133 — f1_train: 0.1549 — f1_val: 0.1465\n",
      "\u001b[1m133/133\u001b[0m \u001b[32m━━━━━━━━━━━━━━━━━━━━\u001b[0m\u001b[37m\u001b[0m \u001b[1m22s\u001b[0m 110ms/step - accuracy: 0.1945 - loss: 2.6132 - val_accuracy: 0.1993 - val_loss: 2.6140\n",
      "Epoch 9/50\n",
      "\u001b[1m132/133\u001b[0m \u001b[32m━━━━━━━━━━━━━━━━━━━\u001b[0m\u001b[37m━\u001b[0m \u001b[1m0s\u001b[0m 57ms/step - accuracy: 0.2056 - loss: 2.5835 — f1_train: 0.1335 — f1_val: 0.1210\n",
      "\u001b[1m133/133\u001b[0m \u001b[32m━━━━━━━━━━━━━━━━━━━━\u001b[0m\u001b[37m\u001b[0m \u001b[1m15s\u001b[0m 113ms/step - accuracy: 0.2056 - loss: 2.5835 - val_accuracy: 0.1760 - val_loss: 2.6386\n",
      "Epoch 10/50\n",
      "\u001b[1m133/133\u001b[0m \u001b[32m━━━━━━━━━━━━━━━━━━━━\u001b[0m\u001b[37m\u001b[0m \u001b[1m0s\u001b[0m 55ms/step - accuracy: 0.1985 - loss: 2.5738 — f1_train: 0.1590 — f1_val: 0.1462\n",
      "\u001b[1m133/133\u001b[0m \u001b[32m━━━━━━━━━━━━━━━━━━━━\u001b[0m\u001b[37m\u001b[0m \u001b[1m18s\u001b[0m 97ms/step - accuracy: 0.1986 - loss: 2.5738 - val_accuracy: 0.1960 - val_loss: 2.6002\n",
      "Epoch 11/50\n",
      "\u001b[1m132/133\u001b[0m \u001b[32m━━━━━━━━━━━━━━━━━━━\u001b[0m\u001b[37m━\u001b[0m \u001b[1m0s\u001b[0m 58ms/step - accuracy: 0.2104 - loss: 2.5716 — f1_train: 0.1656 — f1_val: 0.1385\n",
      "\u001b[1m133/133\u001b[0m \u001b[32m━━━━━━━━━━━━━━━━━━━━\u001b[0m\u001b[37m\u001b[0m \u001b[1m21s\u001b[0m 104ms/step - accuracy: 0.2104 - loss: 2.5715 - val_accuracy: 0.1913 - val_loss: 2.5807\n",
      "Epoch 12/50\n",
      "\u001b[1m132/133\u001b[0m \u001b[32m━━━━━━━━━━━━━━━━━━━\u001b[0m\u001b[37m━\u001b[0m \u001b[1m0s\u001b[0m 48ms/step - accuracy: 0.2178 - loss: 2.5370 — f1_train: 0.1651 — f1_val: 0.1439\n",
      "\u001b[1m133/133\u001b[0m \u001b[32m━━━━━━━━━━━━━━━━━━━━\u001b[0m\u001b[37m\u001b[0m \u001b[1m12s\u001b[0m 93ms/step - accuracy: 0.2177 - loss: 2.5372 - val_accuracy: 0.1907 - val_loss: 2.5852\n",
      "Epoch 13/50\n",
      "\u001b[1m133/133\u001b[0m \u001b[32m━━━━━━━━━━━━━━━━━━━━\u001b[0m\u001b[37m\u001b[0m \u001b[1m0s\u001b[0m 57ms/step - accuracy: 0.2268 - loss: 2.5255 — f1_train: 0.1636 — f1_val: 0.1603\n",
      "\u001b[1m133/133\u001b[0m \u001b[32m━━━━━━━━━━━━━━━━━━━━\u001b[0m\u001b[37m\u001b[0m \u001b[1m23s\u001b[0m 113ms/step - accuracy: 0.2267 - loss: 2.5256 - val_accuracy: 0.2100 - val_loss: 2.5700\n",
      "Epoch 14/50\n",
      "\u001b[1m133/133\u001b[0m \u001b[32m━━━━━━━━━━━━━━━━━━━━\u001b[0m\u001b[37m\u001b[0m \u001b[1m0s\u001b[0m 52ms/step - accuracy: 0.2170 - loss: 2.5281 — f1_train: 0.1864 — f1_val: 0.1623\n",
      "\u001b[1m133/133\u001b[0m \u001b[32m━━━━━━━━━━━━━━━━━━━━\u001b[0m\u001b[37m\u001b[0m \u001b[1m18s\u001b[0m 91ms/step - accuracy: 0.2171 - loss: 2.5280 - val_accuracy: 0.2040 - val_loss: 2.5482\n",
      "Epoch 15/50\n",
      "\u001b[1m133/133\u001b[0m \u001b[32m━━━━━━━━━━━━━━━━━━━━\u001b[0m\u001b[37m\u001b[0m \u001b[1m0s\u001b[0m 49ms/step - accuracy: 0.2296 - loss: 2.4996 — f1_train: 0.1939 — f1_val: 0.1750\n",
      "\u001b[1m133/133\u001b[0m \u001b[32m━━━━━━━━━━━━━━━━━━━━\u001b[0m\u001b[37m\u001b[0m \u001b[1m14s\u001b[0m 105ms/step - accuracy: 0.2296 - loss: 2.4996 - val_accuracy: 0.2153 - val_loss: 2.5398\n",
      "Epoch 16/50\n",
      "\u001b[1m133/133\u001b[0m \u001b[32m━━━━━━━━━━━━━━━━━━━━\u001b[0m\u001b[37m\u001b[0m \u001b[1m0s\u001b[0m 57ms/step - accuracy: 0.2404 - loss: 2.4752 — f1_train: 0.2235 — f1_val: 0.1915\n",
      "\u001b[1m133/133\u001b[0m \u001b[32m━━━━━━━━━━━━━━━━━━━━\u001b[0m\u001b[37m\u001b[0m \u001b[1m14s\u001b[0m 108ms/step - accuracy: 0.2404 - loss: 2.4753 - val_accuracy: 0.2127 - val_loss: 2.5291\n",
      "Epoch 17/50\n",
      "\u001b[1m133/133\u001b[0m \u001b[32m━━━━━━━━━━━━━━━━━━━━\u001b[0m\u001b[37m\u001b[0m \u001b[1m0s\u001b[0m 48ms/step - accuracy: 0.2516 - loss: 2.4546 — f1_train: 0.2185 — f1_val: 0.1947\n",
      "\u001b[1m133/133\u001b[0m \u001b[32m━━━━━━━━━━━━━━━━━━━━\u001b[0m\u001b[37m\u001b[0m \u001b[1m19s\u001b[0m 93ms/step - accuracy: 0.2515 - loss: 2.4547 - val_accuracy: 0.2193 - val_loss: 2.5196\n",
      "Epoch 18/50\n",
      "\u001b[1m133/133\u001b[0m \u001b[32m━━━━━━━━━━━━━━━━━━━━\u001b[0m\u001b[37m\u001b[0m \u001b[1m0s\u001b[0m 47ms/step - accuracy: 0.2497 - loss: 2.4634 — f1_train: 0.2081 — f1_val: 0.1920\n",
      "\u001b[1m133/133\u001b[0m \u001b[32m━━━━━━━━━━━━━━━━━━━━\u001b[0m\u001b[37m\u001b[0m \u001b[1m12s\u001b[0m 91ms/step - accuracy: 0.2497 - loss: 2.4634 - val_accuracy: 0.2227 - val_loss: 2.5191\n",
      "Epoch 19/50\n",
      "\u001b[1m132/133\u001b[0m \u001b[32m━━━━━━━━━━━━━━━━━━━\u001b[0m\u001b[37m━\u001b[0m \u001b[1m0s\u001b[0m 47ms/step - accuracy: 0.2465 - loss: 2.4364 — f1_train: 0.2379 — f1_val: 0.2065\n",
      "\u001b[1m133/133\u001b[0m \u001b[32m━━━━━━━━━━━━━━━━━━━━\u001b[0m\u001b[37m\u001b[0m \u001b[1m12s\u001b[0m 90ms/step - accuracy: 0.2466 - loss: 2.4363 - val_accuracy: 0.2293 - val_loss: 2.4877\n",
      "Epoch 20/50\n",
      "\u001b[1m133/133\u001b[0m \u001b[32m━━━━━━━━━━━━━━━━━━━━\u001b[0m\u001b[37m\u001b[0m \u001b[1m0s\u001b[0m 62ms/step - accuracy: 0.2648 - loss: 2.4049 — f1_train: 0.2382 — f1_val: 0.2123\n",
      "\u001b[1m133/133\u001b[0m \u001b[32m━━━━━━━━━━━━━━━━━━━━\u001b[0m\u001b[37m\u001b[0m \u001b[1m22s\u001b[0m 102ms/step - accuracy: 0.2648 - loss: 2.4050 - val_accuracy: 0.2387 - val_loss: 2.4669\n",
      "Epoch 21/50\n",
      "\u001b[1m132/133\u001b[0m \u001b[32m━━━━━━━━━━━━━━━━━━━\u001b[0m\u001b[37m━\u001b[0m \u001b[1m0s\u001b[0m 91ms/step - accuracy: 0.2716 - loss: 2.3994 — f1_train: 0.2415 — f1_val: 0.2212\n",
      "\u001b[1m133/133\u001b[0m \u001b[32m━━━━━━━━━━━━━━━━━━━━\u001b[0m\u001b[37m\u001b[0m \u001b[1m28s\u001b[0m 160ms/step - accuracy: 0.2717 - loss: 2.3994 - val_accuracy: 0.2420 - val_loss: 2.4684\n",
      "Epoch 22/50\n",
      "\u001b[1m132/133\u001b[0m \u001b[32m━━━━━━━━━━━━━━━━━━━\u001b[0m\u001b[37m━\u001b[0m \u001b[1m0s\u001b[0m 64ms/step - accuracy: 0.2701 - loss: 2.3833 — f1_train: 0.2570 — f1_val: 0.2241\n",
      "\u001b[1m133/133\u001b[0m \u001b[32m━━━━━━━━━━━━━━━━━━━━\u001b[0m\u001b[37m\u001b[0m \u001b[1m34s\u001b[0m 105ms/step - accuracy: 0.2701 - loss: 2.3832 - val_accuracy: 0.2467 - val_loss: 2.4360\n",
      "Epoch 23/50\n",
      "\u001b[1m132/133\u001b[0m \u001b[32m━━━━━━━━━━━━━━━━━━━\u001b[0m\u001b[37m━\u001b[0m \u001b[1m0s\u001b[0m 57ms/step - accuracy: 0.2830 - loss: 2.3460 — f1_train: 0.2754 — f1_val: 0.2560\n",
      "\u001b[1m133/133\u001b[0m \u001b[32m━━━━━━━━━━━━━━━━━━━━\u001b[0m\u001b[37m\u001b[0m \u001b[1m14s\u001b[0m 108ms/step - accuracy: 0.2830 - loss: 2.3462 - val_accuracy: 0.2687 - val_loss: 2.4176\n",
      "Epoch 24/50\n",
      "\u001b[1m133/133\u001b[0m \u001b[32m━━━━━━━━━━━━━━━━━━━━\u001b[0m\u001b[37m\u001b[0m \u001b[1m0s\u001b[0m 48ms/step - accuracy: 0.2890 - loss: 2.3485 — f1_train: 0.2727 — f1_val: 0.2410\n",
      "\u001b[1m133/133\u001b[0m \u001b[32m━━━━━━━━━━━━━━━━━━━━\u001b[0m\u001b[37m\u001b[0m \u001b[1m19s\u001b[0m 99ms/step - accuracy: 0.2890 - loss: 2.3485 - val_accuracy: 0.2593 - val_loss: 2.4007\n",
      "Epoch 25/50\n",
      "\u001b[1m132/133\u001b[0m \u001b[32m━━━━━━━━━━━━━━━━━━━\u001b[0m\u001b[37m━\u001b[0m \u001b[1m0s\u001b[0m 48ms/step - accuracy: 0.3010 - loss: 2.2980 — f1_train: 0.2784 — f1_val: 0.2543\n",
      "\u001b[1m133/133\u001b[0m \u001b[32m━━━━━━━━━━━━━━━━━━━━\u001b[0m\u001b[37m\u001b[0m \u001b[1m12s\u001b[0m 93ms/step - accuracy: 0.3009 - loss: 2.2982 - val_accuracy: 0.2740 - val_loss: 2.3823\n",
      "Epoch 26/50\n",
      "\u001b[1m132/133\u001b[0m \u001b[32m━━━━━━━━━━━━━━━━━━━\u001b[0m\u001b[37m━\u001b[0m \u001b[1m0s\u001b[0m 57ms/step - accuracy: 0.3070 - loss: 2.2760 — f1_train: 0.2765 — f1_val: 0.2457\n",
      "\u001b[1m133/133\u001b[0m \u001b[32m━━━━━━━━━━━━━━━━━━━━\u001b[0m\u001b[37m\u001b[0m \u001b[1m21s\u001b[0m 93ms/step - accuracy: 0.3070 - loss: 2.2762 - val_accuracy: 0.2687 - val_loss: 2.3827\n",
      "Epoch 27/50\n",
      "\u001b[1m132/133\u001b[0m \u001b[32m━━━━━━━━━━━━━━━━━━━\u001b[0m\u001b[37m━\u001b[0m \u001b[1m0s\u001b[0m 57ms/step - accuracy: 0.3079 - loss: 2.2748 — f1_train: 0.2879 — f1_val: 0.2633\n",
      "\u001b[1m133/133\u001b[0m \u001b[32m━━━━━━━━━━━━━━━━━━━━\u001b[0m\u001b[37m\u001b[0m \u001b[1m22s\u001b[0m 107ms/step - accuracy: 0.3079 - loss: 2.2749 - val_accuracy: 0.2827 - val_loss: 2.3723\n",
      "Epoch 28/50\n",
      "\u001b[1m133/133\u001b[0m \u001b[32m━━━━━━━━━━━━━━━━━━━━\u001b[0m\u001b[37m\u001b[0m \u001b[1m0s\u001b[0m 76ms/step - accuracy: 0.3037 - loss: 2.2900 — f1_train: 0.3037 — f1_val: 0.2726\n",
      "\u001b[1m133/133\u001b[0m \u001b[32m━━━━━━━━━━━━━━━━━━━━\u001b[0m\u001b[37m\u001b[0m \u001b[1m15s\u001b[0m 115ms/step - accuracy: 0.3037 - loss: 2.2898 - val_accuracy: 0.2880 - val_loss: 2.3450\n",
      "Epoch 29/50\n",
      "\u001b[1m133/133\u001b[0m \u001b[32m━━━━━━━━━━━━━━━━━━━━\u001b[0m\u001b[37m\u001b[0m \u001b[1m0s\u001b[0m 81ms/step - accuracy: 0.3254 - loss: 2.2223 — f1_train: 0.3042 — f1_val: 0.2864\n",
      "\u001b[1m133/133\u001b[0m \u001b[32m━━━━━━━━━━━━━━━━━━━━\u001b[0m\u001b[37m\u001b[0m \u001b[1m23s\u001b[0m 136ms/step - accuracy: 0.3254 - loss: 2.2225 - val_accuracy: 0.3047 - val_loss: 2.3415\n",
      "Epoch 30/50\n",
      "\u001b[1m133/133\u001b[0m \u001b[32m━━━━━━━━━━━━━━━━━━━━\u001b[0m\u001b[37m\u001b[0m \u001b[1m0s\u001b[0m 106ms/step - accuracy: 0.3209 - loss: 2.2348 — f1_train: 0.3047 — f1_val: 0.2831\n",
      "\u001b[1m133/133\u001b[0m \u001b[32m━━━━━━━━━━━━━━━━━━━━\u001b[0m\u001b[37m\u001b[0m \u001b[1m25s\u001b[0m 186ms/step - accuracy: 0.3209 - loss: 2.2347 - val_accuracy: 0.3047 - val_loss: 2.3205\n",
      "Epoch 31/50\n",
      "\u001b[1m133/133\u001b[0m \u001b[32m━━━━━━━━━━━━━━━━━━━━\u001b[0m\u001b[37m\u001b[0m \u001b[1m0s\u001b[0m 85ms/step - accuracy: 0.3255 - loss: 2.2223 — f1_train: 0.3097 — f1_val: 0.2806\n",
      "\u001b[1m133/133\u001b[0m \u001b[32m━━━━━━━━━━━━━━━━━━━━\u001b[0m\u001b[37m\u001b[0m \u001b[1m34s\u001b[0m 131ms/step - accuracy: 0.3255 - loss: 2.2223 - val_accuracy: 0.3020 - val_loss: 2.3058\n",
      "Epoch 32/50\n",
      "\u001b[1m133/133\u001b[0m \u001b[32m━━━━━━━━━━━━━━━━━━━━\u001b[0m\u001b[37m\u001b[0m \u001b[1m0s\u001b[0m 50ms/step - accuracy: 0.3285 - loss: 2.2065 — f1_train: 0.3164 — f1_val: 0.2876\n",
      "\u001b[1m133/133\u001b[0m \u001b[32m━━━━━━━━━━━━━━━━━━━━\u001b[0m\u001b[37m\u001b[0m \u001b[1m13s\u001b[0m 101ms/step - accuracy: 0.3285 - loss: 2.2065 - val_accuracy: 0.3047 - val_loss: 2.2933\n",
      "Epoch 33/50\n",
      "\u001b[1m133/133\u001b[0m \u001b[32m━━━━━━━━━━━━━━━━━━━━\u001b[0m\u001b[37m\u001b[0m \u001b[1m0s\u001b[0m 48ms/step - accuracy: 0.3282 - loss: 2.2020 — f1_train: 0.3218 — f1_val: 0.2832\n",
      "\u001b[1m133/133\u001b[0m \u001b[32m━━━━━━━━━━━━━━━━━━━━\u001b[0m\u001b[37m\u001b[0m \u001b[1m12s\u001b[0m 94ms/step - accuracy: 0.3282 - loss: 2.2019 - val_accuracy: 0.2973 - val_loss: 2.2970\n",
      "Epoch 34/50\n",
      "\u001b[1m132/133\u001b[0m \u001b[32m━━━━━━━━━━━━━━━━━━━\u001b[0m\u001b[37m━\u001b[0m \u001b[1m0s\u001b[0m 58ms/step - accuracy: 0.3428 - loss: 2.1519 — f1_train: 0.3215 — f1_val: 0.2983\n",
      "\u001b[1m133/133\u001b[0m \u001b[32m━━━━━━━━━━━━━━━━━━━━\u001b[0m\u001b[37m\u001b[0m \u001b[1m20s\u001b[0m 94ms/step - accuracy: 0.3427 - loss: 2.1522 - val_accuracy: 0.3173 - val_loss: 2.2702\n",
      "Epoch 35/50\n",
      "\u001b[1m133/133\u001b[0m \u001b[32m━━━━━━━━━━━━━━━━━━━━\u001b[0m\u001b[37m\u001b[0m \u001b[1m0s\u001b[0m 57ms/step - accuracy: 0.3365 - loss: 2.1748 — f1_train: 0.3305 — f1_val: 0.2989\n",
      "\u001b[1m133/133\u001b[0m \u001b[32m━━━━━━━━━━━━━━━━━━━━\u001b[0m\u001b[37m\u001b[0m \u001b[1m13s\u001b[0m 99ms/step - accuracy: 0.3365 - loss: 2.1746 - val_accuracy: 0.3120 - val_loss: 2.2839\n",
      "Epoch 36/50\n",
      "\u001b[1m133/133\u001b[0m \u001b[32m━━━━━━━━━━━━━━━━━━━━\u001b[0m\u001b[37m\u001b[0m \u001b[1m0s\u001b[0m 51ms/step - accuracy: 0.3360 - loss: 2.1697 — f1_train: 0.3230 — f1_val: 0.2956\n",
      "\u001b[1m133/133\u001b[0m \u001b[32m━━━━━━━━━━━━━━━━━━━━\u001b[0m\u001b[37m\u001b[0m \u001b[1m20s\u001b[0m 95ms/step - accuracy: 0.3360 - loss: 2.1696 - val_accuracy: 0.3120 - val_loss: 2.2853\n",
      "Epoch 37/50\n",
      "\u001b[1m133/133\u001b[0m \u001b[32m━━━━━━━━━━━━━━━━━━━━\u001b[0m\u001b[37m\u001b[0m \u001b[1m0s\u001b[0m 51ms/step - accuracy: 0.3414 - loss: 2.1494 — f1_train: 0.3371 — f1_val: 0.3014\n",
      "\u001b[1m133/133\u001b[0m \u001b[32m━━━━━━━━━━━━━━━━━━━━\u001b[0m\u001b[37m\u001b[0m \u001b[1m14s\u001b[0m 107ms/step - accuracy: 0.3415 - loss: 2.1493 - val_accuracy: 0.3140 - val_loss: 2.2618\n",
      "Epoch 38/50\n",
      "\u001b[1m133/133\u001b[0m \u001b[32m━━━━━━━━━━━━━━━━━━━━\u001b[0m\u001b[37m\u001b[0m \u001b[1m0s\u001b[0m 48ms/step - accuracy: 0.3564 - loss: 2.1163 — f1_train: 0.3532 — f1_val: 0.3210\n",
      "\u001b[1m133/133\u001b[0m \u001b[32m━━━━━━━━━━━━━━━━━━━━\u001b[0m\u001b[37m\u001b[0m \u001b[1m19s\u001b[0m 99ms/step - accuracy: 0.3564 - loss: 2.1164 - val_accuracy: 0.3300 - val_loss: 2.2452\n",
      "Epoch 39/50\n",
      "\u001b[1m133/133\u001b[0m \u001b[32m━━━━━━━━━━━━━━━━━━━━\u001b[0m\u001b[37m\u001b[0m \u001b[1m0s\u001b[0m 58ms/step - accuracy: 0.3626 - loss: 2.1124 — f1_train: 0.3529 — f1_val: 0.3132\n",
      "\u001b[1m133/133\u001b[0m \u001b[32m━━━━━━━━━━━━━━━━━━━━\u001b[0m\u001b[37m\u001b[0m \u001b[1m22s\u001b[0m 109ms/step - accuracy: 0.3626 - loss: 2.1125 - val_accuracy: 0.3267 - val_loss: 2.2504\n",
      "Epoch 40/50\n",
      "\u001b[1m132/133\u001b[0m \u001b[32m━━━━━━━━━━━━━━━━━━━\u001b[0m\u001b[37m━\u001b[0m \u001b[1m0s\u001b[0m 57ms/step - accuracy: 0.3480 - loss: 2.1310 — f1_train: 0.3516 — f1_val: 0.3018\n",
      "\u001b[1m133/133\u001b[0m \u001b[32m━━━━━━━━━━━━━━━━━━━━\u001b[0m\u001b[37m\u001b[0m \u001b[1m12s\u001b[0m 93ms/step - accuracy: 0.3482 - loss: 2.1306 - val_accuracy: 0.3207 - val_loss: 2.2470\n",
      "Epoch 41/50\n",
      "\u001b[1m133/133\u001b[0m \u001b[32m━━━━━━━━━━━━━━━━━━━━\u001b[0m\u001b[37m\u001b[0m \u001b[1m0s\u001b[0m 57ms/step - accuracy: 0.3600 - loss: 2.0972 — f1_train: 0.3536 — f1_val: 0.3049\n",
      "\u001b[1m133/133\u001b[0m \u001b[32m━━━━━━━━━━━━━━━━━━━━\u001b[0m\u001b[37m\u001b[0m \u001b[1m12s\u001b[0m 93ms/step - accuracy: 0.3601 - loss: 2.0972 - val_accuracy: 0.3193 - val_loss: 2.2364\n",
      "Epoch 42/50\n",
      "\u001b[1m133/133\u001b[0m \u001b[32m━━━━━━━━━━━━━━━━━━━━\u001b[0m\u001b[37m\u001b[0m \u001b[1m0s\u001b[0m 73ms/step - accuracy: 0.3699 - loss: 2.0765 — f1_train: 0.3613 — f1_val: 0.3201\n",
      "\u001b[1m133/133\u001b[0m \u001b[32m━━━━━━━━━━━━━━━━━━━━\u001b[0m\u001b[37m\u001b[0m \u001b[1m17s\u001b[0m 129ms/step - accuracy: 0.3699 - loss: 2.0766 - val_accuracy: 0.3327 - val_loss: 2.2269\n",
      "Epoch 43/50\n",
      "\u001b[1m133/133\u001b[0m \u001b[32m━━━━━━━━━━━━━━━━━━━━\u001b[0m\u001b[37m\u001b[0m \u001b[1m0s\u001b[0m 50ms/step - accuracy: 0.3739 - loss: 2.0649 — f1_train: 0.3571 — f1_val: 0.3214\n",
      "\u001b[1m133/133\u001b[0m \u001b[32m━━━━━━━━━━━━━━━━━━━━\u001b[0m\u001b[37m\u001b[0m \u001b[1m16s\u001b[0m 93ms/step - accuracy: 0.3739 - loss: 2.0650 - val_accuracy: 0.3393 - val_loss: 2.2186\n",
      "Epoch 44/50\n",
      "\u001b[1m132/133\u001b[0m \u001b[32m━━━━━━━━━━━━━━━━━━━\u001b[0m\u001b[37m━\u001b[0m \u001b[1m0s\u001b[0m 48ms/step - accuracy: 0.3759 - loss: 2.0430 — f1_train: 0.3659 — f1_val: 0.3140\n",
      "\u001b[1m133/133\u001b[0m \u001b[32m━━━━━━━━━━━━━━━━━━━━\u001b[0m\u001b[37m\u001b[0m \u001b[1m21s\u001b[0m 99ms/step - accuracy: 0.3759 - loss: 2.0432 - val_accuracy: 0.3193 - val_loss: 2.2437\n",
      "Epoch 45/50\n",
      "\u001b[1m132/133\u001b[0m \u001b[32m━━━━━━━━━━━━━━━━━━━\u001b[0m\u001b[37m━\u001b[0m \u001b[1m0s\u001b[0m 48ms/step - accuracy: 0.3741 - loss: 2.0673 — f1_train: 0.3813 — f1_val: 0.3273\n",
      "\u001b[1m133/133\u001b[0m \u001b[32m━━━━━━━━━━━━━━━━━━━━\u001b[0m\u001b[37m\u001b[0m \u001b[1m12s\u001b[0m 92ms/step - accuracy: 0.3742 - loss: 2.0671 - val_accuracy: 0.3333 - val_loss: 2.2082\n",
      "Epoch 46/50\n",
      "\u001b[1m133/133\u001b[0m \u001b[32m━━━━━━━━━━━━━━━━━━━━\u001b[0m\u001b[37m\u001b[0m \u001b[1m0s\u001b[0m 58ms/step - accuracy: 0.3849 - loss: 2.0424 — f1_train: 0.3820 — f1_val: 0.3314\n",
      "\u001b[1m133/133\u001b[0m \u001b[32m━━━━━━━━━━━━━━━━━━━━\u001b[0m\u001b[37m\u001b[0m \u001b[1m21s\u001b[0m 93ms/step - accuracy: 0.3849 - loss: 2.0424 - val_accuracy: 0.3373 - val_loss: 2.1986\n",
      "Epoch 47/50\n",
      "\u001b[1m132/133\u001b[0m \u001b[32m━━━━━━━━━━━━━━━━━━━\u001b[0m\u001b[37m━\u001b[0m \u001b[1m0s\u001b[0m 57ms/step - accuracy: 0.3890 - loss: 2.0099 — f1_train: 0.3799 — f1_val: 0.3303\n",
      "\u001b[1m133/133\u001b[0m \u001b[32m━━━━━━━━━━━━━━━━━━━━\u001b[0m\u001b[37m\u001b[0m \u001b[1m12s\u001b[0m 93ms/step - accuracy: 0.3890 - loss: 2.0103 - val_accuracy: 0.3420 - val_loss: 2.1936\n",
      "Epoch 48/50\n",
      "\u001b[1m133/133\u001b[0m \u001b[32m━━━━━━━━━━━━━━━━━━━━\u001b[0m\u001b[37m\u001b[0m \u001b[1m0s\u001b[0m 59ms/step - accuracy: 0.3790 - loss: 2.0408 — f1_train: 0.3846 — f1_val: 0.3236\n",
      "\u001b[1m133/133\u001b[0m \u001b[32m━━━━━━━━━━━━━━━━━━━━\u001b[0m\u001b[37m\u001b[0m \u001b[1m23s\u001b[0m 115ms/step - accuracy: 0.3791 - loss: 2.0406 - val_accuracy: 0.3360 - val_loss: 2.2002\n",
      "Epoch 49/50\n",
      "\u001b[1m133/133\u001b[0m \u001b[32m━━━━━━━━━━━━━━━━━━━━\u001b[0m\u001b[37m\u001b[0m \u001b[1m0s\u001b[0m 49ms/step - accuracy: 0.3989 - loss: 2.0224 — f1_train: 0.3802 — f1_val: 0.3332\n",
      "\u001b[1m133/133\u001b[0m \u001b[32m━━━━━━━━━━━━━━━━━━━━\u001b[0m\u001b[37m\u001b[0m \u001b[1m17s\u001b[0m 92ms/step - accuracy: 0.3988 - loss: 2.0224 - val_accuracy: 0.3460 - val_loss: 2.1835\n",
      "Epoch 50/50\n",
      "\u001b[1m133/133\u001b[0m \u001b[32m━━━━━━━━━━━━━━━━━━━━\u001b[0m\u001b[37m\u001b[0m \u001b[1m0s\u001b[0m 57ms/step - accuracy: 0.3904 - loss: 2.0128 — f1_train: 0.3913 — f1_val: 0.3390\n",
      "\u001b[1m133/133\u001b[0m \u001b[32m━━━━━━━━━━━━━━━━━━━━\u001b[0m\u001b[37m\u001b[0m \u001b[1m23s\u001b[0m 109ms/step - accuracy: 0.3904 - loss: 2.0128 - val_accuracy: 0.3527 - val_loss: 2.1693\n"
     ]
    }
   ],
   "source": [
    "#model\n",
    "model = LeNet(num_classes=20)\n",
    "\n",
    "#callback\n",
    "f1_callback = F1ScoreCallback(x_train, y_train, x_val, y_val)\n",
    "\n",
    "\n",
    "model.compile(\n",
    "    optimizer=tf.keras.optimizers.Adam(learning_rate=0.001),\n",
    "    loss=tf.keras.losses.SparseCategoricalCrossentropy(from_logits=True),\n",
    "    metrics=['accuracy']\n",
    ")\n",
    "\n",
    "history = model.fit(\n",
    "    x_train, y_train,\n",
    "    epochs=50,\n",
    "    batch_size=64,\n",
    "    validation_data=(x_val, y_val),\n",
    "    callbacks=[f1_callback]\n",
    ")\n"
   ]
  },
  {
   "cell_type": "code",
   "execution_count": null,
   "metadata": {
    "colab": {
     "base_uri": "https://localhost:8080/",
     "height": 511
    },
    "executionInfo": {
     "elapsed": 596,
     "status": "ok",
     "timestamp": 1744926072571,
     "user": {
      "displayName": "Νίκος Κατσαϊδώνης",
      "userId": "13489937806515013970"
     },
     "user_tz": -180
    },
    "id": "y8HKGGIQydb7",
    "outputId": "1d5f5608-f70c-4c48-e3b9-de5eb5b5cd82"
   },
   "outputs": [
    {
     "data": {
      "image/png": "[encoded data removed]",
      "text/plain": [
       "<Figure size 1000x600 with 1 Axes>"
      ]
     },
     "metadata": {},
     "output_type": "display_data"
    }
   ],
   "source": [
    "#plot of f1 scores\n",
    "plt.figure(figsize=(10, 6))\n",
    "plt.plot(f1_callback.f1_train_scores, label='Train F1-score')\n",
    "plt.plot(f1_callback.f1_val_scores, label='Validation F1-score')\n",
    "plt.title('F1-score per epoch')\n",
    "plt.xlabel('Epoch')\n",
    "plt.ylabel('F1-score')\n",
    "plt.legend()\n",
    "plt.grid(True)\n",
    "plt.show()\n"
   ]
  },
  {
   "cell_type": "markdown",
   "metadata": {
    "id": "ZhqDoZ6v5pK2"
   },
   "source": [
    "We observe that throughout the epochs, the F1-score steadily increases, although it does not reach particularly high values.\n"
   ]
  },
  {
   "cell_type": "markdown",
   "metadata": {
    "id": "X8Oi2qsA8d0_"
   },
   "source": [
    "**Testing the model**"
   ]
  },
  {
   "cell_type": "code",
   "execution_count": null,
   "metadata": {
    "colab": {
     "base_uri": "https://localhost:8080/"
    },
    "executionInfo": {
     "elapsed": 1645,
     "status": "ok",
     "timestamp": 1744925355003,
     "user": {
      "displayName": "Νίκος Κατσαϊδώνης",
      "userId": "13489937806515013970"
     },
     "user_tz": -180
    },
    "id": "_9-VEELOAHW4",
    "outputId": "254b7504-c091-46ae-9eb8-969487bdd010"
   },
   "outputs": [
    {
     "name": "stdout",
     "output_type": "stream",
     "text": [
      "\u001b[1m63/63\u001b[0m \u001b[32m━━━━━━━━━━━━━━━━━━━━\u001b[0m\u001b[37m\u001b[0m \u001b[1m1s\u001b[0m 21ms/step\n",
      "F1 Score: 0.34458229118247974\n",
      "Accuracy: 0.356\n"
     ]
    }
   ],
   "source": [
    "from sklearn.metrics import f1_score, accuracy_score\n",
    "################ TESTING ###############\n",
    "\n",
    "#logits and predictions on test set\n",
    "y_pred_logits = model.predict(x_test)\n",
    "y_pred = np.argmax(y_pred_logits, axis=1)\n",
    "\n",
    "# F1 and accuracy\n",
    "y_test = y_test.flatten()\n",
    "f1_macro = f1_score(y_test, y_pred, average='macro')\n",
    "acc = accuracy_score(y_test, y_pred)\n",
    "\n",
    "print(\"F1 Score:\", f1_macro)\n",
    "print(\"Accuracy:\", acc)\n"
   ]
  },
  {
   "cell_type": "markdown",
   "metadata": {
    "id": "9RMRb08O6BkL"
   },
   "source": [
    "Above, we can see the overall F1-score and accuracy on the entire test set.  \n",
    "The performance is notably low, which can be attributed both to the simple architecture of the network (as it is one of the earliest CNN models) and to the relatively small size of our training dataset compared to the original.  \n",
    "The official dataset used for training included 6,000 samples per category, whereas ours contains only 8,500 samples in total.\n"
   ]
  },
  {
   "cell_type": "markdown",
   "metadata": {
    "id": "mkwVRXDCt9UL"
   },
   "source": [
    "# AlexNet  \n",
    "We continue with AlexNet, which is a significantly deeper and larger network.\n"
   ]
  },
  {
   "cell_type": "code",
   "execution_count": null,
   "metadata": {
    "id": "CXAaKmaywnLJ"
   },
   "outputs": [],
   "source": [
    "#Resize the images to 224x224\n",
    "x_train = tf.image.resize(x_train, [224, 224])\n",
    "x_val = tf.image.resize(x_val, [224, 224])\n",
    "x_test = tf.image.resize(x_test, [224, 224])\n"
   ]
  },
  {
   "cell_type": "code",
   "execution_count": null,
   "metadata": {
    "id": "NVMWGcwot_zj"
   },
   "outputs": [],
   "source": [
    "import tensorflow as tf\n",
    "\n",
    "\"\"\"\n",
    "Papers refers Local Response Normalization\n",
    "but nowadays we use BatchNorm.\n",
    "\n",
    "\"\"\"\n",
    "\n",
    "\n",
    "\n",
    "class AlexNet(tf.keras.Model):\n",
    "    def __init__(self, num_classes=20):\n",
    "        super(AlexNet, self).__init__()\n",
    "\n",
    "        self.model = tf.keras.Sequential([\n",
    "            # Conv1\n",
    "            tf.keras.layers.Conv2D(96, kernel_size=11, strides=4, activation='relu', input_shape=(224, 224, 3)),\n",
    "            tf.keras.layers.BatchNormalization(),\n",
    "            tf.keras.layers.MaxPooling2D(pool_size=3, strides=2),\n",
    "\n",
    "            # Conv2\n",
    "            tf.keras.layers.Conv2D(256, kernel_size=5, padding='same', activation='relu'),\n",
    "            tf.keras.layers.BatchNormalization(),\n",
    "            tf.keras.layers.MaxPooling2D(pool_size=3, strides=2),\n",
    "\n",
    "            # Conv3\n",
    "            tf.keras.layers.Conv2D(384, kernel_size=3, padding='same', activation='relu'),\n",
    "\n",
    "            # Conv4\n",
    "            tf.keras.layers.Conv2D(384, kernel_size=3, padding='same', activation='relu'),\n",
    "\n",
    "            # Conv5\n",
    "            tf.keras.layers.Conv2D(256, kernel_size=3, padding='same', activation='relu'),\n",
    "            tf.keras.layers.MaxPooling2D(pool_size=3, strides=2),\n",
    "\n",
    "            tf.keras.layers.Flatten(),\n",
    "\n",
    "            # FC1\n",
    "            tf.keras.layers.Dense(4096, activation='relu'),\n",
    "            tf.keras.layers.Dropout(0.5),\n",
    "\n",
    "            # FC2\n",
    "            tf.keras.layers.Dense(4096, activation='relu'),\n",
    "            tf.keras.layers.Dropout(0.5),\n",
    "\n",
    "            # Output Layer\n",
    "            tf.keras.layers.Dense(num_classes)\n",
    "        ])\n",
    "\n",
    "    def call(self, inputs):\n",
    "        return self.model(inputs)\n"
   ]
  },
  {
   "cell_type": "code",
   "execution_count": null,
   "metadata": {
    "colab": {
     "base_uri": "https://localhost:8080/"
    },
    "executionInfo": {
     "elapsed": 1448239,
     "status": "ok",
     "timestamp": 1744929694268,
     "user": {
      "displayName": "Νίκος Κατσαϊδώνης",
      "userId": "13489937806515013970"
     },
     "user_tz": -180
    },
    "id": "h1ZQiwg4y9AQ",
    "outputId": "2ef6155b-e348-4650-905c-f68ada7ce091"
   },
   "outputs": [
    {
     "name": "stderr",
     "output_type": "stream",
     "text": [
      "/usr/local/lib/python3.11/dist-packages/keras/src/layers/convolutional/base_conv.py:107: UserWarning: Do not pass an `input_shape`/`input_dim` argument to a layer. When using Sequential models, prefer using an `Input(shape)` object as the first layer in the model instead.\n",
      "  super().__init__(activity_regularizer=activity_regularizer, **kwargs)\n"
     ]
    },
    {
     "name": "stdout",
     "output_type": "stream",
     "text": [
      "Epoch 1/50\n",
      "\u001b[1m133/133\u001b[0m \u001b[32m━━━━━━━━━━━━━━━━━━━━\u001b[0m\u001b[37m\u001b[0m \u001b[1m0s\u001b[0m 140ms/step - accuracy: 0.0578 - loss: 3.2526 — f1_train: 0.0748 — f1_val: 0.0697\n",
      "\u001b[1m133/133\u001b[0m \u001b[32m━━━━━━━━━━━━━━━━━━━━\u001b[0m\u001b[37m\u001b[0m \u001b[1m53s\u001b[0m 322ms/step - accuracy: 0.0580 - loss: 3.2507 - val_accuracy: 0.1093 - val_loss: 2.8537\n",
      "Epoch 2/50\n",
      "\u001b[1m133/133\u001b[0m \u001b[32m━━━━━━━━━━━━━━━━━━━━\u001b[0m\u001b[37m\u001b[0m \u001b[1m0s\u001b[0m 71ms/step - accuracy: 0.1568 - loss: 2.7422 — f1_train: 0.1519 — f1_val: 0.1297\n",
      "\u001b[1m133/133\u001b[0m \u001b[32m━━━━━━━━━━━━━━━━━━━━\u001b[0m\u001b[37m\u001b[0m \u001b[1m54s\u001b[0m 167ms/step - accuracy: 0.1569 - loss: 2.7419 - val_accuracy: 0.1673 - val_loss: 2.6638\n",
      "Epoch 3/50\n",
      "\u001b[1m133/133\u001b[0m \u001b[32m━━━━━━━━━━━━━━━━━━━━\u001b[0m\u001b[37m\u001b[0m \u001b[1m0s\u001b[0m 73ms/step - accuracy: 0.1901 - loss: 2.5934 — f1_train: 0.1830 — f1_val: 0.1721\n",
      "\u001b[1m133/133\u001b[0m \u001b[32m━━━━━━━━━━━━━━━━━━━━\u001b[0m\u001b[37m\u001b[0m \u001b[1m36s\u001b[0m 127ms/step - accuracy: 0.1901 - loss: 2.5934 - val_accuracy: 0.2073 - val_loss: 2.5905\n",
      "Epoch 4/50\n",
      "\u001b[1m133/133\u001b[0m \u001b[32m━━━━━━━━━━━━━━━━━━━━\u001b[0m\u001b[37m\u001b[0m \u001b[1m0s\u001b[0m 73ms/step - accuracy: 0.2144 - loss: 2.5564 — f1_train: 0.2280 — f1_val: 0.1916\n",
      "\u001b[1m133/133\u001b[0m \u001b[32m━━━━━━━━━━━━━━━━━━━━\u001b[0m\u001b[37m\u001b[0m \u001b[1m26s\u001b[0m 168ms/step - accuracy: 0.2145 - loss: 2.5561 - val_accuracy: 0.2213 - val_loss: 2.5668\n",
      "Epoch 5/50\n",
      "\u001b[1m133/133\u001b[0m \u001b[32m━━━━━━━━━━━━━━━━━━━━\u001b[0m\u001b[37m\u001b[0m \u001b[1m0s\u001b[0m 72ms/step - accuracy: 0.2660 - loss: 2.4113 — f1_train: 0.2813 — f1_val: 0.2335\n",
      "\u001b[1m133/133\u001b[0m \u001b[32m━━━━━━━━━━━━━━━━━━━━\u001b[0m\u001b[37m\u001b[0m \u001b[1m36s\u001b[0m 133ms/step - accuracy: 0.2660 - loss: 2.4112 - val_accuracy: 0.2567 - val_loss: 2.4274\n",
      "Epoch 6/50\n",
      "\u001b[1m133/133\u001b[0m \u001b[32m━━━━━━━━━━━━━━━━━━━━\u001b[0m\u001b[37m\u001b[0m \u001b[1m0s\u001b[0m 73ms/step - accuracy: 0.3069 - loss: 2.2876 — f1_train: 0.3161 — f1_val: 0.2538\n",
      "\u001b[1m133/133\u001b[0m \u001b[32m━━━━━━━━━━━━━━━━━━━━\u001b[0m\u001b[37m\u001b[0m \u001b[1m20s\u001b[0m 129ms/step - accuracy: 0.3068 - loss: 2.2877 - val_accuracy: 0.2640 - val_loss: 2.3783\n",
      "Epoch 7/50\n",
      "\u001b[1m133/133\u001b[0m \u001b[32m━━━━━━━━━━━━━━━━━━━━\u001b[0m\u001b[37m\u001b[0m \u001b[1m0s\u001b[0m 74ms/step - accuracy: 0.3350 - loss: 2.1725 — f1_train: 0.3464 — f1_val: 0.2798\n",
      "\u001b[1m133/133\u001b[0m \u001b[32m━━━━━━━━━━━━━━━━━━━━\u001b[0m\u001b[37m\u001b[0m \u001b[1m23s\u001b[0m 172ms/step - accuracy: 0.3350 - loss: 2.1726 - val_accuracy: 0.2773 - val_loss: 2.3745\n",
      "Epoch 8/50\n",
      "\u001b[1m133/133\u001b[0m \u001b[32m━━━━━━━━━━━━━━━━━━━━\u001b[0m\u001b[37m\u001b[0m \u001b[1m0s\u001b[0m 74ms/step - accuracy: 0.3561 - loss: 2.0692 — f1_train: 0.4097 — f1_val: 0.3128\n",
      "\u001b[1m133/133\u001b[0m \u001b[32m━━━━━━━━━━━━━━━━━━━━\u001b[0m\u001b[37m\u001b[0m \u001b[1m22s\u001b[0m 168ms/step - accuracy: 0.3562 - loss: 2.0692 - val_accuracy: 0.3227 - val_loss: 2.2681\n",
      "Epoch 9/50\n",
      "\u001b[1m133/133\u001b[0m \u001b[32m━━━━━━━━━━━━━━━━━━━━\u001b[0m\u001b[37m\u001b[0m \u001b[1m0s\u001b[0m 74ms/step - accuracy: 0.4069 - loss: 1.9085 — f1_train: 0.4711 — f1_val: 0.3306\n",
      "\u001b[1m133/133\u001b[0m \u001b[32m━━━━━━━━━━━━━━━━━━━━\u001b[0m\u001b[37m\u001b[0m \u001b[1m41s\u001b[0m 169ms/step - accuracy: 0.4068 - loss: 1.9087 - val_accuracy: 0.3327 - val_loss: 2.2724\n",
      "Epoch 10/50\n",
      "\u001b[1m133/133\u001b[0m \u001b[32m━━━━━━━━━━━━━━━━━━━━\u001b[0m\u001b[37m\u001b[0m \u001b[1m0s\u001b[0m 74ms/step - accuracy: 0.4599 - loss: 1.7240 — f1_train: 0.4969 — f1_val: 0.3096\n",
      "\u001b[1m133/133\u001b[0m \u001b[32m━━━━━━━━━━━━━━━━━━━━\u001b[0m\u001b[37m\u001b[0m \u001b[1m41s\u001b[0m 166ms/step - accuracy: 0.4598 - loss: 1.7243 - val_accuracy: 0.3133 - val_loss: 2.3204\n",
      "Epoch 11/50\n",
      "\u001b[1m133/133\u001b[0m \u001b[32m━━━━━━━━━━━━━━━━━━━━\u001b[0m\u001b[37m\u001b[0m \u001b[1m0s\u001b[0m 73ms/step - accuracy: 0.5132 - loss: 1.5389 — f1_train: 0.5997 — f1_val: 0.3058\n",
      "\u001b[1m133/133\u001b[0m \u001b[32m━━━━━━━━━━━━━━━━━━━━\u001b[0m\u001b[37m\u001b[0m \u001b[1m36s\u001b[0m 129ms/step - accuracy: 0.5130 - loss: 1.5392 - val_accuracy: 0.3073 - val_loss: 2.4367\n",
      "Epoch 12/50\n",
      "\u001b[1m133/133\u001b[0m \u001b[32m━━━━━━━━━━━━━━━━━━━━\u001b[0m\u001b[37m\u001b[0m \u001b[1m0s\u001b[0m 76ms/step - accuracy: 0.5818 - loss: 1.3455 — f1_train: 0.6715 — f1_val: 0.3201\n",
      "\u001b[1m133/133\u001b[0m \u001b[32m━━━━━━━━━━━━━━━━━━━━\u001b[0m\u001b[37m\u001b[0m \u001b[1m21s\u001b[0m 133ms/step - accuracy: 0.5818 - loss: 1.3456 - val_accuracy: 0.3213 - val_loss: 2.6763\n",
      "Epoch 13/50\n",
      "\u001b[1m133/133\u001b[0m \u001b[32m━━━━━━━━━━━━━━━━━━━━\u001b[0m\u001b[37m\u001b[0m \u001b[1m0s\u001b[0m 75ms/step - accuracy: 0.6573 - loss: 1.0751 — f1_train: 0.7362 — f1_val: 0.3125\n",
      "\u001b[1m133/133\u001b[0m \u001b[32m━━━━━━━━━━━━━━━━━━━━\u001b[0m\u001b[37m\u001b[0m \u001b[1m23s\u001b[0m 173ms/step - accuracy: 0.6572 - loss: 1.0755 - val_accuracy: 0.3167 - val_loss: 3.0497\n",
      "Epoch 14/50\n",
      "\u001b[1m133/133\u001b[0m \u001b[32m━━━━━━━━━━━━━━━━━━━━\u001b[0m\u001b[37m\u001b[0m \u001b[1m0s\u001b[0m 74ms/step - accuracy: 0.7322 - loss: 0.8510 — f1_train: 0.7911 — f1_val: 0.3122\n",
      "\u001b[1m133/133\u001b[0m \u001b[32m━━━━━━━━━━━━━━━━━━━━\u001b[0m\u001b[37m\u001b[0m \u001b[1m17s\u001b[0m 128ms/step - accuracy: 0.7321 - loss: 0.8514 - val_accuracy: 0.3147 - val_loss: 3.3561\n",
      "Epoch 15/50\n",
      "\u001b[1m133/133\u001b[0m \u001b[32m━━━━━━━━━━━━━━━━━━━━\u001b[0m\u001b[37m\u001b[0m \u001b[1m0s\u001b[0m 75ms/step - accuracy: 0.7851 - loss: 0.6677 — f1_train: 0.8720 — f1_val: 0.3035\n",
      "\u001b[1m133/133\u001b[0m \u001b[32m━━━━━━━━━━━━━━━━━━━━\u001b[0m\u001b[37m\u001b[0m \u001b[1m26s\u001b[0m 167ms/step - accuracy: 0.7849 - loss: 0.6681 - val_accuracy: 0.3033 - val_loss: 3.6919\n",
      "Epoch 16/50\n",
      "\u001b[1m133/133\u001b[0m \u001b[32m━━━━━━━━━━━━━━━━━━━━\u001b[0m\u001b[37m\u001b[0m \u001b[1m0s\u001b[0m 74ms/step - accuracy: 0.8487 - loss: 0.4854 — f1_train: 0.8456 — f1_val: 0.2925\n",
      "\u001b[1m133/133\u001b[0m \u001b[32m━━━━━━━━━━━━━━━━━━━━\u001b[0m\u001b[37m\u001b[0m \u001b[1m36s\u001b[0m 130ms/step - accuracy: 0.8485 - loss: 0.4859 - val_accuracy: 0.2973 - val_loss: 4.2237\n",
      "Epoch 17/50\n",
      "\u001b[1m133/133\u001b[0m \u001b[32m━━━━━━━━━━━━━━━━━━━━\u001b[0m\u001b[37m\u001b[0m \u001b[1m0s\u001b[0m 74ms/step - accuracy: 0.8562 - loss: 0.4672 — f1_train: 0.9015 — f1_val: 0.2991\n",
      "\u001b[1m133/133\u001b[0m \u001b[32m━━━━━━━━━━━━━━━━━━━━\u001b[0m\u001b[37m\u001b[0m \u001b[1m21s\u001b[0m 131ms/step - accuracy: 0.8561 - loss: 0.4673 - val_accuracy: 0.3033 - val_loss: 4.6666\n",
      "Epoch 18/50\n",
      "\u001b[1m133/133\u001b[0m \u001b[32m━━━━━━━━━━━━━━━━━━━━\u001b[0m\u001b[37m\u001b[0m \u001b[1m0s\u001b[0m 74ms/step - accuracy: 0.8994 - loss: 0.3339 — f1_train: 0.9318 — f1_val: 0.3029\n",
      "\u001b[1m133/133\u001b[0m \u001b[32m━━━━━━━━━━━━━━━━━━━━\u001b[0m\u001b[37m\u001b[0m \u001b[1m17s\u001b[0m 130ms/step - accuracy: 0.8993 - loss: 0.3340 - val_accuracy: 0.3013 - val_loss: 5.7066\n",
      "Epoch 19/50\n",
      "\u001b[1m133/133\u001b[0m \u001b[32m━━━━━━━━━━━━━━━━━━━━\u001b[0m\u001b[37m\u001b[0m \u001b[1m0s\u001b[0m 75ms/step - accuracy: 0.9102 - loss: 0.3018 — f1_train: 0.9508 — f1_val: 0.3188\n",
      "\u001b[1m133/133\u001b[0m \u001b[32m━━━━━━━━━━━━━━━━━━━━\u001b[0m\u001b[37m\u001b[0m \u001b[1m25s\u001b[0m 167ms/step - accuracy: 0.9102 - loss: 0.3019 - val_accuracy: 0.3187 - val_loss: 5.6933\n",
      "Epoch 20/50\n",
      "\u001b[1m133/133\u001b[0m \u001b[32m━━━━━━━━━━━━━━━━━━━━\u001b[0m\u001b[37m\u001b[0m \u001b[1m0s\u001b[0m 74ms/step - accuracy: 0.9382 - loss: 0.2194 — f1_train: 0.9563 — f1_val: 0.3279\n",
      "\u001b[1m133/133\u001b[0m \u001b[32m━━━━━━━━━━━━━━━━━━━━\u001b[0m\u001b[37m\u001b[0m \u001b[1m41s\u001b[0m 169ms/step - accuracy: 0.9382 - loss: 0.2195 - val_accuracy: 0.3320 - val_loss: 5.8985\n",
      "Epoch 21/50\n",
      "\u001b[1m133/133\u001b[0m \u001b[32m━━━━━━━━━━━━━━━━━━━━\u001b[0m\u001b[37m\u001b[0m \u001b[1m0s\u001b[0m 75ms/step - accuracy: 0.9415 - loss: 0.2095 — f1_train: 0.9646 — f1_val: 0.3190\n",
      "\u001b[1m133/133\u001b[0m \u001b[32m━━━━━━━━━━━━━━━━━━━━\u001b[0m\u001b[37m\u001b[0m \u001b[1m36s\u001b[0m 133ms/step - accuracy: 0.9415 - loss: 0.2096 - val_accuracy: 0.3193 - val_loss: 6.1988\n",
      "Epoch 22/50\n",
      "\u001b[1m133/133\u001b[0m \u001b[32m━━━━━━━━━━━━━━━━━━━━\u001b[0m\u001b[37m\u001b[0m \u001b[1m0s\u001b[0m 76ms/step - accuracy: 0.9502 - loss: 0.1601 — f1_train: 0.9732 — f1_val: 0.3150\n",
      "\u001b[1m133/133\u001b[0m \u001b[32m━━━━━━━━━━━━━━━━━━━━\u001b[0m\u001b[37m\u001b[0m \u001b[1m18s\u001b[0m 132ms/step - accuracy: 0.9502 - loss: 0.1603 - val_accuracy: 0.3140 - val_loss: 6.1101\n",
      "Epoch 23/50\n",
      "\u001b[1m133/133\u001b[0m \u001b[32m━━━━━━━━━━━━━━━━━━━━\u001b[0m\u001b[37m\u001b[0m \u001b[1m0s\u001b[0m 76ms/step - accuracy: 0.9633 - loss: 0.1289 — f1_train: 0.9624 — f1_val: 0.3083\n",
      "\u001b[1m133/133\u001b[0m \u001b[32m━━━━━━━━━━━━━━━━━━━━\u001b[0m\u001b[37m\u001b[0m \u001b[1m20s\u001b[0m 131ms/step - accuracy: 0.9633 - loss: 0.1290 - val_accuracy: 0.3113 - val_loss: 6.7905\n",
      "Epoch 24/50\n",
      "\u001b[1m133/133\u001b[0m \u001b[32m━━━━━━━━━━━━━━━━━━━━\u001b[0m\u001b[37m\u001b[0m \u001b[1m0s\u001b[0m 75ms/step - accuracy: 0.9586 - loss: 0.1490 — f1_train: 0.9686 — f1_val: 0.3109\n",
      "\u001b[1m133/133\u001b[0m \u001b[32m━━━━━━━━━━━━━━━━━━━━\u001b[0m\u001b[37m\u001b[0m \u001b[1m20s\u001b[0m 129ms/step - accuracy: 0.9585 - loss: 0.1492 - val_accuracy: 0.3133 - val_loss: 6.5725\n",
      "Epoch 25/50\n",
      "\u001b[1m133/133\u001b[0m \u001b[32m━━━━━━━━━━━━━━━━━━━━\u001b[0m\u001b[37m\u001b[0m \u001b[1m0s\u001b[0m 74ms/step - accuracy: 0.9570 - loss: 0.1577 — f1_train: 0.9547 — f1_val: 0.3134\n",
      "\u001b[1m133/133\u001b[0m \u001b[32m━━━━━━━━━━━━━━━━━━━━\u001b[0m\u001b[37m\u001b[0m \u001b[1m17s\u001b[0m 130ms/step - accuracy: 0.9570 - loss: 0.1578 - val_accuracy: 0.3187 - val_loss: 6.2542\n",
      "Epoch 26/50\n",
      "\u001b[1m133/133\u001b[0m \u001b[32m━━━━━━━━━━━━━━━━━━━━\u001b[0m\u001b[37m\u001b[0m \u001b[1m0s\u001b[0m 75ms/step - accuracy: 0.9577 - loss: 0.1423 — f1_train: 0.9761 — f1_val: 0.3112\n",
      "\u001b[1m133/133\u001b[0m \u001b[32m━━━━━━━━━━━━━━━━━━━━\u001b[0m\u001b[37m\u001b[0m \u001b[1m23s\u001b[0m 173ms/step - accuracy: 0.9577 - loss: 0.1423 - val_accuracy: 0.3080 - val_loss: 6.7966\n",
      "Epoch 27/50\n",
      "\u001b[1m133/133\u001b[0m \u001b[32m━━━━━━━━━━━━━━━━━━━━\u001b[0m\u001b[37m\u001b[0m \u001b[1m0s\u001b[0m 75ms/step - accuracy: 0.9744 - loss: 0.0880 — f1_train: 0.9759 — f1_val: 0.2955\n",
      "\u001b[1m133/133\u001b[0m \u001b[32m━━━━━━━━━━━━━━━━━━━━\u001b[0m\u001b[37m\u001b[0m \u001b[1m40s\u001b[0m 168ms/step - accuracy: 0.9743 - loss: 0.0883 - val_accuracy: 0.2993 - val_loss: 7.2085\n",
      "Epoch 28/50\n",
      "\u001b[1m133/133\u001b[0m \u001b[32m━━━━━━━━━━━━━━━━━━━━\u001b[0m\u001b[37m\u001b[0m \u001b[1m0s\u001b[0m 75ms/step - accuracy: 0.9631 - loss: 0.1454 — f1_train: 0.9803 — f1_val: 0.3061\n",
      "\u001b[1m133/133\u001b[0m \u001b[32m━━━━━━━━━━━━━━━━━━━━\u001b[0m\u001b[37m\u001b[0m \u001b[1m36s\u001b[0m 133ms/step - accuracy: 0.9631 - loss: 0.1453 - val_accuracy: 0.3100 - val_loss: 6.9057\n",
      "Epoch 29/50\n",
      "\u001b[1m133/133\u001b[0m \u001b[32m━━━━━━━━━━━━━━━━━━━━\u001b[0m\u001b[37m\u001b[0m \u001b[1m0s\u001b[0m 76ms/step - accuracy: 0.9787 - loss: 0.0773 — f1_train: 0.9851 — f1_val: 0.3196\n",
      "\u001b[1m133/133\u001b[0m \u001b[32m━━━━━━━━━━━━━━━━━━━━\u001b[0m\u001b[37m\u001b[0m \u001b[1m21s\u001b[0m 137ms/step - accuracy: 0.9787 - loss: 0.0773 - val_accuracy: 0.3200 - val_loss: 7.6298\n",
      "Epoch 30/50\n",
      "\u001b[1m133/133\u001b[0m \u001b[32m━━━━━━━━━━━━━━━━━━━━\u001b[0m\u001b[37m\u001b[0m \u001b[1m0s\u001b[0m 75ms/step - accuracy: 0.9794 - loss: 0.0678 — f1_train: 0.9891 — f1_val: 0.3063\n",
      "\u001b[1m133/133\u001b[0m \u001b[32m━━━━━━━━━━━━━━━━━━━━\u001b[0m\u001b[37m\u001b[0m \u001b[1m19s\u001b[0m 128ms/step - accuracy: 0.9794 - loss: 0.0678 - val_accuracy: 0.3073 - val_loss: 7.7358\n",
      "Epoch 31/50\n",
      "\u001b[1m133/133\u001b[0m \u001b[32m━━━━━━━━━━━━━━━━━━━━\u001b[0m\u001b[37m\u001b[0m \u001b[1m0s\u001b[0m 75ms/step - accuracy: 0.9855 - loss: 0.0554 — f1_train: 0.9932 — f1_val: 0.3204\n",
      "\u001b[1m133/133\u001b[0m \u001b[32m━━━━━━━━━━━━━━━━━━━━\u001b[0m\u001b[37m\u001b[0m \u001b[1m21s\u001b[0m 132ms/step - accuracy: 0.9855 - loss: 0.0555 - val_accuracy: 0.3233 - val_loss: 7.4510\n",
      "Epoch 32/50\n",
      "\u001b[1m133/133\u001b[0m \u001b[32m━━━━━━━━━━━━━━━━━━━━\u001b[0m\u001b[37m\u001b[0m \u001b[1m0s\u001b[0m 75ms/step - accuracy: 0.9888 - loss: 0.0396 — f1_train: 0.9657 — f1_val: 0.3031\n",
      "\u001b[1m133/133\u001b[0m \u001b[32m━━━━━━━━━━━━━━━━━━━━\u001b[0m\u001b[37m\u001b[0m \u001b[1m23s\u001b[0m 171ms/step - accuracy: 0.9887 - loss: 0.0399 - val_accuracy: 0.3007 - val_loss: 7.0897\n",
      "Epoch 33/50\n",
      "\u001b[1m133/133\u001b[0m \u001b[32m━━━━━━━━━━━━━━━━━━━━\u001b[0m\u001b[37m\u001b[0m \u001b[1m0s\u001b[0m 76ms/step - accuracy: 0.9635 - loss: 0.1520 — f1_train: 0.9768 — f1_val: 0.3093\n",
      "\u001b[1m133/133\u001b[0m \u001b[32m━━━━━━━━━━━━━━━━━━━━\u001b[0m\u001b[37m\u001b[0m \u001b[1m36s\u001b[0m 133ms/step - accuracy: 0.9634 - loss: 0.1521 - val_accuracy: 0.3087 - val_loss: 6.8016\n",
      "Epoch 34/50\n",
      "\u001b[1m133/133\u001b[0m \u001b[32m━━━━━━━━━━━━━━━━━━━━\u001b[0m\u001b[37m\u001b[0m \u001b[1m0s\u001b[0m 75ms/step - accuracy: 0.9697 - loss: 0.1122 — f1_train: 0.9731 — f1_val: 0.3022\n",
      "\u001b[1m133/133\u001b[0m \u001b[32m━━━━━━━━━━━━━━━━━━━━\u001b[0m\u001b[37m\u001b[0m \u001b[1m20s\u001b[0m 131ms/step - accuracy: 0.9696 - loss: 0.1122 - val_accuracy: 0.3020 - val_loss: 6.9921\n",
      "Epoch 35/50\n",
      "\u001b[1m133/133\u001b[0m \u001b[32m━━━━━━━━━━━━━━━━━━━━\u001b[0m\u001b[37m\u001b[0m \u001b[1m0s\u001b[0m 75ms/step - accuracy: 0.9717 - loss: 0.1042 — f1_train: 0.9866 — f1_val: 0.2975\n",
      "\u001b[1m133/133\u001b[0m \u001b[32m━━━━━━━━━━━━━━━━━━━━\u001b[0m\u001b[37m\u001b[0m \u001b[1m20s\u001b[0m 128ms/step - accuracy: 0.9717 - loss: 0.1043 - val_accuracy: 0.2973 - val_loss: 6.8482\n",
      "Epoch 36/50\n",
      "\u001b[1m133/133\u001b[0m \u001b[32m━━━━━━━━━━━━━━━━━━━━\u001b[0m\u001b[37m\u001b[0m \u001b[1m0s\u001b[0m 74ms/step - accuracy: 0.9656 - loss: 0.1279 — f1_train: 0.9863 — f1_val: 0.3070\n",
      "\u001b[1m133/133\u001b[0m \u001b[32m━━━━━━━━━━━━━━━━━━━━\u001b[0m\u001b[37m\u001b[0m \u001b[1m26s\u001b[0m 172ms/step - accuracy: 0.9656 - loss: 0.1279 - val_accuracy: 0.3080 - val_loss: 7.0012\n",
      "Epoch 37/50\n",
      "\u001b[1m133/133\u001b[0m \u001b[32m━━━━━━━━━━━━━━━━━━━━\u001b[0m\u001b[37m\u001b[0m \u001b[1m0s\u001b[0m 74ms/step - accuracy: 0.9737 - loss: 0.0965 — f1_train: 0.9729 — f1_val: 0.3124\n",
      "\u001b[1m133/133\u001b[0m \u001b[32m━━━━━━━━━━━━━━━━━━━━\u001b[0m\u001b[37m\u001b[0m \u001b[1m40s\u001b[0m 168ms/step - accuracy: 0.9737 - loss: 0.0968 - val_accuracy: 0.3133 - val_loss: 6.8297\n",
      "Epoch 38/50\n",
      "\u001b[1m133/133\u001b[0m \u001b[32m━━━━━━━━━━━━━━━━━━━━\u001b[0m\u001b[37m\u001b[0m \u001b[1m0s\u001b[0m 73ms/step - accuracy: 0.9567 - loss: 0.1620 — f1_train: 0.9639 — f1_val: 0.2893\n",
      "\u001b[1m133/133\u001b[0m \u001b[32m━━━━━━━━━━━━━━━━━━━━\u001b[0m\u001b[37m\u001b[0m \u001b[1m41s\u001b[0m 169ms/step - accuracy: 0.9566 - loss: 0.1622 - val_accuracy: 0.2987 - val_loss: 6.6956\n",
      "Epoch 39/50\n",
      "\u001b[1m133/133\u001b[0m \u001b[32m━━━━━━━━━━━━━━━━━━━━\u001b[0m\u001b[37m\u001b[0m \u001b[1m0s\u001b[0m 74ms/step - accuracy: 0.9709 - loss: 0.1001 — f1_train: 0.9874 — f1_val: 0.3167\n",
      "\u001b[1m133/133\u001b[0m \u001b[32m━━━━━━━━━━━━━━━━━━━━\u001b[0m\u001b[37m\u001b[0m \u001b[1m41s\u001b[0m 168ms/step - accuracy: 0.9709 - loss: 0.1001 - val_accuracy: 0.3173 - val_loss: 6.7693\n",
      "Epoch 40/50\n",
      "\u001b[1m133/133\u001b[0m \u001b[32m━━━━━━━━━━━━━━━━━━━━\u001b[0m\u001b[37m\u001b[0m \u001b[1m0s\u001b[0m 73ms/step - accuracy: 0.9882 - loss: 0.0438 — f1_train: 0.9790 — f1_val: 0.2963\n",
      "\u001b[1m133/133\u001b[0m \u001b[32m━━━━━━━━━━━━━━━━━━━━\u001b[0m\u001b[37m\u001b[0m \u001b[1m41s\u001b[0m 169ms/step - accuracy: 0.9881 - loss: 0.0439 - val_accuracy: 0.2967 - val_loss: 7.7076\n",
      "Epoch 41/50\n",
      "\u001b[1m133/133\u001b[0m \u001b[32m━━━━━━━━━━━━━━━━━━━━\u001b[0m\u001b[37m\u001b[0m \u001b[1m0s\u001b[0m 74ms/step - accuracy: 0.9759 - loss: 0.0918 — f1_train: 0.9846 — f1_val: 0.3016\n",
      "\u001b[1m133/133\u001b[0m \u001b[32m━━━━━━━━━━━━━━━━━━━━\u001b[0m\u001b[37m\u001b[0m \u001b[1m41s\u001b[0m 168ms/step - accuracy: 0.9759 - loss: 0.0918 - val_accuracy: 0.3060 - val_loss: 7.3804\n",
      "Epoch 42/50\n",
      "\u001b[1m133/133\u001b[0m \u001b[32m━━━━━━━━━━━━━━━━━━━━\u001b[0m\u001b[37m\u001b[0m \u001b[1m0s\u001b[0m 74ms/step - accuracy: 0.9825 - loss: 0.0659 — f1_train: 0.9748 — f1_val: 0.3015\n",
      "\u001b[1m133/133\u001b[0m \u001b[32m━━━━━━━━━━━━━━━━━━━━\u001b[0m\u001b[37m\u001b[0m \u001b[1m36s\u001b[0m 128ms/step - accuracy: 0.9825 - loss: 0.0661 - val_accuracy: 0.3047 - val_loss: 7.6480\n",
      "Epoch 43/50\n",
      "\u001b[1m133/133\u001b[0m \u001b[32m━━━━━━━━━━━━━━━━━━━━\u001b[0m\u001b[37m\u001b[0m \u001b[1m0s\u001b[0m 74ms/step - accuracy: 0.9773 - loss: 0.0806 — f1_train: 0.9873 — f1_val: 0.3165\n",
      "\u001b[1m133/133\u001b[0m \u001b[32m━━━━━━━━━━━━━━━━━━━━\u001b[0m\u001b[37m\u001b[0m \u001b[1m20s\u001b[0m 128ms/step - accuracy: 0.9773 - loss: 0.0806 - val_accuracy: 0.3140 - val_loss: 7.4337\n",
      "Epoch 44/50\n",
      "\u001b[1m133/133\u001b[0m \u001b[32m━━━━━━━━━━━━━━━━━━━━\u001b[0m\u001b[37m\u001b[0m \u001b[1m0s\u001b[0m 74ms/step - accuracy: 0.9811 - loss: 0.0746 — f1_train: 0.9895 — f1_val: 0.3185\n",
      "\u001b[1m133/133\u001b[0m \u001b[32m━━━━━━━━━━━━━━━━━━━━\u001b[0m\u001b[37m\u001b[0m \u001b[1m21s\u001b[0m 133ms/step - accuracy: 0.9811 - loss: 0.0746 - val_accuracy: 0.3187 - val_loss: 6.8881\n",
      "Epoch 45/50\n",
      "\u001b[1m133/133\u001b[0m \u001b[32m━━━━━━━━━━━━━━━━━━━━\u001b[0m\u001b[37m\u001b[0m \u001b[1m0s\u001b[0m 73ms/step - accuracy: 0.9881 - loss: 0.0539 — f1_train: 0.9872 — f1_val: 0.2945\n",
      "\u001b[1m133/133\u001b[0m \u001b[32m━━━━━━━━━━━━━━━━━━━━\u001b[0m\u001b[37m\u001b[0m \u001b[1m20s\u001b[0m 129ms/step - accuracy: 0.9881 - loss: 0.0540 - val_accuracy: 0.2920 - val_loss: 7.3565\n",
      "Epoch 46/50\n",
      "\u001b[1m133/133\u001b[0m \u001b[32m━━━━━━━━━━━━━━━━━━━━\u001b[0m\u001b[37m\u001b[0m \u001b[1m0s\u001b[0m 74ms/step - accuracy: 0.9898 - loss: 0.0362 — f1_train: 0.9891 — f1_val: 0.3147\n",
      "\u001b[1m133/133\u001b[0m \u001b[32m━━━━━━━━━━━━━━━━━━━━\u001b[0m\u001b[37m\u001b[0m \u001b[1m21s\u001b[0m 130ms/step - accuracy: 0.9898 - loss: 0.0362 - val_accuracy: 0.3160 - val_loss: 8.3245\n",
      "Epoch 47/50\n",
      "\u001b[1m133/133\u001b[0m \u001b[32m━━━━━━━━━━━━━━━━━━━━\u001b[0m\u001b[37m\u001b[0m \u001b[1m0s\u001b[0m 74ms/step - accuracy: 0.9901 - loss: 0.0460 — f1_train: 0.9908 — f1_val: 0.3081\n",
      "\u001b[1m133/133\u001b[0m \u001b[32m━━━━━━━━━━━━━━━━━━━━\u001b[0m\u001b[37m\u001b[0m \u001b[1m20s\u001b[0m 130ms/step - accuracy: 0.9901 - loss: 0.0460 - val_accuracy: 0.3093 - val_loss: 8.0513\n",
      "Epoch 48/50\n",
      "\u001b[1m133/133\u001b[0m \u001b[32m━━━━━━━━━━━━━━━━━━━━\u001b[0m\u001b[37m\u001b[0m \u001b[1m0s\u001b[0m 74ms/step - accuracy: 0.9816 - loss: 0.0813 — f1_train: 0.9747 — f1_val: 0.3004\n",
      "\u001b[1m133/133\u001b[0m \u001b[32m━━━━━━━━━━━━━━━━━━━━\u001b[0m\u001b[37m\u001b[0m \u001b[1m20s\u001b[0m 127ms/step - accuracy: 0.9816 - loss: 0.0813 - val_accuracy: 0.3027 - val_loss: 8.6612\n",
      "Epoch 49/50\n",
      "\u001b[1m133/133\u001b[0m \u001b[32m━━━━━━━━━━━━━━━━━━━━\u001b[0m\u001b[37m\u001b[0m \u001b[1m0s\u001b[0m 74ms/step - accuracy: 0.9725 - loss: 0.0945 — f1_train: 0.9845 — f1_val: 0.3109\n",
      "\u001b[1m133/133\u001b[0m \u001b[32m━━━━━━━━━━━━━━━━━━━━\u001b[0m\u001b[37m\u001b[0m \u001b[1m28s\u001b[0m 183ms/step - accuracy: 0.9725 - loss: 0.0946 - val_accuracy: 0.3113 - val_loss: 7.5538\n",
      "Epoch 50/50\n",
      "\u001b[1m133/133\u001b[0m \u001b[32m━━━━━━━━━━━━━━━━━━━━\u001b[0m\u001b[37m\u001b[0m \u001b[1m0s\u001b[0m 73ms/step - accuracy: 0.9821 - loss: 0.0682 — f1_train: 0.9893 — f1_val: 0.3101\n",
      "\u001b[1m133/133\u001b[0m \u001b[32m━━━━━━━━━━━━━━━━━━━━\u001b[0m\u001b[37m\u001b[0m \u001b[1m39s\u001b[0m 167ms/step - accuracy: 0.9821 - loss: 0.0682 - val_accuracy: 0.3107 - val_loss: 8.0100\n"
     ]
    }
   ],
   "source": [
    "#model\n",
    "model = AlexNet(num_classes=20)\n",
    "\n",
    "#callback\n",
    "f1_callback = F1ScoreCallback(x_train, y_train, x_val, y_val)\n",
    "\n",
    "\n",
    "model.compile(\n",
    "    optimizer=tf.keras.optimizers.Adam(learning_rate=0.001),\n",
    "    loss=tf.keras.losses.SparseCategoricalCrossentropy(from_logits=True),\n",
    "    metrics=['accuracy']\n",
    ")\n",
    "\n",
    "history = model.fit(\n",
    "    x_train, y_train,\n",
    "    epochs=50,\n",
    "    batch_size=64,\n",
    "    validation_data=(x_val, y_val),\n",
    "    callbacks=[f1_callback]\n",
    ")\n"
   ]
  },
  {
   "cell_type": "code",
   "execution_count": null,
   "metadata": {
    "colab": {
     "base_uri": "https://localhost:8080/",
     "height": 517
    },
    "executionInfo": {
     "elapsed": 212,
     "status": "ok",
     "timestamp": 1744929696202,
     "user": {
      "displayName": "Νίκος Κατσαϊδώνης",
      "userId": "13489937806515013970"
     },
     "user_tz": -180
    },
    "id": "wJk5Ivuz1Gg_",
    "outputId": "c32051f9-8d1e-4dce-e50d-9d0996deee69"
   },
   "outputs": [
    {
     "data": {
      "image/png": "[encoded data removed]",
      "text/plain": [
       "<Figure size 1000x600 with 1 Axes>"
      ]
     },
     "metadata": {},
     "output_type": "display_data"
    }
   ],
   "source": [
    "#plot of f1 scores\n",
    "plt.figure(figsize=(10, 6))\n",
    "plt.plot(f1_callback.f1_train_scores, label='Train F1-score')\n",
    "plt.plot(f1_callback.f1_val_scores, label='Validation F1-score')\n",
    "plt.title('F1-score per epoch')\n",
    "plt.xlabel('Epoch')\n",
    "plt.ylabel('F1-score')\n",
    "plt.legend()\n",
    "plt.grid(True)\n",
    "plt.show()\n"
   ]
  },
  {
   "cell_type": "markdown",
   "metadata": {
    "id": "jovUictF8iue"
   },
   "source": [
    "We observe that the training F1-score approaches 1, which indicates that the model is memorizing the data and overfitting.  \n",
    "This is expected, as the network has a large number of parameters and requires a larger dataset to reduce its capacity and prevent it from memorizing too easily.\n"
   ]
  },
  {
   "cell_type": "markdown",
   "metadata": {
    "id": "OxEyZoB4-RPs"
   },
   "source": [
    "**Testing the model**"
   ]
  },
  {
   "cell_type": "code",
   "execution_count": null,
   "metadata": {
    "colab": {
     "base_uri": "https://localhost:8080/"
    },
    "executionInfo": {
     "elapsed": 3414,
     "status": "ok",
     "timestamp": 1744929706586,
     "user": {
      "displayName": "Νίκος Κατσαϊδώνης",
      "userId": "13489937806515013970"
     },
     "user_tz": -180
    },
    "id": "da2WiH_n1J4n",
    "outputId": "bc79f403-1b61-463b-9b41-e153859cbcc0"
   },
   "outputs": [
    {
     "name": "stdout",
     "output_type": "stream",
     "text": [
      "\u001b[1m63/63\u001b[0m \u001b[32m━━━━━━━━━━━━━━━━━━━━\u001b[0m\u001b[37m\u001b[0m \u001b[1m2s\u001b[0m 38ms/step\n",
      "F1 Score: 0.31548983713823087\n",
      "Accuracy: 0.318\n"
     ]
    }
   ],
   "source": [
    "from sklearn.metrics import f1_score, accuracy_score\n",
    "################ TESTING ###############\n",
    "\n",
    "#logits and predictions on test set\n",
    "y_pred_logits = model.predict(x_test)\n",
    "y_pred = np.argmax(y_pred_logits, axis=1)\n",
    "\n",
    "# F1 and accuracy\n",
    "y_test = y_test.flatten()\n",
    "f1_macro = f1_score(y_test, y_pred, average='macro')\n",
    "acc = accuracy_score(y_test, y_pred)\n",
    "\n",
    "print(\"F1 Score:\", f1_macro)\n",
    "print(\"Accuracy:\", acc)\n"
   ]
  },
  {
   "cell_type": "markdown",
   "metadata": {
    "id": "ZxgstTtj876b"
   },
   "source": [
    "Slightly worse results than LeNet, which can be attributed to the high capacity of the model.  \n",
    "To truly assess the model’s performance, a significantly larger dataset is needed in order to reduce the model's capacity and balance out this drawback.\n"
   ]
  },
  {
   "cell_type": "markdown",
   "metadata": {
    "id": "WM0y7KtjJ2VB"
   },
   "source": [
    "# VGG\n",
    "\n",
    "We continue with a significantly deeper network.\n",
    "\n",
    "**NOTE:** Due to limited resources, we did not resize the images to 224×224.  \n",
    "As a result, the original architecture using the blocks [(1, 64), (1, 128), (2, 256), (2, 512), (2, 512)] produced F1-scores on the order of 10^-2.  \n",
    "For this reason, we reduced the architecture to [(1, 32), (1, 64), (2, 128), (2, 256), (2, 256)], and the results obtained with this modified version are shown below.\n"
   ]
  },
  {
   "cell_type": "code",
   "execution_count": null,
   "metadata": {
    "colab": {
     "base_uri": "https://localhost:8080/",
     "height": 36
    },
    "collapsed": true,
    "executionInfo": {
     "elapsed": 5,
     "status": "ok",
     "timestamp": 1745761849021,
     "user": {
      "displayName": "Νίκος Κατσαϊδώνης",
      "userId": "13489937806515013970"
     },
     "user_tz": -180
    },
    "id": "O_noFs-nMMYJ",
    "outputId": "6424c46f-870f-47b4-8981-2ffcf863d3e8"
   },
   "outputs": [
    {
     "data": {
      "application/vnd.google.colaboratory.intrinsic+json": {
       "type": "string"
      },
      "text/plain": [
       "'\\n#Resize the images to 224x224\\nx_train = tf.image.resize(x_train, [224, 224])\\nx_val = tf.image.resize(x_val, [224, 224])\\nx_test = tf.image.resize(x_test, [224, 224])\\n'"
      ]
     },
     "execution_count": 90,
     "metadata": {},
     "output_type": "execute_result"
    }
   ],
   "source": [
    "\n",
    "################# WE DIDNT RESIZED THE IMAGES DUE TO INSUFFICIENT RESOURCES IN COLLAB ####################\n",
    "\"\"\"\n",
    "#Resize the images to 224x224\n",
    "x_train = tf.image.resize(x_train, [224, 224])\n",
    "x_val = tf.image.resize(x_val, [224, 224])\n",
    "x_test = tf.image.resize(x_test, [224, 224])\n",
    "\"\"\""
   ]
  },
  {
   "cell_type": "code",
   "execution_count": null,
   "metadata": {
    "id": "ItT0M2GiJ6cO"
   },
   "outputs": [],
   "source": [
    "\"\"\"\n",
    "\n",
    "EXAMPLE:\n",
    "arch = [(1, 64), (1, 128), (2, 256), (2, 512), (2, 512)]\n",
    "This is the architecture of VGG-11. Each tuple tell us the features of each\n",
    "block: (num_convs, num_channels)\n",
    "\n",
    "\"\"\"\n",
    "\n",
    "\n",
    "class VGG(tf.keras.Model):\n",
    "    def __init__(self, arch, num_classes=20):\n",
    "        super(VGG, self).__init__()\n",
    "\n",
    "        #convolutional blocks\n",
    "        self.net = tf.keras.Sequential()\n",
    "        for (num_convs, num_channels) in arch:\n",
    "            self.net.add(self.vgg_block(num_convs, num_channels))\n",
    "\n",
    "        #FC layers\n",
    "        self.net.add(tf.keras.layers.Flatten())\n",
    "        self.net.add(tf.keras.layers.Dense(4096, activation='relu'))\n",
    "        self.net.add(tf.keras.layers.Dropout(0.5))\n",
    "        self.net.add(tf.keras.layers.Dense(4096, activation='relu'))\n",
    "        self.net.add(tf.keras.layers.Dropout(0.5))\n",
    "        self.net.add(tf.keras.layers.Dense(num_classes))\n",
    "\n",
    "    #method for blocks creation\n",
    "    def vgg_block(self, num_convs, num_channels):\n",
    "        blk = tf.keras.Sequential()\n",
    "        for _ in range(num_convs):\n",
    "            blk.add(tf.keras.layers.Conv2D(num_channels, kernel_size=3, padding='same', activation='relu'))\n",
    "        blk.add(tf.keras.layers.MaxPool2D(pool_size=2, strides=2))\n",
    "        return blk\n",
    "\n",
    "    #forward\n",
    "    def call(self, x):\n",
    "        x = self.net(x)\n",
    "        return x\n",
    "\n",
    "\n"
   ]
  },
  {
   "cell_type": "code",
   "execution_count": null,
   "metadata": {
    "colab": {
     "base_uri": "https://localhost:8080/"
    },
    "executionInfo": {
     "elapsed": 209815,
     "status": "ok",
     "timestamp": 1745767196479,
     "user": {
      "displayName": "Νίκος Κατσαϊδώνης",
      "userId": "13489937806515013970"
     },
     "user_tz": -180
    },
    "id": "PH3Fobr6Owhn",
    "outputId": "05ad0ee7-fc79-45b7-ce75-cdbe8cc4a2b9"
   },
   "outputs": [
    {
     "name": "stdout",
     "output_type": "stream",
     "text": [
      "Epoch 1/50\n",
      "\u001b[1m133/133\u001b[0m \u001b[32m━━━━━━━━━━━━━━━━━━━━\u001b[0m\u001b[37m\u001b[0m \u001b[1m0s\u001b[0m 19ms/step - accuracy: 0.0936 - loss: 2.9281 — f1_train: 0.1875 — f1_val: 0.1751\n",
      "\u001b[1m133/133\u001b[0m \u001b[32m━━━━━━━━━━━━━━━━━━━━\u001b[0m\u001b[37m\u001b[0m \u001b[1m10s\u001b[0m 40ms/step - accuracy: 0.0939 - loss: 2.9270 - val_accuracy: 0.2253 - val_loss: 2.4540\n",
      "Epoch 2/50\n",
      "\u001b[1m130/133\u001b[0m \u001b[32m━━━━━━━━━━━━━━━━━━━\u001b[0m\u001b[37m━\u001b[0m \u001b[1m0s\u001b[0m 11ms/step - accuracy: 0.2534 - loss: 2.4306 — f1_train: 0.3240 — f1_val: 0.3100\n",
      "\u001b[1m133/133\u001b[0m \u001b[32m━━━━━━━━━━━━━━━━━━━━\u001b[0m\u001b[37m\u001b[0m \u001b[1m3s\u001b[0m 21ms/step - accuracy: 0.2541 - loss: 2.4284 - val_accuracy: 0.3360 - val_loss: 2.1409\n",
      "Epoch 3/50\n",
      "\u001b[1m129/133\u001b[0m \u001b[32m━━━━━━━━━━━━━━━━━━━\u001b[0m\u001b[37m━\u001b[0m \u001b[1m0s\u001b[0m 12ms/step - accuracy: 0.3434 - loss: 2.1501 — f1_train: 0.4319 — f1_val: 0.4021\n",
      "\u001b[1m133/133\u001b[0m \u001b[32m━━━━━━━━━━━━━━━━━━━━\u001b[0m\u001b[37m\u001b[0m \u001b[1m6s\u001b[0m 28ms/step - accuracy: 0.3442 - loss: 2.1471 - val_accuracy: 0.4213 - val_loss: 1.9542\n",
      "Epoch 4/50\n",
      "\u001b[1m132/133\u001b[0m \u001b[32m━━━━━━━━━━━━━━━━━━━\u001b[0m\u001b[37m━\u001b[0m \u001b[1m0s\u001b[0m 12ms/step - accuracy: 0.4496 - loss: 1.7995 — f1_train: 0.5111 — f1_val: 0.4516\n",
      "\u001b[1m133/133\u001b[0m \u001b[32m━━━━━━━━━━━━━━━━━━━━\u001b[0m\u001b[37m\u001b[0m \u001b[1m3s\u001b[0m 25ms/step - accuracy: 0.4497 - loss: 1.7991 - val_accuracy: 0.4627 - val_loss: 1.7588\n",
      "Epoch 5/50\n",
      "\u001b[1m132/133\u001b[0m \u001b[32m━━━━━━━━━━━━━━━━━━━\u001b[0m\u001b[37m━\u001b[0m \u001b[1m0s\u001b[0m 13ms/step - accuracy: 0.5020 - loss: 1.5961 — f1_train: 0.5468 — f1_val: 0.4627\n",
      "\u001b[1m133/133\u001b[0m \u001b[32m━━━━━━━━━━━━━━━━━━━━\u001b[0m\u001b[37m\u001b[0m \u001b[1m6s\u001b[0m 29ms/step - accuracy: 0.5022 - loss: 1.5958 - val_accuracy: 0.4767 - val_loss: 1.7371\n",
      "Epoch 6/50\n",
      "\u001b[1m129/133\u001b[0m \u001b[32m━━━━━━━━━━━━━━━━━━━\u001b[0m\u001b[37m━\u001b[0m \u001b[1m0s\u001b[0m 12ms/step - accuracy: 0.5639 - loss: 1.3843 — f1_train: 0.6168 — f1_val: 0.5256\n",
      "\u001b[1m133/133\u001b[0m \u001b[32m━━━━━━━━━━━━━━━━━━━━\u001b[0m\u001b[37m\u001b[0m \u001b[1m3s\u001b[0m 26ms/step - accuracy: 0.5640 - loss: 1.3845 - val_accuracy: 0.5280 - val_loss: 1.6413\n",
      "Epoch 7/50\n",
      "\u001b[1m131/133\u001b[0m \u001b[32m━━━━━━━━━━━━━━━━━━━\u001b[0m\u001b[37m━\u001b[0m \u001b[1m0s\u001b[0m 11ms/step - accuracy: 0.6318 - loss: 1.1919 — f1_train: 0.6977 — f1_val: 0.5324\n",
      "\u001b[1m133/133\u001b[0m \u001b[32m━━━━━━━━━━━━━━━━━━━━\u001b[0m\u001b[37m\u001b[0m \u001b[1m4s\u001b[0m 27ms/step - accuracy: 0.6316 - loss: 1.1926 - val_accuracy: 0.5327 - val_loss: 1.5726\n",
      "Epoch 8/50\n",
      "\u001b[1m132/133\u001b[0m \u001b[32m━━━━━━━━━━━━━━━━━━━\u001b[0m\u001b[37m━\u001b[0m \u001b[1m0s\u001b[0m 11ms/step - accuracy: 0.6934 - loss: 0.9731 — f1_train: 0.7422 — f1_val: 0.5310\n",
      "\u001b[1m133/133\u001b[0m \u001b[32m━━━━━━━━━━━━━━━━━━━━\u001b[0m\u001b[37m\u001b[0m \u001b[1m5s\u001b[0m 24ms/step - accuracy: 0.6932 - loss: 0.9738 - val_accuracy: 0.5387 - val_loss: 1.5909\n",
      "Epoch 9/50\n",
      "\u001b[1m133/133\u001b[0m \u001b[32m━━━━━━━━━━━━━━━━━━━━\u001b[0m\u001b[37m\u001b[0m \u001b[1m0s\u001b[0m 12ms/step - accuracy: 0.7476 - loss: 0.8084 — f1_train: 0.8002 — f1_val: 0.5323\n",
      "\u001b[1m133/133\u001b[0m \u001b[32m━━━━━━━━━━━━━━━━━━━━\u001b[0m\u001b[37m\u001b[0m \u001b[1m5s\u001b[0m 21ms/step - accuracy: 0.7475 - loss: 0.8086 - val_accuracy: 0.5347 - val_loss: 1.6718\n",
      "Epoch 10/50\n",
      "\u001b[1m131/133\u001b[0m \u001b[32m━━━━━━━━━━━━━━━━━━━\u001b[0m\u001b[37m━\u001b[0m \u001b[1m0s\u001b[0m 12ms/step - accuracy: 0.7860 - loss: 0.6603 — f1_train: 0.8574 — f1_val: 0.5447\n",
      "\u001b[1m133/133\u001b[0m \u001b[32m━━━━━━━━━━━━━━━━━━━━\u001b[0m\u001b[37m\u001b[0m \u001b[1m5s\u001b[0m 21ms/step - accuracy: 0.7859 - loss: 0.6607 - val_accuracy: 0.5467 - val_loss: 1.8309\n",
      "Epoch 11/50\n",
      "\u001b[1m132/133\u001b[0m \u001b[32m━━━━━━━━━━━━━━━━━━━\u001b[0m\u001b[37m━\u001b[0m \u001b[1m0s\u001b[0m 11ms/step - accuracy: 0.8420 - loss: 0.4881 — f1_train: 0.9161 — f1_val: 0.5306\n",
      "\u001b[1m133/133\u001b[0m \u001b[32m━━━━━━━━━━━━━━━━━━━━\u001b[0m\u001b[37m\u001b[0m \u001b[1m5s\u001b[0m 21ms/step - accuracy: 0.8419 - loss: 0.4885 - val_accuracy: 0.5320 - val_loss: 1.8843\n",
      "Epoch 12/50\n",
      "\u001b[1m131/133\u001b[0m \u001b[32m━━━━━━━━━━━━━━━━━━━\u001b[0m\u001b[37m━\u001b[0m \u001b[1m0s\u001b[0m 11ms/step - accuracy: 0.9073 - loss: 0.3027 — f1_train: 0.9343 — f1_val: 0.5434\n",
      "\u001b[1m133/133\u001b[0m \u001b[32m━━━━━━━━━━━━━━━━━━━━\u001b[0m\u001b[37m\u001b[0m \u001b[1m3s\u001b[0m 20ms/step - accuracy: 0.9070 - loss: 0.3034 - val_accuracy: 0.5460 - val_loss: 2.0943\n",
      "Epoch 13/50\n",
      "\u001b[1m131/133\u001b[0m \u001b[32m━━━━━━━━━━━━━━━━━━━\u001b[0m\u001b[37m━\u001b[0m \u001b[1m0s\u001b[0m 11ms/step - accuracy: 0.9300 - loss: 0.2264 — f1_train: 0.9487 — f1_val: 0.5325\n",
      "\u001b[1m133/133\u001b[0m \u001b[32m━━━━━━━━━━━━━━━━━━━━\u001b[0m\u001b[37m\u001b[0m \u001b[1m3s\u001b[0m 25ms/step - accuracy: 0.9297 - loss: 0.2272 - val_accuracy: 0.5360 - val_loss: 2.4176\n",
      "Epoch 14/50\n",
      "\u001b[1m131/133\u001b[0m \u001b[32m━━━━━━━━━━━━━━━━━━━\u001b[0m\u001b[37m━\u001b[0m \u001b[1m0s\u001b[0m 11ms/step - accuracy: 0.9442 - loss: 0.1717 — f1_train: 0.9672 — f1_val: 0.5413\n",
      "\u001b[1m133/133\u001b[0m \u001b[32m━━━━━━━━━━━━━━━━━━━━\u001b[0m\u001b[37m\u001b[0m \u001b[1m3s\u001b[0m 24ms/step - accuracy: 0.9440 - loss: 0.1722 - val_accuracy: 0.5407 - val_loss: 2.6298\n",
      "Epoch 15/50\n",
      "\u001b[1m130/133\u001b[0m \u001b[32m━━━━━━━━━━━━━━━━━━━\u001b[0m\u001b[37m━\u001b[0m \u001b[1m0s\u001b[0m 11ms/step - accuracy: 0.9522 - loss: 0.1569 — f1_train: 0.9709 — f1_val: 0.5351\n",
      "\u001b[1m133/133\u001b[0m \u001b[32m━━━━━━━━━━━━━━━━━━━━\u001b[0m\u001b[37m\u001b[0m \u001b[1m3s\u001b[0m 25ms/step - accuracy: 0.9521 - loss: 0.1571 - val_accuracy: 0.5420 - val_loss: 2.8230\n",
      "Epoch 16/50\n",
      "\u001b[1m130/133\u001b[0m \u001b[32m━━━━━━━━━━━━━━━━━━━\u001b[0m\u001b[37m━\u001b[0m \u001b[1m0s\u001b[0m 12ms/step - accuracy: 0.9670 - loss: 0.1103 — f1_train: 0.9733 — f1_val: 0.5300\n",
      "\u001b[1m133/133\u001b[0m \u001b[32m━━━━━━━━━━━━━━━━━━━━\u001b[0m\u001b[37m\u001b[0m \u001b[1m5s\u001b[0m 25ms/step - accuracy: 0.9669 - loss: 0.1107 - val_accuracy: 0.5327 - val_loss: 2.8166\n",
      "Epoch 17/50\n",
      "\u001b[1m131/133\u001b[0m \u001b[32m━━━━━━━━━━━━━━━━━━━\u001b[0m\u001b[37m━\u001b[0m \u001b[1m0s\u001b[0m 11ms/step - accuracy: 0.9629 - loss: 0.1260 — f1_train: 0.9732 — f1_val: 0.5253\n",
      "\u001b[1m133/133\u001b[0m \u001b[32m━━━━━━━━━━━━━━━━━━━━\u001b[0m\u001b[37m\u001b[0m \u001b[1m3s\u001b[0m 23ms/step - accuracy: 0.9627 - loss: 0.1264 - val_accuracy: 0.5280 - val_loss: 2.8757\n",
      "Epoch 18/50\n",
      "\u001b[1m131/133\u001b[0m \u001b[32m━━━━━━━━━━━━━━━━━━━\u001b[0m\u001b[37m━\u001b[0m \u001b[1m0s\u001b[0m 12ms/step - accuracy: 0.9736 - loss: 0.0872 — f1_train: 0.9733 — f1_val: 0.5377\n",
      "\u001b[1m133/133\u001b[0m \u001b[32m━━━━━━━━━━━━━━━━━━━━\u001b[0m\u001b[37m\u001b[0m \u001b[1m5s\u001b[0m 21ms/step - accuracy: 0.9735 - loss: 0.0875 - val_accuracy: 0.5433 - val_loss: 3.2191\n",
      "Epoch 19/50\n",
      "\u001b[1m131/133\u001b[0m \u001b[32m━━━━━━━━━━━━━━━━━━━\u001b[0m\u001b[37m━\u001b[0m \u001b[1m0s\u001b[0m 11ms/step - accuracy: 0.9701 - loss: 0.0936 — f1_train: 0.9707 — f1_val: 0.5339\n",
      "\u001b[1m133/133\u001b[0m \u001b[32m━━━━━━━━━━━━━━━━━━━━\u001b[0m\u001b[37m\u001b[0m \u001b[1m3s\u001b[0m 25ms/step - accuracy: 0.9700 - loss: 0.0939 - val_accuracy: 0.5353 - val_loss: 2.9960\n",
      "Epoch 20/50\n",
      "\u001b[1m131/133\u001b[0m \u001b[32m━━━━━━━━━━━━━━━━━━━\u001b[0m\u001b[37m━\u001b[0m \u001b[1m0s\u001b[0m 11ms/step - accuracy: 0.9604 - loss: 0.1223 — f1_train: 0.9773 — f1_val: 0.5287\n",
      "\u001b[1m133/133\u001b[0m \u001b[32m━━━━━━━━━━━━━━━━━━━━\u001b[0m\u001b[37m\u001b[0m \u001b[1m4s\u001b[0m 26ms/step - accuracy: 0.9604 - loss: 0.1223 - val_accuracy: 0.5267 - val_loss: 3.0080\n",
      "Epoch 21/50\n",
      "\u001b[1m131/133\u001b[0m \u001b[32m━━━━━━━━━━━━━━━━━━━\u001b[0m\u001b[37m━\u001b[0m \u001b[1m0s\u001b[0m 11ms/step - accuracy: 0.9785 - loss: 0.0768 — f1_train: 0.9861 — f1_val: 0.5353\n",
      "\u001b[1m133/133\u001b[0m \u001b[32m━━━━━━━━━━━━━━━━━━━━\u001b[0m\u001b[37m\u001b[0m \u001b[1m3s\u001b[0m 26ms/step - accuracy: 0.9786 - loss: 0.0763 - val_accuracy: 0.5380 - val_loss: 3.5170\n",
      "Epoch 22/50\n",
      "\u001b[1m131/133\u001b[0m \u001b[32m━━━━━━━━━━━━━━━━━━━\u001b[0m\u001b[37m━\u001b[0m \u001b[1m0s\u001b[0m 11ms/step - accuracy: 0.9860 - loss: 0.0441 — f1_train: 0.9822 — f1_val: 0.5274\n",
      "\u001b[1m133/133\u001b[0m \u001b[32m━━━━━━━━━━━━━━━━━━━━\u001b[0m\u001b[37m\u001b[0m \u001b[1m3s\u001b[0m 21ms/step - accuracy: 0.9860 - loss: 0.0442 - val_accuracy: 0.5320 - val_loss: 3.6989\n",
      "Epoch 23/50\n",
      "\u001b[1m131/133\u001b[0m \u001b[32m━━━━━━━━━━━━━━━━━━━\u001b[0m\u001b[37m━\u001b[0m \u001b[1m0s\u001b[0m 11ms/step - accuracy: 0.9622 - loss: 0.1216 — f1_train: 0.9842 — f1_val: 0.5471\n",
      "\u001b[1m133/133\u001b[0m \u001b[32m━━━━━━━━━━━━━━━━━━━━\u001b[0m\u001b[37m\u001b[0m \u001b[1m3s\u001b[0m 25ms/step - accuracy: 0.9623 - loss: 0.1215 - val_accuracy: 0.5427 - val_loss: 3.3810\n",
      "Epoch 24/50\n",
      "\u001b[1m130/133\u001b[0m \u001b[32m━━━━━━━━━━━━━━━━━━━\u001b[0m\u001b[37m━\u001b[0m \u001b[1m0s\u001b[0m 11ms/step - accuracy: 0.9831 - loss: 0.0606 — f1_train: 0.9814 — f1_val: 0.5365\n",
      "\u001b[1m133/133\u001b[0m \u001b[32m━━━━━━━━━━━━━━━━━━━━\u001b[0m\u001b[37m\u001b[0m \u001b[1m3s\u001b[0m 26ms/step - accuracy: 0.9829 - loss: 0.0611 - val_accuracy: 0.5427 - val_loss: 3.4566\n",
      "Epoch 25/50\n",
      "\u001b[1m130/133\u001b[0m \u001b[32m━━━━━━━━━━━━━━━━━━━\u001b[0m\u001b[37m━\u001b[0m \u001b[1m0s\u001b[0m 12ms/step - accuracy: 0.9621 - loss: 0.1216 — f1_train: 0.9866 — f1_val: 0.5450\n",
      "\u001b[1m133/133\u001b[0m \u001b[32m━━━━━━━━━━━━━━━━━━━━\u001b[0m\u001b[37m\u001b[0m \u001b[1m4s\u001b[0m 21ms/step - accuracy: 0.9620 - loss: 0.1218 - val_accuracy: 0.5453 - val_loss: 3.1132\n",
      "Epoch 26/50\n",
      "\u001b[1m132/133\u001b[0m \u001b[32m━━━━━━━━━━━━━━━━━━━\u001b[0m\u001b[37m━\u001b[0m \u001b[1m0s\u001b[0m 12ms/step - accuracy: 0.9835 - loss: 0.0600 — f1_train: 0.9925 — f1_val: 0.5347\n",
      "\u001b[1m133/133\u001b[0m \u001b[32m━━━━━━━━━━━━━━━━━━━━\u001b[0m\u001b[37m\u001b[0m \u001b[1m5s\u001b[0m 23ms/step - accuracy: 0.9835 - loss: 0.0600 - val_accuracy: 0.5387 - val_loss: 3.5593\n",
      "Epoch 27/50\n",
      "\u001b[1m130/133\u001b[0m \u001b[32m━━━━━━━━━━━━━━━━━━━\u001b[0m\u001b[37m━\u001b[0m \u001b[1m0s\u001b[0m 12ms/step - accuracy: 0.9898 - loss: 0.0403 — f1_train: 0.9864 — f1_val: 0.5236\n",
      "\u001b[1m133/133\u001b[0m \u001b[32m━━━━━━━━━━━━━━━━━━━━\u001b[0m\u001b[37m\u001b[0m \u001b[1m4s\u001b[0m 27ms/step - accuracy: 0.9897 - loss: 0.0403 - val_accuracy: 0.5273 - val_loss: 3.6715\n",
      "Epoch 28/50\n",
      "\u001b[1m131/133\u001b[0m \u001b[32m━━━━━━━━━━━━━━━━━━━\u001b[0m\u001b[37m━\u001b[0m \u001b[1m0s\u001b[0m 11ms/step - accuracy: 0.9697 - loss: 0.1011 — f1_train: 0.9818 — f1_val: 0.5276\n",
      "\u001b[1m133/133\u001b[0m \u001b[32m━━━━━━━━━━━━━━━━━━━━\u001b[0m\u001b[37m\u001b[0m \u001b[1m3s\u001b[0m 21ms/step - accuracy: 0.9696 - loss: 0.1014 - val_accuracy: 0.5340 - val_loss: 3.2373\n",
      "Epoch 29/50\n",
      "\u001b[1m132/133\u001b[0m \u001b[32m━━━━━━━━━━━━━━━━━━━\u001b[0m\u001b[37m━\u001b[0m \u001b[1m0s\u001b[0m 12ms/step - accuracy: 0.9798 - loss: 0.0689 — f1_train: 0.9917 — f1_val: 0.5468\n",
      "\u001b[1m133/133\u001b[0m \u001b[32m━━━━━━━━━━━━━━━━━━━━\u001b[0m\u001b[37m\u001b[0m \u001b[1m6s\u001b[0m 27ms/step - accuracy: 0.9799 - loss: 0.0688 - val_accuracy: 0.5467 - val_loss: 3.5250\n",
      "Epoch 30/50\n",
      "\u001b[1m133/133\u001b[0m \u001b[32m━━━━━━━━━━━━━━━━━━━━\u001b[0m\u001b[37m\u001b[0m \u001b[1m0s\u001b[0m 12ms/step - accuracy: 0.9902 - loss: 0.0308 — f1_train: 0.9974 — f1_val: 0.5483\n",
      "\u001b[1m133/133\u001b[0m \u001b[32m━━━━━━━━━━━━━━━━━━━━\u001b[0m\u001b[37m\u001b[0m \u001b[1m5s\u001b[0m 26ms/step - accuracy: 0.9902 - loss: 0.0308 - val_accuracy: 0.5560 - val_loss: 3.6309\n",
      "Epoch 31/50\n",
      "\u001b[1m131/133\u001b[0m \u001b[32m━━━━━━━━━━━━━━━━━━━\u001b[0m\u001b[37m━\u001b[0m \u001b[1m0s\u001b[0m 11ms/step - accuracy: 0.9839 - loss: 0.0527 — f1_train: 0.9884 — f1_val: 0.5294\n",
      "\u001b[1m133/133\u001b[0m \u001b[32m━━━━━━━━━━━━━━━━━━━━\u001b[0m\u001b[37m\u001b[0m \u001b[1m3s\u001b[0m 20ms/step - accuracy: 0.9838 - loss: 0.0530 - val_accuracy: 0.5300 - val_loss: 3.7168\n",
      "Epoch 32/50\n",
      "\u001b[1m131/133\u001b[0m \u001b[32m━━━━━━━━━━━━━━━━━━━\u001b[0m\u001b[37m━\u001b[0m \u001b[1m0s\u001b[0m 12ms/step - accuracy: 0.9875 - loss: 0.0415 — f1_train: 0.9879 — f1_val: 0.5225\n",
      "\u001b[1m133/133\u001b[0m \u001b[32m━━━━━━━━━━━━━━━━━━━━\u001b[0m\u001b[37m\u001b[0m \u001b[1m6s\u001b[0m 27ms/step - accuracy: 0.9873 - loss: 0.0419 - val_accuracy: 0.5280 - val_loss: 3.6804\n",
      "Epoch 33/50\n",
      "\u001b[1m132/133\u001b[0m \u001b[32m━━━━━━━━━━━━━━━━━━━\u001b[0m\u001b[37m━\u001b[0m \u001b[1m0s\u001b[0m 11ms/step - accuracy: 0.9862 - loss: 0.0445 — f1_train: 0.9908 — f1_val: 0.5333\n",
      "\u001b[1m133/133\u001b[0m \u001b[32m━━━━━━━━━━━━━━━━━━━━\u001b[0m\u001b[37m\u001b[0m \u001b[1m4s\u001b[0m 21ms/step - accuracy: 0.9861 - loss: 0.0446 - val_accuracy: 0.5387 - val_loss: 3.8564\n",
      "Epoch 34/50\n",
      "\u001b[1m130/133\u001b[0m \u001b[32m━━━━━━━━━━━━━━━━━━━\u001b[0m\u001b[37m━\u001b[0m \u001b[1m0s\u001b[0m 12ms/step - accuracy: 0.9792 - loss: 0.0746 — f1_train: 0.9692 — f1_val: 0.5182\n",
      "\u001b[1m133/133\u001b[0m \u001b[32m━━━━━━━━━━━━━━━━━━━━\u001b[0m\u001b[37m\u001b[0m \u001b[1m6s\u001b[0m 27ms/step - accuracy: 0.9788 - loss: 0.0757 - val_accuracy: 0.5267 - val_loss: 3.5328\n",
      "Epoch 35/50\n",
      "\u001b[1m132/133\u001b[0m \u001b[32m━━━━━━━━━━━━━━━━━━━\u001b[0m\u001b[37m━\u001b[0m \u001b[1m0s\u001b[0m 12ms/step - accuracy: 0.9684 - loss: 0.1119 — f1_train: 0.9914 — f1_val: 0.5270\n",
      "\u001b[1m133/133\u001b[0m \u001b[32m━━━━━━━━━━━━━━━━━━━━\u001b[0m\u001b[37m\u001b[0m \u001b[1m3s\u001b[0m 21ms/step - accuracy: 0.9685 - loss: 0.1115 - val_accuracy: 0.5293 - val_loss: 3.5796\n",
      "Epoch 36/50\n",
      "\u001b[1m131/133\u001b[0m \u001b[32m━━━━━━━━━━━━━━━━━━━\u001b[0m\u001b[37m━\u001b[0m \u001b[1m0s\u001b[0m 12ms/step - accuracy: 0.9900 - loss: 0.0307 — f1_train: 0.9857 — f1_val: 0.5337\n",
      "\u001b[1m133/133\u001b[0m \u001b[32m━━━━━━━━━━━━━━━━━━━━\u001b[0m\u001b[37m\u001b[0m \u001b[1m5s\u001b[0m 21ms/step - accuracy: 0.9899 - loss: 0.0311 - val_accuracy: 0.5420 - val_loss: 3.8573\n",
      "Epoch 37/50\n",
      "\u001b[1m132/133\u001b[0m \u001b[32m━━━━━━━━━━━━━━━━━━━\u001b[0m\u001b[37m━\u001b[0m \u001b[1m0s\u001b[0m 12ms/step - accuracy: 0.9826 - loss: 0.0581 — f1_train: 0.9882 — f1_val: 0.5304\n",
      "\u001b[1m133/133\u001b[0m \u001b[32m━━━━━━━━━━━━━━━━━━━━\u001b[0m\u001b[37m\u001b[0m \u001b[1m5s\u001b[0m 24ms/step - accuracy: 0.9826 - loss: 0.0583 - val_accuracy: 0.5293 - val_loss: 3.8594\n",
      "Epoch 38/50\n",
      "\u001b[1m130/133\u001b[0m \u001b[32m━━━━━━━━━━━━━━━━━━━\u001b[0m\u001b[37m━\u001b[0m \u001b[1m0s\u001b[0m 12ms/step - accuracy: 0.9808 - loss: 0.0612 — f1_train: 0.9905 — f1_val: 0.5307\n",
      "\u001b[1m133/133\u001b[0m \u001b[32m━━━━━━━━━━━━━━━━━━━━\u001b[0m\u001b[37m\u001b[0m \u001b[1m5s\u001b[0m 21ms/step - accuracy: 0.9808 - loss: 0.0611 - val_accuracy: 0.5340 - val_loss: 3.9373\n",
      "Epoch 39/50\n",
      "\u001b[1m131/133\u001b[0m \u001b[32m━━━━━━━━━━━━━━━━━━━\u001b[0m\u001b[37m━\u001b[0m \u001b[1m0s\u001b[0m 11ms/step - accuracy: 0.9808 - loss: 0.0619 — f1_train: 0.9517 — f1_val: 0.4809\n",
      "\u001b[1m133/133\u001b[0m \u001b[32m━━━━━━━━━━━━━━━━━━━━\u001b[0m\u001b[37m\u001b[0m \u001b[1m3s\u001b[0m 25ms/step - accuracy: 0.9808 - loss: 0.0621 - val_accuracy: 0.4920 - val_loss: 4.0734\n",
      "Epoch 40/50\n",
      "\u001b[1m131/133\u001b[0m \u001b[32m━━━━━━━━━━━━━━━━━━━\u001b[0m\u001b[37m━\u001b[0m \u001b[1m0s\u001b[0m 11ms/step - accuracy: 0.9734 - loss: 0.0911 — f1_train: 0.9851 — f1_val: 0.5124\n",
      "\u001b[1m133/133\u001b[0m \u001b[32m━━━━━━━━━━━━━━━━━━━━\u001b[0m\u001b[37m\u001b[0m \u001b[1m3s\u001b[0m 24ms/step - accuracy: 0.9736 - loss: 0.0908 - val_accuracy: 0.5140 - val_loss: 4.0445\n",
      "Epoch 41/50\n",
      "\u001b[1m129/133\u001b[0m \u001b[32m━━━━━━━━━━━━━━━━━━━\u001b[0m\u001b[37m━\u001b[0m \u001b[1m0s\u001b[0m 12ms/step - accuracy: 0.9916 - loss: 0.0276 — f1_train: 0.9962 — f1_val: 0.5264\n",
      "\u001b[1m133/133\u001b[0m \u001b[32m━━━━━━━━━━━━━━━━━━━━\u001b[0m\u001b[37m\u001b[0m \u001b[1m3s\u001b[0m 21ms/step - accuracy: 0.9917 - loss: 0.0274 - val_accuracy: 0.5300 - val_loss: 4.0296\n",
      "Epoch 42/50\n",
      "\u001b[1m133/133\u001b[0m \u001b[32m━━━━━━━━━━━━━━━━━━━━\u001b[0m\u001b[37m\u001b[0m \u001b[1m0s\u001b[0m 11ms/step - accuracy: 0.9946 - loss: 0.0188 — f1_train: 0.9940 — f1_val: 0.5166\n",
      "\u001b[1m133/133\u001b[0m \u001b[32m━━━━━━━━━━━━━━━━━━━━\u001b[0m\u001b[37m\u001b[0m \u001b[1m5s\u001b[0m 21ms/step - accuracy: 0.9945 - loss: 0.0189 - val_accuracy: 0.5267 - val_loss: 4.2564\n",
      "Epoch 43/50\n",
      "\u001b[1m131/133\u001b[0m \u001b[32m━━━━━━━━━━━━━━━━━━━\u001b[0m\u001b[37m━\u001b[0m \u001b[1m0s\u001b[0m 11ms/step - accuracy: 0.9833 - loss: 0.0592 — f1_train: 0.9881 — f1_val: 0.5187\n",
      "\u001b[1m133/133\u001b[0m \u001b[32m━━━━━━━━━━━━━━━━━━━━\u001b[0m\u001b[37m\u001b[0m \u001b[1m3s\u001b[0m 21ms/step - accuracy: 0.9832 - loss: 0.0594 - val_accuracy: 0.5227 - val_loss: 4.2080\n",
      "Epoch 44/50\n",
      "\u001b[1m130/133\u001b[0m \u001b[32m━━━━━━━━━━━━━━━━━━━\u001b[0m\u001b[37m━\u001b[0m \u001b[1m0s\u001b[0m 12ms/step - accuracy: 0.9814 - loss: 0.0620 — f1_train: 0.9750 — f1_val: 0.5259\n",
      "\u001b[1m133/133\u001b[0m \u001b[32m━━━━━━━━━━━━━━━━━━━━\u001b[0m\u001b[37m\u001b[0m \u001b[1m4s\u001b[0m 27ms/step - accuracy: 0.9812 - loss: 0.0624 - val_accuracy: 0.5280 - val_loss: 3.9226\n",
      "Epoch 45/50\n",
      "\u001b[1m131/133\u001b[0m \u001b[32m━━━━━━━━━━━━━━━━━━━\u001b[0m\u001b[37m━\u001b[0m \u001b[1m0s\u001b[0m 11ms/step - accuracy: 0.9831 - loss: 0.0547 — f1_train: 0.9883 — f1_val: 0.5227\n",
      "\u001b[1m133/133\u001b[0m \u001b[32m━━━━━━━━━━━━━━━━━━━━\u001b[0m\u001b[37m\u001b[0m \u001b[1m3s\u001b[0m 25ms/step - accuracy: 0.9831 - loss: 0.0548 - val_accuracy: 0.5280 - val_loss: 3.7649\n",
      "Epoch 46/50\n",
      "\u001b[1m131/133\u001b[0m \u001b[32m━━━━━━━━━━━━━━━━━━━\u001b[0m\u001b[37m━\u001b[0m \u001b[1m0s\u001b[0m 11ms/step - accuracy: 0.9784 - loss: 0.0717 — f1_train: 0.9807 — f1_val: 0.5082\n",
      "\u001b[1m133/133\u001b[0m \u001b[32m━━━━━━━━━━━━━━━━━━━━\u001b[0m\u001b[37m\u001b[0m \u001b[1m3s\u001b[0m 25ms/step - accuracy: 0.9784 - loss: 0.0717 - val_accuracy: 0.5107 - val_loss: 4.1461\n",
      "Epoch 47/50\n",
      "\u001b[1m131/133\u001b[0m \u001b[32m━━━━━━━━━━━━━━━━━━━\u001b[0m\u001b[37m━\u001b[0m \u001b[1m0s\u001b[0m 11ms/step - accuracy: 0.9737 - loss: 0.0921 — f1_train: 0.9938 — f1_val: 0.5251\n",
      "\u001b[1m133/133\u001b[0m \u001b[32m━━━━━━━━━━━━━━━━━━━━\u001b[0m\u001b[37m\u001b[0m \u001b[1m3s\u001b[0m 23ms/step - accuracy: 0.9738 - loss: 0.0919 - val_accuracy: 0.5233 - val_loss: 3.6572\n",
      "Epoch 48/50\n",
      "\u001b[1m132/133\u001b[0m \u001b[32m━━━━━━━━━━━━━━━━━━━\u001b[0m\u001b[37m━\u001b[0m \u001b[1m0s\u001b[0m 13ms/step - accuracy: 0.9912 - loss: 0.0292 — f1_train: 0.9945 — f1_val: 0.5213\n",
      "\u001b[1m133/133\u001b[0m \u001b[32m━━━━━━━━━━━━━━━━━━━━\u001b[0m\u001b[37m\u001b[0m \u001b[1m6s\u001b[0m 31ms/step - accuracy: 0.9912 - loss: 0.0292 - val_accuracy: 0.5273 - val_loss: 3.8951\n",
      "Epoch 49/50\n",
      "\u001b[1m131/133\u001b[0m \u001b[32m━━━━━━━━━━━━━━━━━━━\u001b[0m\u001b[37m━\u001b[0m \u001b[1m0s\u001b[0m 13ms/step - accuracy: 0.9904 - loss: 0.0412 — f1_train: 0.9882 — f1_val: 0.5092\n",
      "\u001b[1m133/133\u001b[0m \u001b[32m━━━━━━━━━━━━━━━━━━━━\u001b[0m\u001b[37m\u001b[0m \u001b[1m5s\u001b[0m 30ms/step - accuracy: 0.9904 - loss: 0.0412 - val_accuracy: 0.5107 - val_loss: 4.2974\n",
      "Epoch 50/50\n",
      "\u001b[1m129/133\u001b[0m \u001b[32m━━━━━━━━━━━━━━━━━━━\u001b[0m\u001b[37m━\u001b[0m \u001b[1m0s\u001b[0m 12ms/step - accuracy: 0.9862 - loss: 0.0538 — f1_train: 0.9817 — f1_val: 0.5018\n",
      "\u001b[1m133/133\u001b[0m \u001b[32m━━━━━━━━━━━━━━━━━━━━\u001b[0m\u001b[37m\u001b[0m \u001b[1m3s\u001b[0m 26ms/step - accuracy: 0.9862 - loss: 0.0540 - val_accuracy: 0.5000 - val_loss: 4.4121\n"
     ]
    }
   ],
   "source": [
    "#arch=[(1, 64), (1, 128), (2, 256), (2, 512), (2, 512)]\n",
    "arch=[(1, 32), (1, 64), (2, 128), (2, 256), (2, 256)]\n",
    "\n",
    "\n",
    "model = VGG(arch, num_classes=20)\n",
    "\n",
    "#callback for f1 scores\n",
    "f1_callback = F1ScoreCallback(x_train, y_train, x_val, y_val)\n",
    "\n",
    "\n",
    "# Compile\n",
    "model.compile(\n",
    "    optimizer=tf.keras.optimizers.Adam(learning_rate=0.001),\n",
    "    loss=tf.keras.losses.SparseCategoricalCrossentropy(from_logits=True),\n",
    "    metrics=['accuracy']\n",
    ")\n",
    "\n",
    "#model.fit\n",
    "history = model.fit(\n",
    "    x_train, y_train,\n",
    "    epochs=50,\n",
    "    batch_size=64,\n",
    "    validation_data=(x_val, y_val),\n",
    "    callbacks=[f1_callback]\n",
    ")\n",
    "\n"
   ]
  },
  {
   "cell_type": "code",
   "execution_count": null,
   "metadata": {
    "colab": {
     "base_uri": "https://localhost:8080/",
     "height": 564
    },
    "executionInfo": {
     "elapsed": 158,
     "status": "ok",
     "timestamp": 1745767199120,
     "user": {
      "displayName": "Νίκος Κατσαϊδώνης",
      "userId": "13489937806515013970"
     },
     "user_tz": -180
    },
    "id": "WmzuowlBnToI",
    "outputId": "359e6523-399b-4329-ed82-aaa6de39fb89"
   },
   "outputs": [
    {
     "data": {
      "image/png": "[encoded data removed]",
      "text/plain": [
       "<Figure size 1000x600 with 1 Axes>"
      ]
     },
     "metadata": {},
     "output_type": "display_data"
    }
   ],
   "source": [
    "#plot of f1 scores\n",
    "plt.figure(figsize=(10, 6))\n",
    "plt.plot(f1_callback.f1_train_scores, label='Train F1-score')\n",
    "plt.plot(f1_callback.f1_val_scores, label='Validation F1-score')\n",
    "plt.title('F1-score per epoch')\n",
    "plt.xlabel('Epoch')\n",
    "plt.ylabel('F1-score')\n",
    "plt.legend()\n",
    "plt.grid(True)\n",
    "plt.show()\n"
   ]
  },
  {
   "cell_type": "markdown",
   "metadata": {
    "id": "V4LyoNkc_g32"
   },
   "source": [
    "Once again, we observe the training F1-score approaching 1, indicating overfitting due to the high capacity of the network and the limited size of our dataset.  \n",
    "Nevertheless, the validation F1-score is higher compared to the previous networks.\n"
   ]
  },
  {
   "cell_type": "markdown",
   "metadata": {
    "id": "EimAMK0cAY6X"
   },
   "source": [
    "**Testing**"
   ]
  },
  {
   "cell_type": "code",
   "execution_count": null,
   "metadata": {
    "colab": {
     "base_uri": "https://localhost:8080/"
    },
    "executionInfo": {
     "elapsed": 666,
     "status": "ok",
     "timestamp": 1745767216460,
     "user": {
      "displayName": "Νίκος Κατσαϊδώνης",
      "userId": "13489937806515013970"
     },
     "user_tz": -180
    },
    "id": "Trpq1GN7osEm",
    "outputId": "1dd219db-273b-47be-fb36-7b13903795de"
   },
   "outputs": [
    {
     "name": "stdout",
     "output_type": "stream",
     "text": [
      "\u001b[1m63/63\u001b[0m \u001b[32m━━━━━━━━━━━━━━━━━━━━\u001b[0m\u001b[37m\u001b[0m \u001b[1m1s\u001b[0m 8ms/step\n",
      "F1 Score: 0.514876857523478\n",
      "Accuracy: 0.5115\n"
     ]
    }
   ],
   "source": [
    "from sklearn.metrics import f1_score, accuracy_score\n",
    "################ TESTING ###############\n",
    "\n",
    "#logits and predictions on test set\n",
    "y_pred_logits = model.predict(x_test)\n",
    "y_pred = np.argmax(y_pred_logits, axis=1)\n",
    "\n",
    "# F1 and accuracy\n",
    "y_test = y_test.flatten()\n",
    "f1_macro = f1_score(y_test, y_pred, average='macro')\n",
    "acc = accuracy_score(y_test, y_pred)\n",
    "\n",
    "print(\"F1 Score:\", f1_macro)\n",
    "print(\"Accuracy:\", acc)\n"
   ]
  },
  {
   "cell_type": "markdown",
   "metadata": {
    "id": "z57mGzMe_xPI"
   },
   "source": [
    "Compared to the previous networks, we observe an increase of approximately 0.2 in both F1-score and accuracy, making VGG the most effective model so far—despite its high capacity and our small dataset.\n"
   ]
  },
  {
   "cell_type": "markdown",
   "metadata": {
    "id": "4AfCkfGipgOX"
   },
   "source": [
    "# MY CNN\n",
    "\n",
    "We designed a custom network that we believe is better suited to the size of our dataset. The architecture is as follows:\n",
    "\n",
    "* Conv 3×3 with 32 filters followed by average pooling of size 2  \n",
    "* Conv 3×3 with 64 filters followed by average pooling of size 2  \n",
    "* Conv 3×3 with 128 filters followed by average pooling of size 2  \n",
    "* Fully connected layer projecting to 512 neurons  \n",
    "* Fully connected layer projecting to 256 neurons  \n",
    "* Final projection to the number of classes\n",
    "\n",
    "All convolutional layers use \"same\" zero padding to preserve the spatial dimensions of the input. Additionally, ReLU is used as the activation function throughout the network.\n"
   ]
  },
  {
   "cell_type": "code",
   "execution_count": null,
   "metadata": {
    "id": "_BYSHEwspkud"
   },
   "outputs": [],
   "source": [
    "#We will create our own cnn\n",
    "\n",
    "import tensorflow as tf\n",
    "from tensorflow.keras import layers, models\n",
    "\n",
    "class MYCNN(tf.keras.Model):\n",
    "    def __init__(self, num_classes=20, input_shape=(224, 224, 3)):\n",
    "        super(MYCNN, self).__init__()\n",
    "\n",
    "        # Ορίζουμε το Sequential μοντέλο με τα στρώματα\n",
    "        self.model = models.Sequential()\n",
    "\n",
    "        # 1st Conv Block: Conv2D -> AveragePooling2D\n",
    "        self.model.add(layers.Conv2D(32, kernel_size=3, activation='relu', padding='same', input_shape=input_shape))\n",
    "        self.model.add(layers.AveragePooling2D(pool_size=2))\n",
    "\n",
    "        # 2nd Conv Block: Conv2D -> AveragePooling2D\n",
    "        self.model.add(layers.Conv2D(64, kernel_size=3, activation='relu', padding='same'))\n",
    "        self.model.add(layers.AveragePooling2D(pool_size=2))\n",
    "\n",
    "        # 3rd Conv Block: Conv2D -> AveragePooling2D\n",
    "        self.model.add(layers.Conv2D(128, kernel_size=3, activation='relu', padding='same'))\n",
    "        self.model.add(layers.AveragePooling2D(pool_size=2))\n",
    "\n",
    "        # Fully Connected Layers\n",
    "        self.model.add(layers.Flatten())\n",
    "        self.model.add(layers.Dense(512, activation='relu'))\n",
    "        #self.model.add(layers.Dropout(0.5)) #Firstly without dropout to see the differnces\n",
    "        self.model.add(layers.Dense(256, activation='relu'))\n",
    "        #self.model.add(layers.Dropout(0.5)) #Firstly without dropout to see the differnces\n",
    "\n",
    "        # Output Layer (logits)\n",
    "        self.model.add(layers.Dense(num_classes))\n",
    "\n",
    "    def call(self, inputs):\n",
    "        return self.model(inputs)\n"
   ]
  },
  {
   "cell_type": "markdown",
   "metadata": {
    "id": "b-illIjW6FDg"
   },
   "source": [
    "**Resizing the images to 224×224 resulted in worse F1-scores, which is why we kept the model trained on 32×32 images. However, we present both versions of the model along with their results.**\n"
   ]
  },
  {
   "cell_type": "markdown",
   "metadata": {
    "id": "ZmLbWQrw7PnC"
   },
   "source": [
    "## Images of size 32x32:"
   ]
  },
  {
   "cell_type": "code",
   "execution_count": null,
   "metadata": {
    "colab": {
     "base_uri": "https://localhost:8080/"
    },
    "executionInfo": {
     "elapsed": 126887,
     "status": "ok",
     "timestamp": 1745766281381,
     "user": {
      "displayName": "Νίκος Κατσαϊδώνης",
      "userId": "13489937806515013970"
     },
     "user_tz": -180
    },
    "id": "7q3mTDXLrlLk",
    "outputId": "824c1308-ac4b-4d60-db26-f9e4e23acec6"
   },
   "outputs": [
    {
     "name": "stderr",
     "output_type": "stream",
     "text": [
      "/usr/local/lib/python3.11/dist-packages/keras/src/layers/convolutional/base_conv.py:107: UserWarning: Do not pass an `input_shape`/`input_dim` argument to a layer. When using Sequential models, prefer using an `Input(shape)` object as the first layer in the model instead.\n",
      "  super().__init__(activity_regularizer=activity_regularizer, **kwargs)\n"
     ]
    },
    {
     "name": "stdout",
     "output_type": "stream",
     "text": [
      "Epoch 1/50\n",
      "\u001b[1m133/133\u001b[0m \u001b[32m━━━━━━━━━━━━━━━━━━━━\u001b[0m\u001b[37m\u001b[0m \u001b[1m0s\u001b[0m 19ms/step - accuracy: 0.1130 - loss: 2.8486 — f1_train: 0.2141 — f1_val: 0.1972\n",
      "\u001b[1m133/133\u001b[0m \u001b[32m━━━━━━━━━━━━━━━━━━━━\u001b[0m\u001b[37m\u001b[0m \u001b[1m10s\u001b[0m 48ms/step - accuracy: 0.1134 - loss: 2.8475 - val_accuracy: 0.2440 - val_loss: 2.4933\n",
      "Epoch 2/50\n",
      "\u001b[1m132/133\u001b[0m \u001b[32m━━━━━━━━━━━━━━━━━━━\u001b[0m\u001b[37m━\u001b[0m \u001b[1m0s\u001b[0m 5ms/step - accuracy: 0.2668 - loss: 2.4147 — f1_train: 0.3390 — f1_val: 0.3219\n",
      "\u001b[1m133/133\u001b[0m \u001b[32m━━━━━━━━━━━━━━━━━━━━\u001b[0m\u001b[37m\u001b[0m \u001b[1m2s\u001b[0m 15ms/step - accuracy: 0.2671 - loss: 2.4137 - val_accuracy: 0.3413 - val_loss: 2.1944\n",
      "Epoch 3/50\n",
      "\u001b[1m129/133\u001b[0m \u001b[32m━━━━━━━━━━━━━━━━━━━\u001b[0m\u001b[37m━\u001b[0m \u001b[1m0s\u001b[0m 4ms/step - accuracy: 0.3573 - loss: 2.1293 — f1_train: 0.4109 — f1_val: 0.3897\n",
      "\u001b[1m133/133\u001b[0m \u001b[32m━━━━━━━━━━━━━━━━━━━━\u001b[0m\u001b[37m\u001b[0m \u001b[1m2s\u001b[0m 13ms/step - accuracy: 0.3576 - loss: 2.1279 - val_accuracy: 0.4000 - val_loss: 2.0242\n",
      "Epoch 4/50\n",
      "\u001b[1m131/133\u001b[0m \u001b[32m━━━━━━━━━━━━━━━━━━━\u001b[0m\u001b[37m━\u001b[0m \u001b[1m0s\u001b[0m 4ms/step - accuracy: 0.4167 - loss: 1.9435 — f1_train: 0.4535 — f1_val: 0.4090\n",
      "\u001b[1m133/133\u001b[0m \u001b[32m━━━━━━━━━━━━━━━━━━━━\u001b[0m\u001b[37m\u001b[0m \u001b[1m2s\u001b[0m 13ms/step - accuracy: 0.4169 - loss: 1.9428 - val_accuracy: 0.4213 - val_loss: 1.9026\n",
      "Epoch 5/50\n",
      "\u001b[1m127/133\u001b[0m \u001b[32m━━━━━━━━━━━━━━━━━━━\u001b[0m\u001b[37m━\u001b[0m \u001b[1m0s\u001b[0m 4ms/step - accuracy: 0.4592 - loss: 1.7577 — f1_train: 0.5110 — f1_val: 0.4522\n",
      "\u001b[1m133/133\u001b[0m \u001b[32m━━━━━━━━━━━━━━━━━━━━\u001b[0m\u001b[37m\u001b[0m \u001b[1m2s\u001b[0m 12ms/step - accuracy: 0.4595 - loss: 1.7574 - val_accuracy: 0.4653 - val_loss: 1.8223\n",
      "Epoch 6/50\n",
      "\u001b[1m121/133\u001b[0m \u001b[32m━━━━━━━━━━━━━━━━━━\u001b[0m\u001b[37m━━\u001b[0m \u001b[1m0s\u001b[0m 5ms/step - accuracy: 0.5172 - loss: 1.5955 — f1_train: 0.5587 — f1_val: 0.4837\n",
      "\u001b[1m133/133\u001b[0m \u001b[32m━━━━━━━━━━━━━━━━━━━━\u001b[0m\u001b[37m\u001b[0m \u001b[1m3s\u001b[0m 14ms/step - accuracy: 0.5167 - loss: 1.5958 - val_accuracy: 0.4920 - val_loss: 1.7052\n",
      "Epoch 7/50\n",
      "\u001b[1m127/133\u001b[0m \u001b[32m━━━━━━━━━━━━━━━━━━━\u001b[0m\u001b[37m━\u001b[0m \u001b[1m0s\u001b[0m 4ms/step - accuracy: 0.5539 - loss: 1.4432 — f1_train: 0.5984 — f1_val: 0.4726\n",
      "\u001b[1m133/133\u001b[0m \u001b[32m━━━━━━━━━━━━━━━━━━━━\u001b[0m\u001b[37m\u001b[0m \u001b[1m3s\u001b[0m 20ms/step - accuracy: 0.5536 - loss: 1.4440 - val_accuracy: 0.4913 - val_loss: 1.6792\n",
      "Epoch 8/50\n",
      "\u001b[1m121/133\u001b[0m \u001b[32m━━━━━━━━━━━━━━━━━━\u001b[0m\u001b[37m━━\u001b[0m \u001b[1m0s\u001b[0m 5ms/step - accuracy: 0.5860 - loss: 1.3256 — f1_train: 0.6308 — f1_val: 0.5022\n",
      "\u001b[1m133/133\u001b[0m \u001b[32m━━━━━━━━━━━━━━━━━━━━\u001b[0m\u001b[37m\u001b[0m \u001b[1m2s\u001b[0m 14ms/step - accuracy: 0.5857 - loss: 1.3275 - val_accuracy: 0.5087 - val_loss: 1.6761\n",
      "Epoch 9/50\n",
      "\u001b[1m122/133\u001b[0m \u001b[32m━━━━━━━━━━━━━━━━━━\u001b[0m\u001b[37m━━\u001b[0m \u001b[1m0s\u001b[0m 5ms/step - accuracy: 0.6240 - loss: 1.1991 — f1_train: 0.6605 — f1_val: 0.5009\n",
      "\u001b[1m133/133\u001b[0m \u001b[32m━━━━━━━━━━━━━━━━━━━━\u001b[0m\u001b[37m\u001b[0m \u001b[1m2s\u001b[0m 13ms/step - accuracy: 0.6236 - loss: 1.1997 - val_accuracy: 0.5153 - val_loss: 1.7036\n",
      "Epoch 10/50\n",
      "\u001b[1m133/133\u001b[0m \u001b[32m━━━━━━━━━━━━━━━━━━━━\u001b[0m\u001b[37m\u001b[0m \u001b[1m0s\u001b[0m 5ms/step - accuracy: 0.6606 - loss: 1.0751 — f1_train: 0.7271 — f1_val: 0.5173\n",
      "\u001b[1m133/133\u001b[0m \u001b[32m━━━━━━━━━━━━━━━━━━━━\u001b[0m\u001b[37m\u001b[0m \u001b[1m3s\u001b[0m 13ms/step - accuracy: 0.6606 - loss: 1.0752 - val_accuracy: 0.5213 - val_loss: 1.6920\n",
      "Epoch 11/50\n",
      "\u001b[1m132/133\u001b[0m \u001b[32m━━━━━━━━━━━━━━━━━━━\u001b[0m\u001b[37m━\u001b[0m \u001b[1m0s\u001b[0m 5ms/step - accuracy: 0.7047 - loss: 0.9175 — f1_train: 0.7885 — f1_val: 0.5011\n",
      "\u001b[1m133/133\u001b[0m \u001b[32m━━━━━━━━━━━━━━━━━━━━\u001b[0m\u001b[37m\u001b[0m \u001b[1m3s\u001b[0m 14ms/step - accuracy: 0.7047 - loss: 0.9176 - val_accuracy: 0.5093 - val_loss: 1.7245\n",
      "Epoch 12/50\n",
      "\u001b[1m129/133\u001b[0m \u001b[32m━━━━━━━━━━━━━━━━━━━\u001b[0m\u001b[37m━\u001b[0m \u001b[1m0s\u001b[0m 6ms/step - accuracy: 0.7542 - loss: 0.7935 — f1_train: 0.8239 — f1_val: 0.5188\n",
      "\u001b[1m133/133\u001b[0m \u001b[32m━━━━━━━━━━━━━━━━━━━━\u001b[0m\u001b[37m\u001b[0m \u001b[1m4s\u001b[0m 21ms/step - accuracy: 0.7540 - loss: 0.7930 - val_accuracy: 0.5167 - val_loss: 1.7884\n",
      "Epoch 13/50\n",
      "\u001b[1m123/133\u001b[0m \u001b[32m━━━━━━━━━━━━━━━━━━\u001b[0m\u001b[37m━━\u001b[0m \u001b[1m0s\u001b[0m 5ms/step - accuracy: 0.8084 - loss: 0.6052 — f1_train: 0.8365 — f1_val: 0.5110\n",
      "\u001b[1m133/133\u001b[0m \u001b[32m━━━━━━━━━━━━━━━━━━━━\u001b[0m\u001b[37m\u001b[0m \u001b[1m2s\u001b[0m 14ms/step - accuracy: 0.8070 - loss: 0.6089 - val_accuracy: 0.5060 - val_loss: 1.9903\n",
      "Epoch 14/50\n",
      "\u001b[1m132/133\u001b[0m \u001b[32m━━━━━━━━━━━━━━━━━━━\u001b[0m\u001b[37m━\u001b[0m \u001b[1m0s\u001b[0m 4ms/step - accuracy: 0.8405 - loss: 0.5021 — f1_train: 0.9007 — f1_val: 0.5266\n",
      "\u001b[1m133/133\u001b[0m \u001b[32m━━━━━━━━━━━━━━━━━━━━\u001b[0m\u001b[37m\u001b[0m \u001b[1m2s\u001b[0m 13ms/step - accuracy: 0.8404 - loss: 0.5023 - val_accuracy: 0.5373 - val_loss: 1.9718\n",
      "Epoch 15/50\n",
      "\u001b[1m127/133\u001b[0m \u001b[32m━━━━━━━━━━━━━━━━━━━\u001b[0m\u001b[37m━\u001b[0m \u001b[1m0s\u001b[0m 4ms/step - accuracy: 0.8899 - loss: 0.3644 — f1_train: 0.8807 — f1_val: 0.5072\n",
      "\u001b[1m133/133\u001b[0m \u001b[32m━━━━━━━━━━━━━━━━━━━━\u001b[0m\u001b[37m\u001b[0m \u001b[1m2s\u001b[0m 14ms/step - accuracy: 0.8888 - loss: 0.3671 - val_accuracy: 0.5140 - val_loss: 2.2898\n",
      "Epoch 16/50\n",
      "\u001b[1m126/133\u001b[0m \u001b[32m━━━━━━━━━━━━━━━━━━\u001b[0m\u001b[37m━━\u001b[0m \u001b[1m0s\u001b[0m 7ms/step - accuracy: 0.9055 - loss: 0.3184 — f1_train: 0.9483 — f1_val: 0.5340\n",
      "\u001b[1m133/133\u001b[0m \u001b[32m━━━━━━━━━━━━━━━━━━━━\u001b[0m\u001b[37m\u001b[0m \u001b[1m4s\u001b[0m 27ms/step - accuracy: 0.9054 - loss: 0.3180 - val_accuracy: 0.5387 - val_loss: 2.3805\n",
      "Epoch 17/50\n",
      "\u001b[1m123/133\u001b[0m \u001b[32m━━━━━━━━━━━━━━━━━━\u001b[0m\u001b[37m━━\u001b[0m \u001b[1m0s\u001b[0m 5ms/step - accuracy: 0.9376 - loss: 0.2109 — f1_train: 0.9398 — f1_val: 0.5033\n",
      "\u001b[1m133/133\u001b[0m \u001b[32m━━━━━━━━━━━━━━━━━━━━\u001b[0m\u001b[37m\u001b[0m \u001b[1m3s\u001b[0m 13ms/step - accuracy: 0.9365 - loss: 0.2138 - val_accuracy: 0.5100 - val_loss: 2.5033\n",
      "Epoch 18/50\n",
      "\u001b[1m125/133\u001b[0m \u001b[32m━━━━━━━━━━━━━━━━━━\u001b[0m\u001b[37m━━\u001b[0m \u001b[1m0s\u001b[0m 5ms/step - accuracy: 0.9454 - loss: 0.1770 — f1_train: 0.9556 — f1_val: 0.5131\n",
      "\u001b[1m133/133\u001b[0m \u001b[32m━━━━━━━━━━━━━━━━━━━━\u001b[0m\u001b[37m\u001b[0m \u001b[1m3s\u001b[0m 14ms/step - accuracy: 0.9453 - loss: 0.1775 - val_accuracy: 0.5207 - val_loss: 2.7492\n",
      "Epoch 19/50\n",
      "\u001b[1m132/133\u001b[0m \u001b[32m━━━━━━━━━━━━━━━━━━━\u001b[0m\u001b[37m━\u001b[0m \u001b[1m0s\u001b[0m 5ms/step - accuracy: 0.9527 - loss: 0.1553 — f1_train: 0.9753 — f1_val: 0.5119\n",
      "\u001b[1m133/133\u001b[0m \u001b[32m━━━━━━━━━━━━━━━━━━━━\u001b[0m\u001b[37m\u001b[0m \u001b[1m3s\u001b[0m 14ms/step - accuracy: 0.9526 - loss: 0.1555 - val_accuracy: 0.5187 - val_loss: 2.8584\n",
      "Epoch 20/50\n",
      "\u001b[1m131/133\u001b[0m \u001b[32m━━━━━━━━━━━━━━━━━━━\u001b[0m\u001b[37m━\u001b[0m \u001b[1m0s\u001b[0m 4ms/step - accuracy: 0.9686 - loss: 0.1053 — f1_train: 0.9745 — f1_val: 0.5075\n",
      "\u001b[1m133/133\u001b[0m \u001b[32m━━━━━━━━━━━━━━━━━━━━\u001b[0m\u001b[37m\u001b[0m \u001b[1m2s\u001b[0m 13ms/step - accuracy: 0.9685 - loss: 0.1055 - val_accuracy: 0.5093 - val_loss: 3.0825\n",
      "Epoch 21/50\n",
      "\u001b[1m125/133\u001b[0m \u001b[32m━━━━━━━━━━━━━━━━━━\u001b[0m\u001b[37m━━\u001b[0m \u001b[1m0s\u001b[0m 4ms/step - accuracy: 0.9751 - loss: 0.0945 — f1_train: 0.9772 — f1_val: 0.5256\n",
      "\u001b[1m133/133\u001b[0m \u001b[32m━━━━━━━━━━━━━━━━━━━━\u001b[0m\u001b[37m\u001b[0m \u001b[1m3s\u001b[0m 20ms/step - accuracy: 0.9747 - loss: 0.0953 - val_accuracy: 0.5300 - val_loss: 3.0697\n",
      "Epoch 22/50\n",
      "\u001b[1m126/133\u001b[0m \u001b[32m━━━━━━━━━━━━━━━━━━\u001b[0m\u001b[37m━━\u001b[0m \u001b[1m0s\u001b[0m 5ms/step - accuracy: 0.9743 - loss: 0.0908 — f1_train: 0.9642 — f1_val: 0.5059\n",
      "\u001b[1m133/133\u001b[0m \u001b[32m━━━━━━━━━━━━━━━━━━━━\u001b[0m\u001b[37m\u001b[0m \u001b[1m2s\u001b[0m 14ms/step - accuracy: 0.9744 - loss: 0.0907 - val_accuracy: 0.5107 - val_loss: 3.4649\n",
      "Epoch 23/50\n",
      "\u001b[1m130/133\u001b[0m \u001b[32m━━━━━━━━━━━━━━━━━━━\u001b[0m\u001b[37m━\u001b[0m \u001b[1m0s\u001b[0m 5ms/step - accuracy: 0.9695 - loss: 0.0977 — f1_train: 0.9812 — f1_val: 0.5235\n",
      "\u001b[1m133/133\u001b[0m \u001b[32m━━━━━━━━━━━━━━━━━━━━\u001b[0m\u001b[37m\u001b[0m \u001b[1m2s\u001b[0m 13ms/step - accuracy: 0.9697 - loss: 0.0973 - val_accuracy: 0.5313 - val_loss: 3.4698\n",
      "Epoch 24/50\n",
      "\u001b[1m124/133\u001b[0m \u001b[32m━━━━━━━━━━━━━━━━━━\u001b[0m\u001b[37m━━\u001b[0m \u001b[1m0s\u001b[0m 5ms/step - accuracy: 0.9791 - loss: 0.0645 — f1_train: 0.9815 — f1_val: 0.5220\n",
      "\u001b[1m133/133\u001b[0m \u001b[32m━━━━━━━━━━━━━━━━━━━━\u001b[0m\u001b[37m\u001b[0m \u001b[1m2s\u001b[0m 13ms/step - accuracy: 0.9790 - loss: 0.0650 - val_accuracy: 0.5220 - val_loss: 3.5001\n",
      "Epoch 25/50\n",
      "\u001b[1m130/133\u001b[0m \u001b[32m━━━━━━━━━━━━━━━━━━━\u001b[0m\u001b[37m━\u001b[0m \u001b[1m0s\u001b[0m 4ms/step - accuracy: 0.9745 - loss: 0.0828 — f1_train: 0.9804 — f1_val: 0.5077\n",
      "\u001b[1m133/133\u001b[0m \u001b[32m━━━━━━━━━━━━━━━━━━━━\u001b[0m\u001b[37m\u001b[0m \u001b[1m2s\u001b[0m 13ms/step - accuracy: 0.9744 - loss: 0.0833 - val_accuracy: 0.5100 - val_loss: 3.4656\n",
      "Epoch 26/50\n",
      "\u001b[1m125/133\u001b[0m \u001b[32m━━━━━━━━━━━━━━━━━━\u001b[0m\u001b[37m━━\u001b[0m \u001b[1m0s\u001b[0m 4ms/step - accuracy: 0.9799 - loss: 0.0753 — f1_train: 0.9860 — f1_val: 0.5172\n",
      "\u001b[1m133/133\u001b[0m \u001b[32m━━━━━━━━━━━━━━━━━━━━\u001b[0m\u001b[37m\u001b[0m \u001b[1m2s\u001b[0m 13ms/step - accuracy: 0.9797 - loss: 0.0755 - val_accuracy: 0.5187 - val_loss: 3.4698\n",
      "Epoch 27/50\n",
      "\u001b[1m131/133\u001b[0m \u001b[32m━━━━━━━━━━━━━━━━━━━\u001b[0m\u001b[37m━\u001b[0m \u001b[1m0s\u001b[0m 5ms/step - accuracy: 0.9740 - loss: 0.0807 — f1_train: 0.9640 — f1_val: 0.5072\n",
      "\u001b[1m133/133\u001b[0m \u001b[32m━━━━━━━━━━━━━━━━━━━━\u001b[0m\u001b[37m\u001b[0m \u001b[1m3s\u001b[0m 20ms/step - accuracy: 0.9739 - loss: 0.0810 - val_accuracy: 0.5147 - val_loss: 3.5165\n",
      "Epoch 28/50\n",
      "\u001b[1m125/133\u001b[0m \u001b[32m━━━━━━━━━━━━━━━━━━\u001b[0m\u001b[37m━━\u001b[0m \u001b[1m0s\u001b[0m 5ms/step - accuracy: 0.9696 - loss: 0.0956 — f1_train: 0.9832 — f1_val: 0.5085\n",
      "\u001b[1m133/133\u001b[0m \u001b[32m━━━━━━━━━━━━━━━━━━━━\u001b[0m\u001b[37m\u001b[0m \u001b[1m2s\u001b[0m 13ms/step - accuracy: 0.9699 - loss: 0.0948 - val_accuracy: 0.5087 - val_loss: 3.6604\n",
      "Epoch 29/50\n",
      "\u001b[1m126/133\u001b[0m \u001b[32m━━━━━━━━━━━━━━━━━━\u001b[0m\u001b[37m━━\u001b[0m \u001b[1m0s\u001b[0m 5ms/step - accuracy: 0.9729 - loss: 0.0960 — f1_train: 0.9832 — f1_val: 0.5125\n",
      "\u001b[1m133/133\u001b[0m \u001b[32m━━━━━━━━━━━━━━━━━━━━\u001b[0m\u001b[37m\u001b[0m \u001b[1m3s\u001b[0m 14ms/step - accuracy: 0.9729 - loss: 0.0956 - val_accuracy: 0.5173 - val_loss: 3.6848\n",
      "Epoch 30/50\n",
      "\u001b[1m133/133\u001b[0m \u001b[32m━━━━━━━━━━━━━━━━━━━━\u001b[0m\u001b[37m\u001b[0m \u001b[1m0s\u001b[0m 5ms/step - accuracy: 0.9890 - loss: 0.0417 — f1_train: 0.9953 — f1_val: 0.5198\n",
      "\u001b[1m133/133\u001b[0m \u001b[32m━━━━━━━━━━━━━━━━━━━━\u001b[0m\u001b[37m\u001b[0m \u001b[1m2s\u001b[0m 13ms/step - accuracy: 0.9890 - loss: 0.0417 - val_accuracy: 0.5240 - val_loss: 3.7272\n",
      "Epoch 31/50\n",
      "\u001b[1m133/133\u001b[0m \u001b[32m━━━━━━━━━━━━━━━━━━━━\u001b[0m\u001b[37m\u001b[0m \u001b[1m0s\u001b[0m 5ms/step - accuracy: 0.9939 - loss: 0.0218 — f1_train: 0.9899 — f1_val: 0.5022\n",
      "\u001b[1m133/133\u001b[0m \u001b[32m━━━━━━━━━━━━━━━━━━━━\u001b[0m\u001b[37m\u001b[0m \u001b[1m3s\u001b[0m 13ms/step - accuracy: 0.9939 - loss: 0.0218 - val_accuracy: 0.5107 - val_loss: 3.9873\n",
      "Epoch 32/50\n",
      "\u001b[1m127/133\u001b[0m \u001b[32m━━━━━━━━━━━━━━━━━━━\u001b[0m\u001b[37m━\u001b[0m \u001b[1m0s\u001b[0m 5ms/step - accuracy: 0.9738 - loss: 0.0781 — f1_train: 0.9623 — f1_val: 0.4974\n",
      "\u001b[1m133/133\u001b[0m \u001b[32m━━━━━━━━━━━━━━━━━━━━\u001b[0m\u001b[37m\u001b[0m \u001b[1m2s\u001b[0m 17ms/step - accuracy: 0.9736 - loss: 0.0788 - val_accuracy: 0.5040 - val_loss: 3.8564\n",
      "Epoch 33/50\n",
      "\u001b[1m129/133\u001b[0m \u001b[32m━━━━━━━━━━━━━━━━━━━\u001b[0m\u001b[37m━\u001b[0m \u001b[1m0s\u001b[0m 5ms/step - accuracy: 0.9769 - loss: 0.0783 — f1_train: 0.9907 — f1_val: 0.5324\n",
      "\u001b[1m133/133\u001b[0m \u001b[32m━━━━━━━━━━━━━━━━━━━━\u001b[0m\u001b[37m\u001b[0m \u001b[1m2s\u001b[0m 14ms/step - accuracy: 0.9770 - loss: 0.0779 - val_accuracy: 0.5340 - val_loss: 3.6784\n",
      "Epoch 34/50\n",
      "\u001b[1m133/133\u001b[0m \u001b[32m━━━━━━━━━━━━━━━━━━━━\u001b[0m\u001b[37m\u001b[0m \u001b[1m0s\u001b[0m 5ms/step - accuracy: 0.9874 - loss: 0.0468 — f1_train: 0.9915 — f1_val: 0.5256\n",
      "\u001b[1m133/133\u001b[0m \u001b[32m━━━━━━━━━━━━━━━━━━━━\u001b[0m\u001b[37m\u001b[0m \u001b[1m2s\u001b[0m 14ms/step - accuracy: 0.9874 - loss: 0.0467 - val_accuracy: 0.5280 - val_loss: 3.8016\n",
      "Epoch 35/50\n",
      "\u001b[1m129/133\u001b[0m \u001b[32m━━━━━━━━━━━━━━━━━━━\u001b[0m\u001b[37m━\u001b[0m \u001b[1m0s\u001b[0m 4ms/step - accuracy: 0.9880 - loss: 0.0455 — f1_train: 0.9850 — f1_val: 0.5060\n",
      "\u001b[1m133/133\u001b[0m \u001b[32m━━━━━━━━━━━━━━━━━━━━\u001b[0m\u001b[37m\u001b[0m \u001b[1m2s\u001b[0m 14ms/step - accuracy: 0.9880 - loss: 0.0455 - val_accuracy: 0.5093 - val_loss: 4.1998\n",
      "Epoch 36/50\n",
      "\u001b[1m131/133\u001b[0m \u001b[32m━━━━━━━━━━━━━━━━━━━\u001b[0m\u001b[37m━\u001b[0m \u001b[1m0s\u001b[0m 4ms/step - accuracy: 0.9819 - loss: 0.0584 — f1_train: 0.9871 — f1_val: 0.5213\n",
      "\u001b[1m133/133\u001b[0m \u001b[32m━━━━━━━━━━━━━━━━━━━━\u001b[0m\u001b[37m\u001b[0m \u001b[1m2s\u001b[0m 13ms/step - accuracy: 0.9819 - loss: 0.0584 - val_accuracy: 0.5233 - val_loss: 4.0400\n",
      "Epoch 37/50\n",
      "\u001b[1m128/133\u001b[0m \u001b[32m━━━━━━━━━━━━━━━━━━━\u001b[0m\u001b[37m━\u001b[0m \u001b[1m0s\u001b[0m 7ms/step - accuracy: 0.9826 - loss: 0.0545 — f1_train: 0.9899 — f1_val: 0.5181\n",
      "\u001b[1m133/133\u001b[0m \u001b[32m━━━━━━━━━━━━━━━━━━━━\u001b[0m\u001b[37m\u001b[0m \u001b[1m4s\u001b[0m 23ms/step - accuracy: 0.9825 - loss: 0.0548 - val_accuracy: 0.5240 - val_loss: 3.7612\n",
      "Epoch 38/50\n",
      "\u001b[1m133/133\u001b[0m \u001b[32m━━━━━━━━━━━━━━━━━━━━\u001b[0m\u001b[37m\u001b[0m \u001b[1m0s\u001b[0m 5ms/step - accuracy: 0.9784 - loss: 0.0768 — f1_train: 0.9934 — f1_val: 0.5121\n",
      "\u001b[1m133/133\u001b[0m \u001b[32m━━━━━━━━━━━━━━━━━━━━\u001b[0m\u001b[37m\u001b[0m \u001b[1m4s\u001b[0m 13ms/step - accuracy: 0.9784 - loss: 0.0768 - val_accuracy: 0.5140 - val_loss: 3.6901\n",
      "Epoch 39/50\n",
      "\u001b[1m127/133\u001b[0m \u001b[32m━━━━━━━━━━━━━━━━━━━\u001b[0m\u001b[37m━\u001b[0m \u001b[1m0s\u001b[0m 4ms/step - accuracy: 0.9845 - loss: 0.0511 — f1_train: 0.9834 — f1_val: 0.5259\n",
      "\u001b[1m133/133\u001b[0m \u001b[32m━━━━━━━━━━━━━━━━━━━━\u001b[0m\u001b[37m\u001b[0m \u001b[1m2s\u001b[0m 13ms/step - accuracy: 0.9846 - loss: 0.0509 - val_accuracy: 0.5307 - val_loss: 4.1456\n",
      "Epoch 40/50\n",
      "\u001b[1m121/133\u001b[0m \u001b[32m━━━━━━━━━━━━━━━━━━\u001b[0m\u001b[37m━━\u001b[0m \u001b[1m0s\u001b[0m 5ms/step - accuracy: 0.9811 - loss: 0.0663 — f1_train: 0.9873 — f1_val: 0.5331\n",
      "\u001b[1m133/133\u001b[0m \u001b[32m━━━━━━━━━━━━━━━━━━━━\u001b[0m\u001b[37m\u001b[0m \u001b[1m3s\u001b[0m 14ms/step - accuracy: 0.9809 - loss: 0.0666 - val_accuracy: 0.5360 - val_loss: 3.9798\n",
      "Epoch 41/50\n",
      "\u001b[1m130/133\u001b[0m \u001b[32m━━━━━━━━━━━━━━━━━━━\u001b[0m\u001b[37m━\u001b[0m \u001b[1m0s\u001b[0m 5ms/step - accuracy: 0.9908 - loss: 0.0330 — f1_train: 0.9971 — f1_val: 0.5164\n",
      "\u001b[1m133/133\u001b[0m \u001b[32m━━━━━━━━━━━━━━━━━━━━\u001b[0m\u001b[37m\u001b[0m \u001b[1m3s\u001b[0m 19ms/step - accuracy: 0.9907 - loss: 0.0331 - val_accuracy: 0.5273 - val_loss: 3.7574\n",
      "Epoch 42/50\n",
      "\u001b[1m131/133\u001b[0m \u001b[32m━━━━━━━━━━━━━━━━━━━\u001b[0m\u001b[37m━\u001b[0m \u001b[1m0s\u001b[0m 5ms/step - accuracy: 0.9963 - loss: 0.0131 — f1_train: 0.9987 — f1_val: 0.5300\n",
      "\u001b[1m133/133\u001b[0m \u001b[32m━━━━━━━━━━━━━━━━━━━━\u001b[0m\u001b[37m\u001b[0m \u001b[1m2s\u001b[0m 14ms/step - accuracy: 0.9963 - loss: 0.0131 - val_accuracy: 0.5393 - val_loss: 4.0341\n",
      "Epoch 43/50\n",
      "\u001b[1m127/133\u001b[0m \u001b[32m━━━━━━━━━━━━━━━━━━━\u001b[0m\u001b[37m━\u001b[0m \u001b[1m0s\u001b[0m 4ms/step - accuracy: 0.9970 - loss: 0.0090 — f1_train: 0.9828 — f1_val: 0.5082\n",
      "\u001b[1m133/133\u001b[0m \u001b[32m━━━━━━━━━━━━━━━━━━━━\u001b[0m\u001b[37m\u001b[0m \u001b[1m2s\u001b[0m 13ms/step - accuracy: 0.9969 - loss: 0.0095 - val_accuracy: 0.5073 - val_loss: 4.2248\n",
      "Epoch 44/50\n",
      "\u001b[1m121/133\u001b[0m \u001b[32m━━━━━━━━━━━━━━━━━━\u001b[0m\u001b[37m━━\u001b[0m \u001b[1m0s\u001b[0m 5ms/step - accuracy: 0.9819 - loss: 0.0615 — f1_train: 0.9742 — f1_val: 0.5290\n",
      "\u001b[1m133/133\u001b[0m \u001b[32m━━━━━━━━━━━━━━━━━━━━\u001b[0m\u001b[37m\u001b[0m \u001b[1m3s\u001b[0m 14ms/step - accuracy: 0.9813 - loss: 0.0628 - val_accuracy: 0.5240 - val_loss: 4.0569\n",
      "Epoch 45/50\n",
      "\u001b[1m124/133\u001b[0m \u001b[32m━━━━━━━━━━━━━━━━━━\u001b[0m\u001b[37m━━\u001b[0m \u001b[1m0s\u001b[0m 5ms/step - accuracy: 0.9669 - loss: 0.1089 — f1_train: 0.9930 — f1_val: 0.5319\n",
      "\u001b[1m133/133\u001b[0m \u001b[32m━━━━━━━━━━━━━━━━━━━━\u001b[0m\u001b[37m\u001b[0m \u001b[1m3s\u001b[0m 14ms/step - accuracy: 0.9676 - loss: 0.1067 - val_accuracy: 0.5373 - val_loss: 3.7841\n",
      "Epoch 46/50\n",
      "\u001b[1m132/133\u001b[0m \u001b[32m━━━━━━━━━━━━━━━━━━━\u001b[0m\u001b[37m━\u001b[0m \u001b[1m0s\u001b[0m 5ms/step - accuracy: 0.9895 - loss: 0.0401 — f1_train: 0.9973 — f1_val: 0.5280\n",
      "\u001b[1m133/133\u001b[0m \u001b[32m━━━━━━━━━━━━━━━━━━━━\u001b[0m\u001b[37m\u001b[0m \u001b[1m3s\u001b[0m 20ms/step - accuracy: 0.9896 - loss: 0.0399 - val_accuracy: 0.5287 - val_loss: 4.2156\n",
      "Epoch 47/50\n",
      "\u001b[1m132/133\u001b[0m \u001b[32m━━━━━━━━━━━━━━━━━━━\u001b[0m\u001b[37m━\u001b[0m \u001b[1m0s\u001b[0m 5ms/step - accuracy: 0.9878 - loss: 0.0341 — f1_train: 0.9921 — f1_val: 0.5216\n",
      "\u001b[1m133/133\u001b[0m \u001b[32m━━━━━━━━━━━━━━━━━━━━\u001b[0m\u001b[37m\u001b[0m \u001b[1m2s\u001b[0m 14ms/step - accuracy: 0.9878 - loss: 0.0344 - val_accuracy: 0.5287 - val_loss: 4.1934\n",
      "Epoch 48/50\n",
      "\u001b[1m125/133\u001b[0m \u001b[32m━━━━━━━━━━━━━━━━━━\u001b[0m\u001b[37m━━\u001b[0m \u001b[1m0s\u001b[0m 5ms/step - accuracy: 0.9836 - loss: 0.0530 — f1_train: 0.9951 — f1_val: 0.5267\n",
      "\u001b[1m133/133\u001b[0m \u001b[32m━━━━━━━━━━━━━━━━━━━━\u001b[0m\u001b[37m\u001b[0m \u001b[1m2s\u001b[0m 13ms/step - accuracy: 0.9838 - loss: 0.0527 - val_accuracy: 0.5300 - val_loss: 4.1647\n",
      "Epoch 49/50\n",
      "\u001b[1m123/133\u001b[0m \u001b[32m━━━━━━━━━━━━━━━━━━\u001b[0m\u001b[37m━━\u001b[0m \u001b[1m0s\u001b[0m 4ms/step - accuracy: 0.9836 - loss: 0.0494 — f1_train: 0.9910 — f1_val: 0.5333\n",
      "\u001b[1m133/133\u001b[0m \u001b[32m━━━━━━━━━━━━━━━━━━━━\u001b[0m\u001b[37m\u001b[0m \u001b[1m2s\u001b[0m 13ms/step - accuracy: 0.9838 - loss: 0.0487 - val_accuracy: 0.5400 - val_loss: 4.3806\n",
      "Epoch 50/50\n",
      "\u001b[1m121/133\u001b[0m \u001b[32m━━━━━━━━━━━━━━━━━━\u001b[0m\u001b[37m━━\u001b[0m \u001b[1m0s\u001b[0m 4ms/step - accuracy: 0.9902 - loss: 0.0286 — f1_train: 0.9934 — f1_val: 0.5229\n",
      "\u001b[1m133/133\u001b[0m \u001b[32m━━━━━━━━━━━━━━━━━━━━\u001b[0m\u001b[37m\u001b[0m \u001b[1m2s\u001b[0m 13ms/step - accuracy: 0.9902 - loss: 0.0288 - val_accuracy: 0.5340 - val_loss: 4.2382\n"
     ]
    }
   ],
   "source": [
    "model1 = MYCNN(num_classes=20)\n",
    "f1_callback = F1ScoreCallback(x_train, y_train, x_val, y_val)\n",
    "\n",
    "\n",
    "model.compile(\n",
    "    optimizer=tf.keras.optimizers.Adam(learning_rate=0.001),\n",
    "    loss=tf.keras.losses.SparseCategoricalCrossentropy(from_logits=True),\n",
    "    metrics=['accuracy']\n",
    ")\n",
    "\n",
    "# train\n",
    "history = model.fit(\n",
    "    x_train, y_train,\n",
    "    epochs=50,\n",
    "    batch_size=64,\n",
    "    validation_data=(x_val, y_val),\n",
    "    callbacks=[f1_callback]\n",
    ")\n"
   ]
  },
  {
   "cell_type": "code",
   "execution_count": null,
   "metadata": {
    "colab": {
     "base_uri": "https://localhost:8080/",
     "height": 564
    },
    "executionInfo": {
     "elapsed": 172,
     "status": "ok",
     "timestamp": 1745766331611,
     "user": {
      "displayName": "Νίκος Κατσαϊδώνης",
      "userId": "13489937806515013970"
     },
     "user_tz": -180
    },
    "id": "6HE98YFvtmOO",
    "outputId": "dea4579a-a520-431e-de52-be007450fbc4"
   },
   "outputs": [
    {
     "data": {
      "image/png": "[encoded data removed]",
      "text/plain": [
       "<Figure size 1000x600 with 1 Axes>"
      ]
     },
     "metadata": {},
     "output_type": "display_data"
    }
   ],
   "source": [
    "#plot of f1 scores\n",
    "plt.figure(figsize=(10, 6))\n",
    "plt.plot(f1_callback.f1_train_scores, label='Train F1-score')\n",
    "plt.plot(f1_callback.f1_val_scores, label='Validation F1-score')\n",
    "plt.title('F1-score per epoch')\n",
    "plt.xlabel('Epoch')\n",
    "plt.ylabel('F1-score')\n",
    "plt.legend()\n",
    "plt.grid(True)\n",
    "plt.show()\n"
   ]
  },
  {
   "cell_type": "code",
   "execution_count": null,
   "metadata": {
    "colab": {
     "base_uri": "https://localhost:8080/"
    },
    "executionInfo": {
     "elapsed": 709,
     "status": "ok",
     "timestamp": 1745766339911,
     "user": {
      "displayName": "Νίκος Κατσαϊδώνης",
      "userId": "13489937806515013970"
     },
     "user_tz": -180
    },
    "id": "_p8mVOcptr55",
    "outputId": "9006b04e-6f09-44f4-9920-1f3cb58db157"
   },
   "outputs": [
    {
     "name": "stdout",
     "output_type": "stream",
     "text": [
      "\u001b[1m63/63\u001b[0m \u001b[32m━━━━━━━━━━━━━━━━━━━━\u001b[0m\u001b[37m\u001b[0m \u001b[1m1s\u001b[0m 9ms/step\n",
      "F1 Score: 0.5276290447113904\n",
      "Accuracy: 0.536\n"
     ]
    }
   ],
   "source": [
    "from sklearn.metrics import f1_score, accuracy_score\n",
    "################ TESTING ###############\n",
    "\n",
    "#logits and predictions on test set\n",
    "y_pred_logits = model.predict(x_test)\n",
    "y_pred = np.argmax(y_pred_logits, axis=1)\n",
    "\n",
    "# F1 and accuracy\n",
    "y_test = y_test.flatten()\n",
    "f1_macro = f1_score(y_test, y_pred, average='macro')\n",
    "acc = accuracy_score(y_test, y_pred)\n",
    "\n",
    "print(\"F1 Score:\", f1_macro)\n",
    "print(\"Accuracy:\", acc)\n"
   ]
  },
  {
   "cell_type": "markdown",
   "metadata": {
    "id": "pjB68FyO6lB9"
   },
   "source": [
    "# Resized images to 224x224:"
   ]
  },
  {
   "cell_type": "code",
   "execution_count": null,
   "metadata": {
    "id": "_nQMbW8n7uze"
   },
   "outputs": [],
   "source": [
    "#resizing images\n",
    "x_train = tf.image.resize(x_train, [224, 224])\n",
    "x_val = tf.image.resize(x_val, [224, 224])\n",
    "x_test = tf.image.resize(x_test, [224, 224])"
   ]
  },
  {
   "cell_type": "code",
   "execution_count": null,
   "metadata": {
    "colab": {
     "base_uri": "https://localhost:8080/"
    },
    "executionInfo": {
     "elapsed": 1295159,
     "status": "ok",
     "timestamp": 1745768752526,
     "user": {
      "displayName": "Νίκος Κατσαϊδώνης",
      "userId": "13489937806515013970"
     },
     "user_tz": -180
    },
    "id": "95ooknOU2Vr1",
    "outputId": "55d61df6-4d34-440e-d577-a242b4bd7a99"
   },
   "outputs": [
    {
     "name": "stderr",
     "output_type": "stream",
     "text": [
      "/usr/local/lib/python3.11/dist-packages/keras/src/layers/convolutional/base_conv.py:107: UserWarning: Do not pass an `input_shape`/`input_dim` argument to a layer. When using Sequential models, prefer using an `Input(shape)` object as the first layer in the model instead.\n",
      "  super().__init__(activity_regularizer=activity_regularizer, **kwargs)\n"
     ]
    },
    {
     "name": "stdout",
     "output_type": "stream",
     "text": [
      "Epoch 1/50\n",
      "\u001b[1m133/133\u001b[0m \u001b[32m━━━━━━━━━━━━━━━━━━━━\u001b[0m\u001b[37m\u001b[0m \u001b[1m0s\u001b[0m 136ms/step - accuracy: 0.1789 - loss: 2.7139 — f1_train: 0.3334 — f1_val: 0.3303\n",
      "\u001b[1m133/133\u001b[0m \u001b[32m━━━━━━━━━━━━━━━━━━━━\u001b[0m\u001b[37m\u001b[0m \u001b[1m43s\u001b[0m 246ms/step - accuracy: 0.1794 - loss: 2.7123 - val_accuracy: 0.3580 - val_loss: 2.1998\n",
      "Epoch 2/50\n",
      "\u001b[1m133/133\u001b[0m \u001b[32m━━━━━━━━━━━━━━━━━━━━\u001b[0m\u001b[37m\u001b[0m \u001b[1m0s\u001b[0m 88ms/step - accuracy: 0.3759 - loss: 2.0463 — f1_train: 0.4365 — f1_val: 0.3782\n",
      "\u001b[1m133/133\u001b[0m \u001b[32m━━━━━━━━━━━━━━━━━━━━\u001b[0m\u001b[37m\u001b[0m \u001b[1m19s\u001b[0m 145ms/step - accuracy: 0.3760 - loss: 2.0462 - val_accuracy: 0.3920 - val_loss: 2.0560\n",
      "Epoch 3/50\n",
      "\u001b[1m133/133\u001b[0m \u001b[32m━━━━━━━━━━━━━━━━━━━━\u001b[0m\u001b[37m\u001b[0m \u001b[1m0s\u001b[0m 89ms/step - accuracy: 0.4474 - loss: 1.8288 — f1_train: 0.5080 — f1_val: 0.4057\n",
      "\u001b[1m133/133\u001b[0m \u001b[32m━━━━━━━━━━━━━━━━━━━━\u001b[0m\u001b[37m\u001b[0m \u001b[1m21s\u001b[0m 146ms/step - accuracy: 0.4474 - loss: 1.8285 - val_accuracy: 0.4207 - val_loss: 1.9375\n",
      "Epoch 4/50\n",
      "\u001b[1m133/133\u001b[0m \u001b[32m━━━━━━━━━━━━━━━━━━━━\u001b[0m\u001b[37m\u001b[0m \u001b[1m0s\u001b[0m 87ms/step - accuracy: 0.5262 - loss: 1.5416 — f1_train: 0.5663 — f1_val: 0.4223\n",
      "\u001b[1m133/133\u001b[0m \u001b[32m━━━━━━━━━━━━━━━━━━━━\u001b[0m\u001b[37m\u001b[0m \u001b[1m20s\u001b[0m 141ms/step - accuracy: 0.5261 - loss: 1.5418 - val_accuracy: 0.4340 - val_loss: 1.9404\n",
      "Epoch 5/50\n",
      "\u001b[1m133/133\u001b[0m \u001b[32m━━━━━━━━━━━━━━━━━━━━\u001b[0m\u001b[37m\u001b[0m \u001b[1m0s\u001b[0m 86ms/step - accuracy: 0.5910 - loss: 1.3234 — f1_train: 0.6716 — f1_val: 0.4340\n",
      "\u001b[1m133/133\u001b[0m \u001b[32m━━━━━━━━━━━━━━━━━━━━\u001b[0m\u001b[37m\u001b[0m \u001b[1m26s\u001b[0m 184ms/step - accuracy: 0.5909 - loss: 1.3236 - val_accuracy: 0.4400 - val_loss: 1.9637\n",
      "Epoch 6/50\n",
      "\u001b[1m133/133\u001b[0m \u001b[32m━━━━━━━━━━━━━━━━━━━━\u001b[0m\u001b[37m\u001b[0m \u001b[1m0s\u001b[0m 88ms/step - accuracy: 0.6657 - loss: 1.0763 — f1_train: 0.7597 — f1_val: 0.4427\n",
      "\u001b[1m133/133\u001b[0m \u001b[32m━━━━━━━━━━━━━━━━━━━━\u001b[0m\u001b[37m\u001b[0m \u001b[1m36s\u001b[0m 144ms/step - accuracy: 0.6656 - loss: 1.0766 - val_accuracy: 0.4500 - val_loss: 2.0003\n",
      "Epoch 7/50\n",
      "\u001b[1m133/133\u001b[0m \u001b[32m━━━━━━━━━━━━━━━━━━━━\u001b[0m\u001b[37m\u001b[0m \u001b[1m0s\u001b[0m 90ms/step - accuracy: 0.7564 - loss: 0.8161 — f1_train: 0.8318 — f1_val: 0.4726\n",
      "\u001b[1m133/133\u001b[0m \u001b[32m━━━━━━━━━━━━━━━━━━━━\u001b[0m\u001b[37m\u001b[0m \u001b[1m21s\u001b[0m 146ms/step - accuracy: 0.7563 - loss: 0.8163 - val_accuracy: 0.4733 - val_loss: 2.1189\n",
      "Epoch 8/50\n",
      "\u001b[1m133/133\u001b[0m \u001b[32m━━━━━━━━━━━━━━━━━━━━\u001b[0m\u001b[37m\u001b[0m \u001b[1m0s\u001b[0m 89ms/step - accuracy: 0.8116 - loss: 0.5867 — f1_train: 0.9019 — f1_val: 0.4849\n",
      "\u001b[1m133/133\u001b[0m \u001b[32m━━━━━━━━━━━━━━━━━━━━\u001b[0m\u001b[37m\u001b[0m \u001b[1m24s\u001b[0m 183ms/step - accuracy: 0.8115 - loss: 0.5868 - val_accuracy: 0.4867 - val_loss: 2.2516\n",
      "Epoch 9/50\n",
      "\u001b[1m133/133\u001b[0m \u001b[32m━━━━━━━━━━━━━━━━━━━━\u001b[0m\u001b[37m\u001b[0m \u001b[1m0s\u001b[0m 86ms/step - accuracy: 0.8836 - loss: 0.3772 — f1_train: 0.9238 — f1_val: 0.4606\n",
      "\u001b[1m133/133\u001b[0m \u001b[32m━━━━━━━━━━━━━━━━━━━━\u001b[0m\u001b[37m\u001b[0m \u001b[1m35s\u001b[0m 141ms/step - accuracy: 0.8836 - loss: 0.3772 - val_accuracy: 0.4660 - val_loss: 2.8078\n",
      "Epoch 10/50\n",
      "\u001b[1m133/133\u001b[0m \u001b[32m━━━━━━━━━━━━━━━━━━━━\u001b[0m\u001b[37m\u001b[0m \u001b[1m0s\u001b[0m 90ms/step - accuracy: 0.9290 - loss: 0.2342 — f1_train: 0.9420 — f1_val: 0.4618\n",
      "\u001b[1m133/133\u001b[0m \u001b[32m━━━━━━━━━━━━━━━━━━━━\u001b[0m\u001b[37m\u001b[0m \u001b[1m21s\u001b[0m 147ms/step - accuracy: 0.9289 - loss: 0.2344 - val_accuracy: 0.4640 - val_loss: 2.8803\n",
      "Epoch 11/50\n",
      "\u001b[1m133/133\u001b[0m \u001b[32m━━━━━━━━━━━━━━━━━━━━\u001b[0m\u001b[37m\u001b[0m \u001b[1m0s\u001b[0m 89ms/step - accuracy: 0.9433 - loss: 0.2111 — f1_train: 0.9614 — f1_val: 0.4689\n",
      "\u001b[1m133/133\u001b[0m \u001b[32m━━━━━━━━━━━━━━━━━━━━\u001b[0m\u001b[37m\u001b[0m \u001b[1m21s\u001b[0m 148ms/step - accuracy: 0.9433 - loss: 0.2110 - val_accuracy: 0.4720 - val_loss: 3.1493\n",
      "Epoch 12/50\n",
      "\u001b[1m133/133\u001b[0m \u001b[32m━━━━━━━━━━━━━━━━━━━━\u001b[0m\u001b[37m\u001b[0m \u001b[1m0s\u001b[0m 88ms/step - accuracy: 0.9604 - loss: 0.1401 — f1_train: 0.9716 — f1_val: 0.4907\n",
      "\u001b[1m133/133\u001b[0m \u001b[32m━━━━━━━━━━━━━━━━━━━━\u001b[0m\u001b[37m\u001b[0m \u001b[1m19s\u001b[0m 141ms/step - accuracy: 0.9603 - loss: 0.1403 - val_accuracy: 0.4913 - val_loss: 2.9708\n",
      "Epoch 13/50\n",
      "\u001b[1m133/133\u001b[0m \u001b[32m━━━━━━━━━━━━━━━━━━━━\u001b[0m\u001b[37m\u001b[0m \u001b[1m0s\u001b[0m 87ms/step - accuracy: 0.9692 - loss: 0.1041 — f1_train: 0.9773 — f1_val: 0.4757\n",
      "\u001b[1m133/133\u001b[0m \u001b[32m━━━━━━━━━━━━━━━━━━━━\u001b[0m\u001b[37m\u001b[0m \u001b[1m19s\u001b[0m 144ms/step - accuracy: 0.9691 - loss: 0.1042 - val_accuracy: 0.4833 - val_loss: 3.3980\n",
      "Epoch 14/50\n",
      "\u001b[1m133/133\u001b[0m \u001b[32m━━━━━━━━━━━━━━━━━━━━\u001b[0m\u001b[37m\u001b[0m \u001b[1m0s\u001b[0m 87ms/step - accuracy: 0.9810 - loss: 0.0734 — f1_train: 0.9678 — f1_val: 0.4718\n",
      "\u001b[1m133/133\u001b[0m \u001b[32m━━━━━━━━━━━━━━━━━━━━\u001b[0m\u001b[37m\u001b[0m \u001b[1m21s\u001b[0m 145ms/step - accuracy: 0.9809 - loss: 0.0736 - val_accuracy: 0.4760 - val_loss: 3.4663\n",
      "Epoch 15/50\n",
      "\u001b[1m133/133\u001b[0m \u001b[32m━━━━━━━━━━━━━━━━━━━━\u001b[0m\u001b[37m\u001b[0m \u001b[1m0s\u001b[0m 87ms/step - accuracy: 0.9591 - loss: 0.1294 — f1_train: 0.9668 — f1_val: 0.4737\n",
      "\u001b[1m133/133\u001b[0m \u001b[32m━━━━━━━━━━━━━━━━━━━━\u001b[0m\u001b[37m\u001b[0m \u001b[1m20s\u001b[0m 144ms/step - accuracy: 0.9591 - loss: 0.1293 - val_accuracy: 0.4773 - val_loss: 3.4220\n",
      "Epoch 16/50\n",
      "\u001b[1m133/133\u001b[0m \u001b[32m━━━━━━━━━━━━━━━━━━━━\u001b[0m\u001b[37m\u001b[0m \u001b[1m0s\u001b[0m 88ms/step - accuracy: 0.9702 - loss: 0.0993 — f1_train: 0.9837 — f1_val: 0.4751\n",
      "\u001b[1m133/133\u001b[0m \u001b[32m━━━━━━━━━━━━━━━━━━━━\u001b[0m\u001b[37m\u001b[0m \u001b[1m21s\u001b[0m 145ms/step - accuracy: 0.9701 - loss: 0.0994 - val_accuracy: 0.4740 - val_loss: 3.7165\n",
      "Epoch 17/50\n",
      "\u001b[1m133/133\u001b[0m \u001b[32m━━━━━━━━━━━━━━━━━━━━\u001b[0m\u001b[37m\u001b[0m \u001b[1m0s\u001b[0m 87ms/step - accuracy: 0.9680 - loss: 0.1134 — f1_train: 0.9824 — f1_val: 0.4814\n",
      "\u001b[1m133/133\u001b[0m \u001b[32m━━━━━━━━━━━━━━━━━━━━\u001b[0m\u001b[37m\u001b[0m \u001b[1m20s\u001b[0m 142ms/step - accuracy: 0.9680 - loss: 0.1134 - val_accuracy: 0.4867 - val_loss: 3.4971\n",
      "Epoch 18/50\n",
      "\u001b[1m133/133\u001b[0m \u001b[32m━━━━━━━━━━━━━━━━━━━━\u001b[0m\u001b[37m\u001b[0m \u001b[1m0s\u001b[0m 87ms/step - accuracy: 0.9845 - loss: 0.0556 — f1_train: 0.9888 — f1_val: 0.4991\n",
      "\u001b[1m133/133\u001b[0m \u001b[32m━━━━━━━━━━━━━━━━━━━━\u001b[0m\u001b[37m\u001b[0m \u001b[1m19s\u001b[0m 140ms/step - accuracy: 0.9845 - loss: 0.0557 - val_accuracy: 0.5000 - val_loss: 3.3811\n",
      "Epoch 19/50\n",
      "\u001b[1m133/133\u001b[0m \u001b[32m━━━━━━━━━━━━━━━━━━━━\u001b[0m\u001b[37m\u001b[0m \u001b[1m0s\u001b[0m 89ms/step - accuracy: 0.9849 - loss: 0.0466 — f1_train: 0.9907 — f1_val: 0.4750\n",
      "\u001b[1m133/133\u001b[0m \u001b[32m━━━━━━━━━━━━━━━━━━━━\u001b[0m\u001b[37m\u001b[0m \u001b[1m26s\u001b[0m 184ms/step - accuracy: 0.9849 - loss: 0.0467 - val_accuracy: 0.4800 - val_loss: 3.9046\n",
      "Epoch 20/50\n",
      "\u001b[1m133/133\u001b[0m \u001b[32m━━━━━━━━━━━━━━━━━━━━\u001b[0m\u001b[37m\u001b[0m \u001b[1m0s\u001b[0m 87ms/step - accuracy: 0.9883 - loss: 0.0484 — f1_train: 0.9821 — f1_val: 0.4724\n",
      "\u001b[1m133/133\u001b[0m \u001b[32m━━━━━━━━━━━━━━━━━━━━\u001b[0m\u001b[37m\u001b[0m \u001b[1m35s\u001b[0m 140ms/step - accuracy: 0.9883 - loss: 0.0485 - val_accuracy: 0.4767 - val_loss: 3.9736\n",
      "Epoch 21/50\n",
      "\u001b[1m133/133\u001b[0m \u001b[32m━━━━━━━━━━━━━━━━━━━━\u001b[0m\u001b[37m\u001b[0m \u001b[1m0s\u001b[0m 89ms/step - accuracy: 0.9858 - loss: 0.0484 — f1_train: 0.9579 — f1_val: 0.4635\n",
      "\u001b[1m133/133\u001b[0m \u001b[32m━━━━━━━━━━━━━━━━━━━━\u001b[0m\u001b[37m\u001b[0m \u001b[1m22s\u001b[0m 151ms/step - accuracy: 0.9857 - loss: 0.0485 - val_accuracy: 0.4593 - val_loss: 3.8142\n",
      "Epoch 22/50\n",
      "\u001b[1m133/133\u001b[0m \u001b[32m━━━━━━━━━━━━━━━━━━━━\u001b[0m\u001b[37m\u001b[0m \u001b[1m0s\u001b[0m 88ms/step - accuracy: 0.9689 - loss: 0.1001 — f1_train: 0.9808 — f1_val: 0.4681\n",
      "\u001b[1m133/133\u001b[0m \u001b[32m━━━━━━━━━━━━━━━━━━━━\u001b[0m\u001b[37m\u001b[0m \u001b[1m19s\u001b[0m 143ms/step - accuracy: 0.9689 - loss: 0.1001 - val_accuracy: 0.4720 - val_loss: 3.8576\n",
      "Epoch 23/50\n",
      "\u001b[1m133/133\u001b[0m \u001b[32m━━━━━━━━━━━━━━━━━━━━\u001b[0m\u001b[37m\u001b[0m \u001b[1m0s\u001b[0m 86ms/step - accuracy: 0.9789 - loss: 0.0728 — f1_train: 0.9895 — f1_val: 0.4793\n",
      "\u001b[1m133/133\u001b[0m \u001b[32m━━━━━━━━━━━━━━━━━━━━\u001b[0m\u001b[37m\u001b[0m \u001b[1m20s\u001b[0m 142ms/step - accuracy: 0.9789 - loss: 0.0728 - val_accuracy: 0.4827 - val_loss: 4.0720\n",
      "Epoch 24/50\n",
      "\u001b[1m133/133\u001b[0m \u001b[32m━━━━━━━━━━━━━━━━━━━━\u001b[0m\u001b[37m\u001b[0m \u001b[1m0s\u001b[0m 94ms/step - accuracy: 0.9841 - loss: 0.0491 — f1_train: 0.9920 — f1_val: 0.4710\n",
      "\u001b[1m133/133\u001b[0m \u001b[32m━━━━━━━━━━━━━━━━━━━━\u001b[0m\u001b[37m\u001b[0m \u001b[1m27s\u001b[0m 192ms/step - accuracy: 0.9841 - loss: 0.0491 - val_accuracy: 0.4720 - val_loss: 4.0561\n",
      "Epoch 25/50\n",
      "\u001b[1m133/133\u001b[0m \u001b[32m━━━━━━━━━━━━━━━━━━━━\u001b[0m\u001b[37m\u001b[0m \u001b[1m0s\u001b[0m 88ms/step - accuracy: 0.9882 - loss: 0.0391 — f1_train: 0.9908 — f1_val: 0.4764\n",
      "\u001b[1m133/133\u001b[0m \u001b[32m━━━━━━━━━━━━━━━━━━━━\u001b[0m\u001b[37m\u001b[0m \u001b[1m42s\u001b[0m 196ms/step - accuracy: 0.9882 - loss: 0.0392 - val_accuracy: 0.4833 - val_loss: 3.8578\n",
      "Epoch 26/50\n",
      "\u001b[1m133/133\u001b[0m \u001b[32m━━━━━━━━━━━━━━━━━━━━\u001b[0m\u001b[37m\u001b[0m \u001b[1m0s\u001b[0m 93ms/step - accuracy: 0.9886 - loss: 0.0400 — f1_train: 0.9910 — f1_val: 0.4655\n",
      "\u001b[1m133/133\u001b[0m \u001b[32m━━━━━━━━━━━━━━━━━━━━\u001b[0m\u001b[37m\u001b[0m \u001b[1m41s\u001b[0m 199ms/step - accuracy: 0.9886 - loss: 0.0400 - val_accuracy: 0.4680 - val_loss: 4.3815\n",
      "Epoch 27/50\n",
      "\u001b[1m133/133\u001b[0m \u001b[32m━━━━━━━━━━━━━━━━━━━━\u001b[0m\u001b[37m\u001b[0m \u001b[1m0s\u001b[0m 92ms/step - accuracy: 0.9887 - loss: 0.0346 — f1_train: 0.9908 — f1_val: 0.4632\n",
      "\u001b[1m133/133\u001b[0m \u001b[32m━━━━━━━━━━━━━━━━━━━━\u001b[0m\u001b[37m\u001b[0m \u001b[1m39s\u001b[0m 188ms/step - accuracy: 0.9887 - loss: 0.0346 - val_accuracy: 0.4687 - val_loss: 4.2600\n",
      "Epoch 28/50\n",
      "\u001b[1m133/133\u001b[0m \u001b[32m━━━━━━━━━━━━━━━━━━━━\u001b[0m\u001b[37m\u001b[0m \u001b[1m0s\u001b[0m 91ms/step - accuracy: 0.9921 - loss: 0.0345 — f1_train: 0.9947 — f1_val: 0.4794\n",
      "\u001b[1m133/133\u001b[0m \u001b[32m━━━━━━━━━━━━━━━━━━━━\u001b[0m\u001b[37m\u001b[0m \u001b[1m35s\u001b[0m 145ms/step - accuracy: 0.9921 - loss: 0.0345 - val_accuracy: 0.4773 - val_loss: 4.2614\n",
      "Epoch 29/50\n",
      "\u001b[1m133/133\u001b[0m \u001b[32m━━━━━━━━━━━━━━━━━━━━\u001b[0m\u001b[37m\u001b[0m \u001b[1m0s\u001b[0m 96ms/step - accuracy: 0.9952 - loss: 0.0201 — f1_train: 0.9712 — f1_val: 0.4460\n",
      "\u001b[1m133/133\u001b[0m \u001b[32m━━━━━━━━━━━━━━━━━━━━\u001b[0m\u001b[37m\u001b[0m \u001b[1m20s\u001b[0m 153ms/step - accuracy: 0.9951 - loss: 0.0203 - val_accuracy: 0.4527 - val_loss: 4.7032\n",
      "Epoch 30/50\n",
      "\u001b[1m133/133\u001b[0m \u001b[32m━━━━━━━━━━━━━━━━━━━━\u001b[0m\u001b[37m\u001b[0m \u001b[1m0s\u001b[0m 88ms/step - accuracy: 0.9752 - loss: 0.0810 — f1_train: 0.9690 — f1_val: 0.4432\n",
      "\u001b[1m133/133\u001b[0m \u001b[32m━━━━━━━━━━━━━━━━━━━━\u001b[0m\u001b[37m\u001b[0m \u001b[1m20s\u001b[0m 147ms/step - accuracy: 0.9751 - loss: 0.0812 - val_accuracy: 0.4440 - val_loss: 4.5072\n",
      "Epoch 31/50\n",
      "\u001b[1m133/133\u001b[0m \u001b[32m━━━━━━━━━━━━━━━━━━━━\u001b[0m\u001b[37m\u001b[0m \u001b[1m0s\u001b[0m 86ms/step - accuracy: 0.9643 - loss: 0.1332 — f1_train: 0.9804 — f1_val: 0.4537\n",
      "\u001b[1m133/133\u001b[0m \u001b[32m━━━━━━━━━━━━━━━━━━━━\u001b[0m\u001b[37m\u001b[0m \u001b[1m20s\u001b[0m 141ms/step - accuracy: 0.9643 - loss: 0.1331 - val_accuracy: 0.4627 - val_loss: 4.0507\n",
      "Epoch 32/50\n",
      "\u001b[1m133/133\u001b[0m \u001b[32m━━━━━━━━━━━━━━━━━━━━\u001b[0m\u001b[37m\u001b[0m \u001b[1m0s\u001b[0m 88ms/step - accuracy: 0.9864 - loss: 0.0475 — f1_train: 0.9836 — f1_val: 0.4664\n",
      "\u001b[1m133/133\u001b[0m \u001b[32m━━━━━━━━━━━━━━━━━━━━\u001b[0m\u001b[37m\u001b[0m \u001b[1m26s\u001b[0m 180ms/step - accuracy: 0.9864 - loss: 0.0475 - val_accuracy: 0.4680 - val_loss: 4.5255\n",
      "Epoch 33/50\n",
      "\u001b[1m133/133\u001b[0m \u001b[32m━━━━━━━━━━━━━━━━━━━━\u001b[0m\u001b[37m\u001b[0m \u001b[1m0s\u001b[0m 87ms/step - accuracy: 0.9837 - loss: 0.0454 — f1_train: 0.9957 — f1_val: 0.4747\n",
      "\u001b[1m133/133\u001b[0m \u001b[32m━━━━━━━━━━━━━━━━━━━━\u001b[0m\u001b[37m\u001b[0m \u001b[1m36s\u001b[0m 140ms/step - accuracy: 0.9837 - loss: 0.0453 - val_accuracy: 0.4767 - val_loss: 4.9342\n",
      "Epoch 34/50\n",
      "\u001b[1m133/133\u001b[0m \u001b[32m━━━━━━━━━━━━━━━━━━━━\u001b[0m\u001b[37m\u001b[0m \u001b[1m0s\u001b[0m 90ms/step - accuracy: 0.9915 - loss: 0.0274 — f1_train: 0.9897 — f1_val: 0.4526\n",
      "\u001b[1m133/133\u001b[0m \u001b[32m━━━━━━━━━━━━━━━━━━━━\u001b[0m\u001b[37m\u001b[0m \u001b[1m27s\u001b[0m 188ms/step - accuracy: 0.9915 - loss: 0.0275 - val_accuracy: 0.4567 - val_loss: 4.5552\n",
      "Epoch 35/50\n",
      "\u001b[1m133/133\u001b[0m \u001b[32m━━━━━━━━━━━━━━━━━━━━\u001b[0m\u001b[37m\u001b[0m \u001b[1m0s\u001b[0m 87ms/step - accuracy: 0.9868 - loss: 0.0401 — f1_train: 0.9814 — f1_val: 0.4702\n",
      "\u001b[1m133/133\u001b[0m \u001b[32m━━━━━━━━━━━━━━━━━━━━\u001b[0m\u001b[37m\u001b[0m \u001b[1m35s\u001b[0m 141ms/step - accuracy: 0.9868 - loss: 0.0401 - val_accuracy: 0.4687 - val_loss: 4.8899\n",
      "Epoch 36/50\n",
      "\u001b[1m133/133\u001b[0m \u001b[32m━━━━━━━━━━━━━━━━━━━━\u001b[0m\u001b[37m\u001b[0m \u001b[1m0s\u001b[0m 89ms/step - accuracy: 0.9810 - loss: 0.0701 — f1_train: 0.9598 — f1_val: 0.4341\n",
      "\u001b[1m133/133\u001b[0m \u001b[32m━━━━━━━━━━━━━━━━━━━━\u001b[0m\u001b[37m\u001b[0m \u001b[1m21s\u001b[0m 142ms/step - accuracy: 0.9809 - loss: 0.0705 - val_accuracy: 0.4373 - val_loss: 4.0638\n",
      "Epoch 37/50\n",
      "\u001b[1m133/133\u001b[0m \u001b[32m━━━━━━━━━━━━━━━━━━━━\u001b[0m\u001b[37m\u001b[0m \u001b[1m0s\u001b[0m 89ms/step - accuracy: 0.9762 - loss: 0.0806 — f1_train: 0.9949 — f1_val: 0.4738\n",
      "\u001b[1m133/133\u001b[0m \u001b[32m━━━━━━━━━━━━━━━━━━━━\u001b[0m\u001b[37m\u001b[0m \u001b[1m24s\u001b[0m 183ms/step - accuracy: 0.9762 - loss: 0.0805 - val_accuracy: 0.4787 - val_loss: 4.1608\n",
      "Epoch 38/50\n",
      "\u001b[1m133/133\u001b[0m \u001b[32m━━━━━━━━━━━━━━━━━━━━\u001b[0m\u001b[37m\u001b[0m \u001b[1m0s\u001b[0m 91ms/step - accuracy: 0.9921 - loss: 0.0222 — f1_train: 0.9977 — f1_val: 0.4842\n",
      "\u001b[1m133/133\u001b[0m \u001b[32m━━━━━━━━━━━━━━━━━━━━\u001b[0m\u001b[37m\u001b[0m \u001b[1m37s\u001b[0m 155ms/step - accuracy: 0.9921 - loss: 0.0222 - val_accuracy: 0.4887 - val_loss: 4.5198\n",
      "Epoch 39/50\n",
      "\u001b[1m133/133\u001b[0m \u001b[32m━━━━━━━━━━━━━━━━━━━━\u001b[0m\u001b[37m\u001b[0m \u001b[1m0s\u001b[0m 93ms/step - accuracy: 0.9959 - loss: 0.0161 — f1_train: 0.9994 — f1_val: 0.4916\n",
      "\u001b[1m133/133\u001b[0m \u001b[32m━━━━━━━━━━━━━━━━━━━━\u001b[0m\u001b[37m\u001b[0m \u001b[1m42s\u001b[0m 165ms/step - accuracy: 0.9959 - loss: 0.0161 - val_accuracy: 0.4953 - val_loss: 4.4499\n",
      "Epoch 40/50\n",
      "\u001b[1m133/133\u001b[0m \u001b[32m━━━━━━━━━━━━━━━━━━━━\u001b[0m\u001b[37m\u001b[0m \u001b[1m0s\u001b[0m 91ms/step - accuracy: 0.9944 - loss: 0.0175 — f1_train: 0.9949 — f1_val: 0.4782\n",
      "\u001b[1m133/133\u001b[0m \u001b[32m━━━━━━━━━━━━━━━━━━━━\u001b[0m\u001b[37m\u001b[0m \u001b[1m25s\u001b[0m 190ms/step - accuracy: 0.9944 - loss: 0.0175 - val_accuracy: 0.4840 - val_loss: 4.4435\n",
      "Epoch 41/50\n",
      "\u001b[1m133/133\u001b[0m \u001b[32m━━━━━━━━━━━━━━━━━━━━\u001b[0m\u001b[37m\u001b[0m \u001b[1m0s\u001b[0m 88ms/step - accuracy: 0.9953 - loss: 0.0184 — f1_train: 0.9878 — f1_val: 0.4539\n",
      "\u001b[1m133/133\u001b[0m \u001b[32m━━━━━━━━━━━━━━━━━━━━\u001b[0m\u001b[37m\u001b[0m \u001b[1m19s\u001b[0m 144ms/step - accuracy: 0.9953 - loss: 0.0185 - val_accuracy: 0.4553 - val_loss: 4.9343\n",
      "Epoch 42/50\n",
      "\u001b[1m133/133\u001b[0m \u001b[32m━━━━━━━━━━━━━━━━━━━━\u001b[0m\u001b[37m\u001b[0m \u001b[1m0s\u001b[0m 87ms/step - accuracy: 0.9913 - loss: 0.0349 — f1_train: 0.9783 — f1_val: 0.4447\n",
      "\u001b[1m133/133\u001b[0m \u001b[32m━━━━━━━━━━━━━━━━━━━━\u001b[0m\u001b[37m\u001b[0m \u001b[1m19s\u001b[0m 145ms/step - accuracy: 0.9913 - loss: 0.0349 - val_accuracy: 0.4480 - val_loss: 5.1934\n",
      "Epoch 43/50\n",
      "\u001b[1m133/133\u001b[0m \u001b[32m━━━━━━━━━━━━━━━━━━━━\u001b[0m\u001b[37m\u001b[0m \u001b[1m0s\u001b[0m 94ms/step - accuracy: 0.9772 - loss: 0.0788 — f1_train: 0.9845 — f1_val: 0.4654\n",
      "\u001b[1m133/133\u001b[0m \u001b[32m━━━━━━━━━━━━━━━━━━━━\u001b[0m\u001b[37m\u001b[0m \u001b[1m23s\u001b[0m 163ms/step - accuracy: 0.9772 - loss: 0.0788 - val_accuracy: 0.4693 - val_loss: 4.1703\n",
      "Epoch 44/50\n",
      "\u001b[1m133/133\u001b[0m \u001b[32m━━━━━━━━━━━━━━━━━━━━\u001b[0m\u001b[37m\u001b[0m \u001b[1m0s\u001b[0m 87ms/step - accuracy: 0.9889 - loss: 0.0351 — f1_train: 0.9967 — f1_val: 0.4583\n",
      "\u001b[1m133/133\u001b[0m \u001b[32m━━━━━━━━━━━━━━━━━━━━\u001b[0m\u001b[37m\u001b[0m \u001b[1m38s\u001b[0m 141ms/step - accuracy: 0.9889 - loss: 0.0350 - val_accuracy: 0.4627 - val_loss: 4.5323\n",
      "Epoch 45/50\n",
      "\u001b[1m133/133\u001b[0m \u001b[32m━━━━━━━━━━━━━━━━━━━━\u001b[0m\u001b[37m\u001b[0m \u001b[1m0s\u001b[0m 91ms/step - accuracy: 0.9934 - loss: 0.0247 — f1_train: 0.9979 — f1_val: 0.4849\n",
      "\u001b[1m133/133\u001b[0m \u001b[32m━━━━━━━━━━━━━━━━━━━━\u001b[0m\u001b[37m\u001b[0m \u001b[1m27s\u001b[0m 190ms/step - accuracy: 0.9934 - loss: 0.0247 - val_accuracy: 0.4840 - val_loss: 4.7610\n",
      "Epoch 46/50\n",
      "\u001b[1m133/133\u001b[0m \u001b[32m━━━━━━━━━━━━━━━━━━━━\u001b[0m\u001b[37m\u001b[0m \u001b[1m0s\u001b[0m 93ms/step - accuracy: 0.9957 - loss: 0.0161 — f1_train: 0.9952 — f1_val: 0.4630\n",
      "\u001b[1m133/133\u001b[0m \u001b[32m━━━━━━━━━━━━━━━━━━━━\u001b[0m\u001b[37m\u001b[0m \u001b[1m20s\u001b[0m 148ms/step - accuracy: 0.9957 - loss: 0.0161 - val_accuracy: 0.4667 - val_loss: 4.9034\n",
      "Epoch 47/50\n",
      "\u001b[1m133/133\u001b[0m \u001b[32m━━━━━━━━━━━━━━━━━━━━\u001b[0m\u001b[37m\u001b[0m \u001b[1m0s\u001b[0m 91ms/step - accuracy: 0.9890 - loss: 0.0368 — f1_train: 0.9768 — f1_val: 0.4543\n",
      "\u001b[1m133/133\u001b[0m \u001b[32m━━━━━━━━━━━━━━━━━━━━\u001b[0m\u001b[37m\u001b[0m \u001b[1m20s\u001b[0m 144ms/step - accuracy: 0.9890 - loss: 0.0369 - val_accuracy: 0.4613 - val_loss: 5.4613\n",
      "Epoch 48/50\n",
      "\u001b[1m133/133\u001b[0m \u001b[32m━━━━━━━━━━━━━━━━━━━━\u001b[0m\u001b[37m\u001b[0m \u001b[1m0s\u001b[0m 89ms/step - accuracy: 0.9777 - loss: 0.0846 — f1_train: 0.9809 — f1_val: 0.4654\n",
      "\u001b[1m133/133\u001b[0m \u001b[32m━━━━━━━━━━━━━━━━━━━━\u001b[0m\u001b[37m\u001b[0m \u001b[1m20s\u001b[0m 149ms/step - accuracy: 0.9777 - loss: 0.0846 - val_accuracy: 0.4680 - val_loss: 4.4578\n",
      "Epoch 49/50\n",
      "\u001b[1m133/133\u001b[0m \u001b[32m━━━━━━━━━━━━━━━━━━━━\u001b[0m\u001b[37m\u001b[0m \u001b[1m0s\u001b[0m 88ms/step - accuracy: 0.9845 - loss: 0.0505 — f1_train: 0.9807 — f1_val: 0.4531\n",
      "\u001b[1m133/133\u001b[0m \u001b[32m━━━━━━━━━━━━━━━━━━━━\u001b[0m\u001b[37m\u001b[0m \u001b[1m19s\u001b[0m 140ms/step - accuracy: 0.9845 - loss: 0.0505 - val_accuracy: 0.4600 - val_loss: 4.7793\n",
      "Epoch 50/50\n",
      "\u001b[1m133/133\u001b[0m \u001b[32m━━━━━━━━━━━━━━━━━━━━\u001b[0m\u001b[37m\u001b[0m \u001b[1m0s\u001b[0m 88ms/step - accuracy: 0.9861 - loss: 0.0546 — f1_train: 0.9953 — f1_val: 0.4746\n",
      "\u001b[1m133/133\u001b[0m \u001b[32m━━━━━━━━━━━━━━━━━━━━\u001b[0m\u001b[37m\u001b[0m \u001b[1m20s\u001b[0m 150ms/step - accuracy: 0.9861 - loss: 0.0546 - val_accuracy: 0.4760 - val_loss: 4.4611\n"
     ]
    }
   ],
   "source": [
    "model2 = MYCNN(num_classes=20)\n",
    "f1_callback = F1ScoreCallback(x_train, y_train, x_val, y_val)\n",
    "\n",
    "\n",
    "model.compile(\n",
    "    optimizer=tf.keras.optimizers.Adam(learning_rate=0.001),\n",
    "    loss=tf.keras.losses.SparseCategoricalCrossentropy(from_logits=True),\n",
    "    metrics=['accuracy']\n",
    ")\n",
    "\n",
    "# train\n",
    "history = model.fit(\n",
    "    x_train, y_train,\n",
    "    epochs=50,\n",
    "    batch_size=64,\n",
    "    validation_data=(x_val, y_val),\n",
    "    callbacks=[f1_callback]\n",
    ")\n"
   ]
  },
  {
   "cell_type": "code",
   "execution_count": null,
   "metadata": {
    "colab": {
     "base_uri": "https://localhost:8080/",
     "height": 564
    },
    "executionInfo": {
     "elapsed": 324,
     "status": "ok",
     "timestamp": 1745768797366,
     "user": {
      "displayName": "Νίκος Κατσαϊδώνης",
      "userId": "13489937806515013970"
     },
     "user_tz": -180
    },
    "id": "zhH-iBK27cj_",
    "outputId": "d4c0b675-4152-4c91-fefa-d3ac24925c1d"
   },
   "outputs": [
    {
     "data": {
      "image/png": "[encoded data removed]",
      "text/plain": [
       "<Figure size 1000x600 with 1 Axes>"
      ]
     },
     "metadata": {},
     "output_type": "display_data"
    }
   ],
   "source": [
    "#plot of f1 scores\n",
    "plt.figure(figsize=(10, 6))\n",
    "plt.plot(f1_callback.f1_train_scores, label='Train F1-score')\n",
    "plt.plot(f1_callback.f1_val_scores, label='Validation F1-score')\n",
    "plt.title('F1-score per epoch')\n",
    "plt.xlabel('Epoch')\n",
    "plt.ylabel('F1-score')\n",
    "plt.legend()\n",
    "plt.grid(True)\n",
    "plt.show()\n"
   ]
  },
  {
   "cell_type": "code",
   "execution_count": null,
   "metadata": {
    "colab": {
     "base_uri": "https://localhost:8080/"
    },
    "executionInfo": {
     "elapsed": 5998,
     "status": "ok",
     "timestamp": 1745768852552,
     "user": {
      "displayName": "Νίκος Κατσαϊδώνης",
      "userId": "13489937806515013970"
     },
     "user_tz": -180
    },
    "id": "xhkpT76H7naO",
    "outputId": "6ca00ded-5ebd-4750-ba0c-0b7dedf028e3"
   },
   "outputs": [
    {
     "name": "stdout",
     "output_type": "stream",
     "text": [
      "\u001b[1m63/63\u001b[0m \u001b[32m━━━━━━━━━━━━━━━━━━━━\u001b[0m\u001b[37m\u001b[0m \u001b[1m3s\u001b[0m 42ms/step\n",
      "F1 Score: 0.4717813393906646\n",
      "Accuracy: 0.4725\n"
     ]
    }
   ],
   "source": [
    "from sklearn.metrics import f1_score, accuracy_score\n",
    "################ TESTING ###############\n",
    "\n",
    "#logits and predictions on test set\n",
    "y_pred_logits = model.predict(x_test)\n",
    "y_pred = np.argmax(y_pred_logits, axis=1)\n",
    "\n",
    "# F1 and accuracy\n",
    "y_test = y_test.flatten()\n",
    "f1_macro = f1_score(y_test, y_pred, average='macro')\n",
    "acc = accuracy_score(y_test, y_pred)\n",
    "\n",
    "print(\"F1 Score:\", f1_macro)\n",
    "print(\"Accuracy:\", acc)\n"
   ]
  },
  {
   "cell_type": "markdown",
   "metadata": {
    "id": "agw-8iauCwXf"
   },
   "source": [
    "We observed that using resized images led to worse results (0.47 vs. 0.53). Overall, the CNN trained on 32×32 images performed about 0.1 better than VGG-11. However, overfitting persists, as indicated by the training F1-score. In the following section, we will apply techniques to improve generalization.\n"
   ]
  },
  {
   "cell_type": "markdown",
   "metadata": {
    "id": "v8rhgSGOV5pm"
   },
   "source": [
    "## Question 2\n",
    "---\n",
    "\n",
    "### Step 1: Overfitting Control\n",
    "\n",
    "For your custom model (**MyCNN**) only, experiment with various combinations of the following techniques to control overfitting and improve generalization:\n",
    "\n",
    "- **Dropout**  \n",
    "  [Dropout (TensorFlow guide)](https://www.tensorflow.org/tutorials/images/classification#dropout)\n",
    "\n",
    "- **Data Augmentation**  \n",
    "  [Data Augmentation (TensorFlow guide)](https://www.tensorflow.org/tutorials/images/classification#data_augmentation)  \n",
    "  [ImageDataGenerator Documentation](https://www.tensorflow.org/api_docs/python/tf/keras/preprocessing/image/ImageDataGenerator#class_imagedatagenerator)\n",
    "\n",
    "---\n",
    "\n",
    "### Step 2: Evaluation\n",
    "\n",
    "Evaluate your results using the **F1-score** on both the **validation set** and the **test set**.\n",
    "\n",
    "---\n"
   ]
  },
  {
   "cell_type": "markdown",
   "metadata": {
    "id": "bzbwTBaFxuXE"
   },
   "source": [
    "# **Data augmentation**\n",
    "**We apply transformations to create more complex data to prevent overfitting.**"
   ]
  },
  {
   "cell_type": "code",
   "execution_count": null,
   "metadata": {
    "id": "2nctWPzituNK"
   },
   "outputs": [],
   "source": [
    "#Data augmentation\n",
    "\n",
    "from tensorflow.keras.preprocessing.image import ImageDataGenerator\n",
    "\n",
    "datagen = ImageDataGenerator(\n",
    "    rotation_range=20, #random rotation 0-20 deegres\n",
    "    width_shift_range=0.2, #random shift of the image 20% of its width\n",
    "    height_shift_range=0.2, #\" - \"\n",
    "    shear_range=0.2, #this, \"rotates\" the image creating effects\n",
    "    zoom_range=0.2, #random zoom\n",
    "    horizontal_flip=True,\n",
    "    fill_mode='nearest', #fills the pixels that has no values (which occured from the transformations above) with the nearest values\n",
    "    #brightness_range=[0.8, 1.2] #random brightness (0.2-1.8 times the original brightness)\n",
    ")\n",
    "\n",
    "# Create augmented data generator\n",
    "train_generator = datagen.flow(x_train, y_train, batch_size=64)"
   ]
  },
  {
   "cell_type": "markdown",
   "metadata": {
    "id": "XB4H9gtKyNcd"
   },
   "source": [
    "**Lets see some examples of our augmented data:**"
   ]
  },
  {
   "cell_type": "code",
   "execution_count": null,
   "metadata": {
    "colab": {
     "base_uri": "https://localhost:8080/",
     "height": 924
    },
    "executionInfo": {
     "elapsed": 818,
     "status": "ok",
     "timestamp": 1745770396066,
     "user": {
      "displayName": "Νίκος Κατσαϊδώνης",
      "userId": "13489937806515013970"
     },
     "user_tz": -180
    },
    "id": "0ppIslmfyNB3",
    "outputId": "94bc38b9-0d61-4a80-b9cf-1daf6a02c25a"
   },
   "outputs": [
    {
     "data": {
      "text/plain": [
       "<Figure size 1200x900 with 0 Axes>"
      ]
     },
     "metadata": {},
     "output_type": "display_data"
    },
    {
     "data": {
      "image/png": "[encoded data removed]",
      "text/plain": [
       "<Figure size 1200x900 with 12 Axes>"
      ]
     },
     "metadata": {},
     "output_type": "display_data"
    }
   ],
   "source": [
    "import matplotlib.pyplot as plt\n",
    "import numpy as np\n",
    "\n",
    "# the images we plot\n",
    "indices = [0, 5, 15]\n",
    "originals = []\n",
    "augmented1 = []\n",
    "augmented2 = []\n",
    "augmented3 = []\n",
    "\n",
    "plt.figure(figsize=(12, 9))\n",
    "\n",
    "for row, idx in enumerate(indices):\n",
    "\n",
    "    original_img = x_train[idx]\n",
    "    #the generator takes as input (batch_size, 32, 32, 3)\n",
    "    sample_img = np.expand_dims(original_img, 0) # sample_img.shape = (1, 32, 32, 3)\n",
    "\n",
    "    originals.append(original_img)\n",
    "\n",
    "    #generator\n",
    "    aug_iter = datagen.flow(sample_img, batch_size=1)\n",
    "    augmented1.append(next(aug_iter)[0])\n",
    "    augmented2.append(next(aug_iter)[0])\n",
    "    augmented3.append(next(aug_iter)[0])\n",
    "\n",
    "\n",
    "\n",
    "\n",
    "# plotting the images\n",
    "plt.figure(figsize=(12, 9))\n",
    "\n",
    "for i in range(3):\n",
    "    plt.subplot(3, 4, i*4 + 1)\n",
    "    plt.imshow(originals[i])\n",
    "    plt.title(f\"Original {indices[i]}\")\n",
    "    plt.axis('off')\n",
    "\n",
    "    plt.subplot(3, 4, i*4 + 2)\n",
    "    plt.imshow(augmented1[i])\n",
    "    plt.title(\"Augmented 1\")\n",
    "    plt.axis('off')\n",
    "\n",
    "    plt.subplot(3, 4, i*4 + 3)\n",
    "    plt.imshow(augmented2[i])\n",
    "    plt.title(\"Augmented 2\")\n",
    "    plt.axis('off')\n",
    "\n",
    "    plt.subplot(3, 4, i*4 + 4)\n",
    "    plt.imshow(augmented3[i])\n",
    "    plt.title(\"Augmented 3\")\n",
    "    plt.axis('off')\n",
    "\n",
    "plt.tight_layout()\n",
    "plt.show()\n"
   ]
  },
  {
   "cell_type": "markdown",
   "metadata": {
    "id": "NNdDcXf439rX"
   },
   "source": [
    "# **Lets train the model with the augmented input, batch normalization and dropout.**"
   ]
  },
  {
   "cell_type": "code",
   "execution_count": null,
   "metadata": {
    "id": "VgAG29ZB4llw"
   },
   "outputs": [],
   "source": [
    "################ WE ADD DROPOUT IN FC LAYERS AND BATCH NORM AFTER CONV #########################\n",
    "\n",
    "class MYCNN(tf.keras.Model):\n",
    "    def __init__(self, num_classes=20, input_shape=(32, 32, 3)):\n",
    "        super(MYCNN, self).__init__()\n",
    "\n",
    "        # Ορίζουμε το Sequential μοντέλο με τα στρώματα\n",
    "        self.model = models.Sequential()\n",
    "\n",
    "        # 1st Conv Block: Conv2D -> AveragePooling2D\n",
    "        self.model.add(layers.Conv2D(32, kernel_size=3, activation='relu', padding='same', input_shape=input_shape))\n",
    "        tf.keras.layers.BatchNormalization()\n",
    "        self.model.add(layers.AveragePooling2D(pool_size=2))\n",
    "\n",
    "        # 2nd Conv Block: Conv2D -> AveragePooling2D\n",
    "        self.model.add(layers.Conv2D(64, kernel_size=3, activation='relu', padding='same'))\n",
    "        tf.keras.layers.BatchNormalization()\n",
    "        self.model.add(layers.AveragePooling2D(pool_size=2))\n",
    "\n",
    "        # 3rd Conv Block: Conv2D -> AveragePooling2D\n",
    "        self.model.add(layers.Conv2D(128, kernel_size=3, activation='relu', padding='same'))\n",
    "        tf.keras.layers.BatchNormalization()\n",
    "        self.model.add(layers.AveragePooling2D(pool_size=2))\n",
    "\n",
    "        # Fully Connected Layers\n",
    "        self.model.add(layers.Flatten())\n",
    "        self.model.add(layers.Dense(512, activation='relu'))\n",
    "        self.model.add(layers.Dropout(0.5)) #DROPOUT\n",
    "        self.model.add(layers.Dense(256, activation='relu'))\n",
    "        self.model.add(layers.Dropout(0.5)) #DROPOUT\n",
    "\n",
    "        # Output Layer (logits)\n",
    "        self.model.add(layers.Dense(num_classes))\n",
    "\n",
    "    def call(self, inputs):\n",
    "        return self.model(inputs)\n"
   ]
  },
  {
   "cell_type": "code",
   "execution_count": null,
   "metadata": {
    "colab": {
     "base_uri": "https://localhost:8080/"
    },
    "executionInfo": {
     "elapsed": 327341,
     "status": "ok",
     "timestamp": 1745769519339,
     "user": {
      "displayName": "Νίκος Κατσαϊδώνης",
      "userId": "13489937806515013970"
     },
     "user_tz": -180
    },
    "id": "OlDLaSJ0xFqb",
    "outputId": "1e734af5-e7e8-44c6-f219-6e5ef94ceed9"
   },
   "outputs": [
    {
     "name": "stderr",
     "output_type": "stream",
     "text": [
      "/usr/local/lib/python3.11/dist-packages/keras/src/layers/convolutional/base_conv.py:107: UserWarning: Do not pass an `input_shape`/`input_dim` argument to a layer. When using Sequential models, prefer using an `Input(shape)` object as the first layer in the model instead.\n",
      "  super().__init__(activity_regularizer=activity_regularizer, **kwargs)\n"
     ]
    },
    {
     "name": "stdout",
     "output_type": "stream",
     "text": [
      "Epoch 1/50\n"
     ]
    },
    {
     "name": "stderr",
     "output_type": "stream",
     "text": [
      "/usr/local/lib/python3.11/dist-packages/keras/src/trainers/data_adapters/py_dataset_adapter.py:121: UserWarning: Your `PyDataset` class should call `super().__init__(**kwargs)` in its constructor. `**kwargs` can include `workers`, `use_multiprocessing`, `max_queue_size`. Do not pass these arguments to `fit()`, as they will be ignored.\n",
      "  self._warn_if_super_not_called()\n"
     ]
    },
    {
     "name": "stdout",
     "output_type": "stream",
     "text": [
      "\u001b[1m133/133\u001b[0m \u001b[32m━━━━━━━━━━━━━━━━━━━━\u001b[0m\u001b[37m\u001b[0m \u001b[1m0s\u001b[0m 50ms/step - accuracy: 0.1065 - loss: 2.8481 — f1_train: 0.1841 — f1_val: 0.1745\n",
      "\u001b[1m133/133\u001b[0m \u001b[32m━━━━━━━━━━━━━━━━━━━━\u001b[0m\u001b[37m\u001b[0m \u001b[1m15s\u001b[0m 76ms/step - accuracy: 0.1068 - loss: 2.8473 - val_accuracy: 0.2353 - val_loss: 2.5468\n",
      "Epoch 2/50\n",
      "\u001b[1m132/133\u001b[0m \u001b[32m━━━━━━━━━━━━━━━━━━━\u001b[0m\u001b[37m━\u001b[0m \u001b[1m0s\u001b[0m 41ms/step - accuracy: 0.2251 - loss: 2.5503 — f1_train: 0.2853 — f1_val: 0.2737\n",
      "\u001b[1m133/133\u001b[0m \u001b[32m━━━━━━━━━━━━━━━━━━━━\u001b[0m\u001b[37m\u001b[0m \u001b[1m7s\u001b[0m 50ms/step - accuracy: 0.2254 - loss: 2.5494 - val_accuracy: 0.3067 - val_loss: 2.2587\n",
      "Epoch 3/50\n",
      "\u001b[1m133/133\u001b[0m \u001b[32m━━━━━━━━━━━━━━━━━━━━\u001b[0m\u001b[37m\u001b[0m \u001b[1m0s\u001b[0m 34ms/step - accuracy: 0.2766 - loss: 2.3735 — f1_train: 0.3391 — f1_val: 0.3310\n",
      "\u001b[1m133/133\u001b[0m \u001b[32m━━━━━━━━━━━━━━━━━━━━\u001b[0m\u001b[37m\u001b[0m \u001b[1m6s\u001b[0m 43ms/step - accuracy: 0.2767 - loss: 2.3733 - val_accuracy: 0.3587 - val_loss: 2.1526\n",
      "Epoch 4/50\n",
      "\u001b[1m132/133\u001b[0m \u001b[32m━━━━━━━━━━━━━━━━━━━\u001b[0m\u001b[37m━\u001b[0m \u001b[1m0s\u001b[0m 40ms/step - accuracy: 0.3233 - loss: 2.2250 — f1_train: 0.3527 — f1_val: 0.3494\n",
      "\u001b[1m133/133\u001b[0m \u001b[32m━━━━━━━━━━━━━━━━━━━━\u001b[0m\u001b[37m\u001b[0m \u001b[1m7s\u001b[0m 50ms/step - accuracy: 0.3232 - loss: 2.2249 - val_accuracy: 0.3773 - val_loss: 2.0227\n",
      "Epoch 5/50\n",
      "\u001b[1m132/133\u001b[0m \u001b[32m━━━━━━━━━━━━━━━━━━━\u001b[0m\u001b[37m━\u001b[0m \u001b[1m0s\u001b[0m 34ms/step - accuracy: 0.3339 - loss: 2.1583 — f1_train: 0.3542 — f1_val: 0.3598\n",
      "\u001b[1m133/133\u001b[0m \u001b[32m━━━━━━━━━━━━━━━━━━━━\u001b[0m\u001b[37m\u001b[0m \u001b[1m6s\u001b[0m 43ms/step - accuracy: 0.3339 - loss: 2.1582 - val_accuracy: 0.3813 - val_loss: 2.0519\n",
      "Epoch 6/50\n",
      "\u001b[1m132/133\u001b[0m \u001b[32m━━━━━━━━━━━━━━━━━━━\u001b[0m\u001b[37m━\u001b[0m \u001b[1m0s\u001b[0m 41ms/step - accuracy: 0.3594 - loss: 2.0635 — f1_train: 0.4048 — f1_val: 0.3886\n",
      "\u001b[1m133/133\u001b[0m \u001b[32m━━━━━━━━━━━━━━━━━━━━\u001b[0m\u001b[37m\u001b[0m \u001b[1m7s\u001b[0m 50ms/step - accuracy: 0.3593 - loss: 2.0639 - val_accuracy: 0.4080 - val_loss: 1.9268\n",
      "Epoch 7/50\n",
      "\u001b[1m133/133\u001b[0m \u001b[32m━━━━━━━━━━━━━━━━━━━━\u001b[0m\u001b[37m\u001b[0m \u001b[1m0s\u001b[0m 34ms/step - accuracy: 0.3833 - loss: 2.0322 — f1_train: 0.3987 — f1_val: 0.3910\n",
      "\u001b[1m133/133\u001b[0m \u001b[32m━━━━━━━━━━━━━━━━━━━━\u001b[0m\u001b[37m\u001b[0m \u001b[1m6s\u001b[0m 43ms/step - accuracy: 0.3833 - loss: 2.0322 - val_accuracy: 0.4093 - val_loss: 1.9537\n",
      "Epoch 8/50\n",
      "\u001b[1m133/133\u001b[0m \u001b[32m━━━━━━━━━━━━━━━━━━━━\u001b[0m\u001b[37m\u001b[0m \u001b[1m0s\u001b[0m 41ms/step - accuracy: 0.3900 - loss: 1.9741 — f1_train: 0.4565 — f1_val: 0.4119\n",
      "\u001b[1m133/133\u001b[0m \u001b[32m━━━━━━━━━━━━━━━━━━━━\u001b[0m\u001b[37m\u001b[0m \u001b[1m7s\u001b[0m 50ms/step - accuracy: 0.3900 - loss: 1.9740 - val_accuracy: 0.4260 - val_loss: 1.8550\n",
      "Epoch 9/50\n",
      "\u001b[1m132/133\u001b[0m \u001b[32m━━━━━━━━━━━━━━━━━━━\u001b[0m\u001b[37m━\u001b[0m \u001b[1m0s\u001b[0m 34ms/step - accuracy: 0.4075 - loss: 1.8981 — f1_train: 0.4651 — f1_val: 0.4467\n",
      "\u001b[1m133/133\u001b[0m \u001b[32m━━━━━━━━━━━━━━━━━━━━\u001b[0m\u001b[37m\u001b[0m \u001b[1m6s\u001b[0m 44ms/step - accuracy: 0.4075 - loss: 1.8983 - val_accuracy: 0.4613 - val_loss: 1.7937\n",
      "Epoch 10/50\n",
      "\u001b[1m133/133\u001b[0m \u001b[32m━━━━━━━━━━━━━━━━━━━━\u001b[0m\u001b[37m\u001b[0m \u001b[1m0s\u001b[0m 41ms/step - accuracy: 0.4213 - loss: 1.8741 — f1_train: 0.4738 — f1_val: 0.4443\n",
      "\u001b[1m133/133\u001b[0m \u001b[32m━━━━━━━━━━━━━━━━━━━━\u001b[0m\u001b[37m\u001b[0m \u001b[1m7s\u001b[0m 50ms/step - accuracy: 0.4213 - loss: 1.8742 - val_accuracy: 0.4587 - val_loss: 1.8039\n",
      "Epoch 11/50\n",
      "\u001b[1m132/133\u001b[0m \u001b[32m━━━━━━━━━━━━━━━━━━━\u001b[0m\u001b[37m━\u001b[0m \u001b[1m0s\u001b[0m 34ms/step - accuracy: 0.4339 - loss: 1.8307 — f1_train: 0.4714 — f1_val: 0.4395\n",
      "\u001b[1m133/133\u001b[0m \u001b[32m━━━━━━━━━━━━━━━━━━━━\u001b[0m\u001b[37m\u001b[0m \u001b[1m6s\u001b[0m 43ms/step - accuracy: 0.4339 - loss: 1.8307 - val_accuracy: 0.4660 - val_loss: 1.7739\n",
      "Epoch 12/50\n",
      "\u001b[1m133/133\u001b[0m \u001b[32m━━━━━━━━━━━━━━━━━━━━\u001b[0m\u001b[37m\u001b[0m \u001b[1m0s\u001b[0m 41ms/step - accuracy: 0.4412 - loss: 1.7876 — f1_train: 0.5222 — f1_val: 0.4743\n",
      "\u001b[1m133/133\u001b[0m \u001b[32m━━━━━━━━━━━━━━━━━━━━\u001b[0m\u001b[37m\u001b[0m \u001b[1m7s\u001b[0m 50ms/step - accuracy: 0.4412 - loss: 1.7875 - val_accuracy: 0.4860 - val_loss: 1.7089\n",
      "Epoch 13/50\n",
      "\u001b[1m132/133\u001b[0m \u001b[32m━━━━━━━━━━━━━━━━━━━\u001b[0m\u001b[37m━\u001b[0m \u001b[1m0s\u001b[0m 34ms/step - accuracy: 0.4658 - loss: 1.7336 — f1_train: 0.5529 — f1_val: 0.5217\n",
      "\u001b[1m133/133\u001b[0m \u001b[32m━━━━━━━━━━━━━━━━━━━━\u001b[0m\u001b[37m\u001b[0m \u001b[1m6s\u001b[0m 42ms/step - accuracy: 0.4657 - loss: 1.7335 - val_accuracy: 0.5287 - val_loss: 1.6242\n",
      "Epoch 14/50\n",
      "\u001b[1m133/133\u001b[0m \u001b[32m━━━━━━━━━━━━━━━━━━━━\u001b[0m\u001b[37m\u001b[0m \u001b[1m0s\u001b[0m 41ms/step - accuracy: 0.4740 - loss: 1.6961 — f1_train: 0.5099 — f1_val: 0.4496\n",
      "\u001b[1m133/133\u001b[0m \u001b[32m━━━━━━━━━━━━━━━━━━━━\u001b[0m\u001b[37m\u001b[0m \u001b[1m7s\u001b[0m 50ms/step - accuracy: 0.4740 - loss: 1.6962 - val_accuracy: 0.4700 - val_loss: 1.7642\n",
      "Epoch 15/50\n",
      "\u001b[1m133/133\u001b[0m \u001b[32m━━━━━━━━━━━━━━━━━━━━\u001b[0m\u001b[37m\u001b[0m \u001b[1m0s\u001b[0m 34ms/step - accuracy: 0.4781 - loss: 1.6869 — f1_train: 0.5648 — f1_val: 0.5105\n",
      "\u001b[1m133/133\u001b[0m \u001b[32m━━━━━━━━━━━━━━━━━━━━\u001b[0m\u001b[37m\u001b[0m \u001b[1m6s\u001b[0m 43ms/step - accuracy: 0.4782 - loss: 1.6867 - val_accuracy: 0.5240 - val_loss: 1.6234\n",
      "Epoch 16/50\n",
      "\u001b[1m133/133\u001b[0m \u001b[32m━━━━━━━━━━━━━━━━━━━━\u001b[0m\u001b[37m\u001b[0m \u001b[1m0s\u001b[0m 41ms/step - accuracy: 0.4934 - loss: 1.6298 — f1_train: 0.5895 — f1_val: 0.5133\n",
      "\u001b[1m133/133\u001b[0m \u001b[32m━━━━━━━━━━━━━━━━━━━━\u001b[0m\u001b[37m\u001b[0m \u001b[1m7s\u001b[0m 50ms/step - accuracy: 0.4934 - loss: 1.6296 - val_accuracy: 0.5247 - val_loss: 1.6019\n",
      "Epoch 17/50\n",
      "\u001b[1m133/133\u001b[0m \u001b[32m━━━━━━━━━━━━━━━━━━━━\u001b[0m\u001b[37m\u001b[0m \u001b[1m0s\u001b[0m 34ms/step - accuracy: 0.5164 - loss: 1.5543 — f1_train: 0.5690 — f1_val: 0.5027\n",
      "\u001b[1m133/133\u001b[0m \u001b[32m━━━━━━━━━━━━━━━━━━━━\u001b[0m\u001b[37m\u001b[0m \u001b[1m6s\u001b[0m 43ms/step - accuracy: 0.5163 - loss: 1.5545 - val_accuracy: 0.5167 - val_loss: 1.6497\n",
      "Epoch 18/50\n",
      "\u001b[1m133/133\u001b[0m \u001b[32m━━━━━━━━━━━━━━━━━━━━\u001b[0m\u001b[37m\u001b[0m \u001b[1m0s\u001b[0m 42ms/step - accuracy: 0.5144 - loss: 1.5575 — f1_train: 0.5883 — f1_val: 0.5068\n",
      "\u001b[1m133/133\u001b[0m \u001b[32m━━━━━━━━━━━━━━━━━━━━\u001b[0m\u001b[37m\u001b[0m \u001b[1m7s\u001b[0m 51ms/step - accuracy: 0.5144 - loss: 1.5574 - val_accuracy: 0.5220 - val_loss: 1.5855\n",
      "Epoch 19/50\n",
      "\u001b[1m132/133\u001b[0m \u001b[32m━━━━━━━━━━━━━━━━━━━\u001b[0m\u001b[37m━\u001b[0m \u001b[1m0s\u001b[0m 34ms/step - accuracy: 0.5039 - loss: 1.5523 — f1_train: 0.5682 — f1_val: 0.4920\n",
      "\u001b[1m133/133\u001b[0m \u001b[32m━━━━━━━━━━━━━━━━━━━━\u001b[0m\u001b[37m\u001b[0m \u001b[1m6s\u001b[0m 43ms/step - accuracy: 0.5040 - loss: 1.5522 - val_accuracy: 0.5080 - val_loss: 1.6504\n",
      "Epoch 20/50\n",
      "\u001b[1m132/133\u001b[0m \u001b[32m━━━━━━━━━━━━━━━━━━━\u001b[0m\u001b[37m━\u001b[0m \u001b[1m0s\u001b[0m 41ms/step - accuracy: 0.5396 - loss: 1.4746 — f1_train: 0.6321 — f1_val: 0.5408\n",
      "\u001b[1m133/133\u001b[0m \u001b[32m━━━━━━━━━━━━━━━━━━━━\u001b[0m\u001b[37m\u001b[0m \u001b[1m7s\u001b[0m 50ms/step - accuracy: 0.5395 - loss: 1.4748 - val_accuracy: 0.5487 - val_loss: 1.5151\n",
      "Epoch 21/50\n",
      "\u001b[1m132/133\u001b[0m \u001b[32m━━━━━━━━━━━━━━━━━━━\u001b[0m\u001b[37m━\u001b[0m \u001b[1m0s\u001b[0m 33ms/step - accuracy: 0.5434 - loss: 1.4548 — f1_train: 0.6419 — f1_val: 0.5497\n",
      "\u001b[1m133/133\u001b[0m \u001b[32m━━━━━━━━━━━━━━━━━━━━\u001b[0m\u001b[37m\u001b[0m \u001b[1m6s\u001b[0m 43ms/step - accuracy: 0.5434 - loss: 1.4548 - val_accuracy: 0.5580 - val_loss: 1.4877\n",
      "Epoch 22/50\n",
      "\u001b[1m133/133\u001b[0m \u001b[32m━━━━━━━━━━━━━━━━━━━━\u001b[0m\u001b[37m\u001b[0m \u001b[1m0s\u001b[0m 41ms/step - accuracy: 0.5526 - loss: 1.4047 — f1_train: 0.6279 — f1_val: 0.5229\n",
      "\u001b[1m133/133\u001b[0m \u001b[32m━━━━━━━━━━━━━━━━━━━━\u001b[0m\u001b[37m\u001b[0m \u001b[1m7s\u001b[0m 50ms/step - accuracy: 0.5527 - loss: 1.4048 - val_accuracy: 0.5313 - val_loss: 1.6190\n",
      "Epoch 23/50\n",
      "\u001b[1m132/133\u001b[0m \u001b[32m━━━━━━━━━━━━━━━━━━━\u001b[0m\u001b[37m━\u001b[0m \u001b[1m0s\u001b[0m 34ms/step - accuracy: 0.5612 - loss: 1.4020 — f1_train: 0.6718 — f1_val: 0.5612\n",
      "\u001b[1m133/133\u001b[0m \u001b[32m━━━━━━━━━━━━━━━━━━━━\u001b[0m\u001b[37m\u001b[0m \u001b[1m6s\u001b[0m 43ms/step - accuracy: 0.5612 - loss: 1.4020 - val_accuracy: 0.5687 - val_loss: 1.4508\n",
      "Epoch 24/50\n",
      "\u001b[1m132/133\u001b[0m \u001b[32m━━━━━━━━━━━━━━━━━━━\u001b[0m\u001b[37m━\u001b[0m \u001b[1m0s\u001b[0m 42ms/step - accuracy: 0.5846 - loss: 1.3067 — f1_train: 0.6399 — f1_val: 0.5371\n",
      "\u001b[1m133/133\u001b[0m \u001b[32m━━━━━━━━━━━━━━━━━━━━\u001b[0m\u001b[37m\u001b[0m \u001b[1m7s\u001b[0m 50ms/step - accuracy: 0.5844 - loss: 1.3073 - val_accuracy: 0.5560 - val_loss: 1.5583\n",
      "Epoch 25/50\n",
      "\u001b[1m132/133\u001b[0m \u001b[32m━━━━━━━━━━━━━━━━━━━\u001b[0m\u001b[37m━\u001b[0m \u001b[1m0s\u001b[0m 34ms/step - accuracy: 0.5891 - loss: 1.3066 — f1_train: 0.6817 — f1_val: 0.5567\n",
      "\u001b[1m133/133\u001b[0m \u001b[32m━━━━━━━━━━━━━━━━━━━━\u001b[0m\u001b[37m\u001b[0m \u001b[1m6s\u001b[0m 43ms/step - accuracy: 0.5890 - loss: 1.3067 - val_accuracy: 0.5633 - val_loss: 1.5075\n",
      "Epoch 26/50\n",
      "\u001b[1m133/133\u001b[0m \u001b[32m━━━━━━━━━━━━━━━━━━━━\u001b[0m\u001b[37m\u001b[0m \u001b[1m0s\u001b[0m 42ms/step - accuracy: 0.5962 - loss: 1.2652 — f1_train: 0.6460 — f1_val: 0.5383\n",
      "\u001b[1m133/133\u001b[0m \u001b[32m━━━━━━━━━━━━━━━━━━━━\u001b[0m\u001b[37m\u001b[0m \u001b[1m7s\u001b[0m 51ms/step - accuracy: 0.5962 - loss: 1.2654 - val_accuracy: 0.5440 - val_loss: 1.5816\n",
      "Epoch 27/50\n",
      "\u001b[1m132/133\u001b[0m \u001b[32m━━━━━━━━━━━━━━━━━━━\u001b[0m\u001b[37m━\u001b[0m \u001b[1m0s\u001b[0m 34ms/step - accuracy: 0.5992 - loss: 1.2752 — f1_train: 0.6662 — f1_val: 0.5554\n",
      "\u001b[1m133/133\u001b[0m \u001b[32m━━━━━━━━━━━━━━━━━━━━\u001b[0m\u001b[37m\u001b[0m \u001b[1m6s\u001b[0m 43ms/step - accuracy: 0.5992 - loss: 1.2752 - val_accuracy: 0.5607 - val_loss: 1.5969\n",
      "Epoch 28/50\n",
      "\u001b[1m132/133\u001b[0m \u001b[32m━━━━━━━━━━━━━━━━━━━\u001b[0m\u001b[37m━\u001b[0m \u001b[1m0s\u001b[0m 41ms/step - accuracy: 0.6049 - loss: 1.2528 — f1_train: 0.7116 — f1_val: 0.5691\n",
      "\u001b[1m133/133\u001b[0m \u001b[32m━━━━━━━━━━━━━━━━━━━━\u001b[0m\u001b[37m\u001b[0m \u001b[1m7s\u001b[0m 50ms/step - accuracy: 0.6049 - loss: 1.2528 - val_accuracy: 0.5760 - val_loss: 1.4908\n",
      "Epoch 29/50\n",
      "\u001b[1m132/133\u001b[0m \u001b[32m━━━━━━━━━━━━━━━━━━━\u001b[0m\u001b[37m━\u001b[0m \u001b[1m0s\u001b[0m 35ms/step - accuracy: 0.6254 - loss: 1.1965 — f1_train: 0.7352 — f1_val: 0.5872\n",
      "\u001b[1m133/133\u001b[0m \u001b[32m━━━━━━━━━━━━━━━━━━━━\u001b[0m\u001b[37m\u001b[0m \u001b[1m6s\u001b[0m 44ms/step - accuracy: 0.6253 - loss: 1.1967 - val_accuracy: 0.5967 - val_loss: 1.4242\n",
      "Epoch 30/50\n",
      "\u001b[1m133/133\u001b[0m \u001b[32m━━━━━━━━━━━━━━━━━━━━\u001b[0m\u001b[37m\u001b[0m \u001b[1m0s\u001b[0m 41ms/step - accuracy: 0.6290 - loss: 1.1667 — f1_train: 0.7041 — f1_val: 0.5537\n",
      "\u001b[1m133/133\u001b[0m \u001b[32m━━━━━━━━━━━━━━━━━━━━\u001b[0m\u001b[37m\u001b[0m \u001b[1m7s\u001b[0m 51ms/step - accuracy: 0.6290 - loss: 1.1670 - val_accuracy: 0.5660 - val_loss: 1.5351\n",
      "Epoch 31/50\n",
      "\u001b[1m132/133\u001b[0m \u001b[32m━━━━━━━━━━━━━━━━━━━\u001b[0m\u001b[37m━\u001b[0m \u001b[1m0s\u001b[0m 34ms/step - accuracy: 0.6190 - loss: 1.1743 — f1_train: 0.7363 — f1_val: 0.5840\n",
      "\u001b[1m133/133\u001b[0m \u001b[32m━━━━━━━━━━━━━━━━━━━━\u001b[0m\u001b[37m\u001b[0m \u001b[1m6s\u001b[0m 43ms/step - accuracy: 0.6191 - loss: 1.1742 - val_accuracy: 0.5933 - val_loss: 1.4797\n",
      "Epoch 32/50\n",
      "\u001b[1m132/133\u001b[0m \u001b[32m━━━━━━━━━━━━━━━━━━━\u001b[0m\u001b[37m━\u001b[0m \u001b[1m0s\u001b[0m 41ms/step - accuracy: 0.6387 - loss: 1.1211 — f1_train: 0.7027 — f1_val: 0.5534\n",
      "\u001b[1m133/133\u001b[0m \u001b[32m━━━━━━━━━━━━━━━━━━━━\u001b[0m\u001b[37m\u001b[0m \u001b[1m7s\u001b[0m 51ms/step - accuracy: 0.6386 - loss: 1.1213 - val_accuracy: 0.5593 - val_loss: 1.6598\n",
      "Epoch 33/50\n",
      "\u001b[1m132/133\u001b[0m \u001b[32m━━━━━━━━━━━━━━━━━━━\u001b[0m\u001b[37m━\u001b[0m \u001b[1m0s\u001b[0m 34ms/step - accuracy: 0.6475 - loss: 1.1033 — f1_train: 0.7600 — f1_val: 0.5792\n",
      "\u001b[1m133/133\u001b[0m \u001b[32m━━━━━━━━━━━━━━━━━━━━\u001b[0m\u001b[37m\u001b[0m \u001b[1m6s\u001b[0m 43ms/step - accuracy: 0.6474 - loss: 1.1036 - val_accuracy: 0.5867 - val_loss: 1.4401\n",
      "Epoch 34/50\n",
      "\u001b[1m132/133\u001b[0m \u001b[32m━━━━━━━━━━━━━━━━━━━\u001b[0m\u001b[37m━\u001b[0m \u001b[1m0s\u001b[0m 42ms/step - accuracy: 0.6552 - loss: 1.0755 — f1_train: 0.7304 — f1_val: 0.5671\n",
      "\u001b[1m133/133\u001b[0m \u001b[32m━━━━━━━━━━━━━━━━━━━━\u001b[0m\u001b[37m\u001b[0m \u001b[1m7s\u001b[0m 51ms/step - accuracy: 0.6552 - loss: 1.0756 - val_accuracy: 0.5827 - val_loss: 1.5373\n",
      "Epoch 35/50\n",
      "\u001b[1m132/133\u001b[0m \u001b[32m━━━━━━━━━━━━━━━━━━━\u001b[0m\u001b[37m━\u001b[0m \u001b[1m0s\u001b[0m 34ms/step - accuracy: 0.6591 - loss: 1.0700 — f1_train: 0.7625 — f1_val: 0.5799\n",
      "\u001b[1m133/133\u001b[0m \u001b[32m━━━━━━━━━━━━━━━━━━━━\u001b[0m\u001b[37m\u001b[0m \u001b[1m6s\u001b[0m 43ms/step - accuracy: 0.6591 - loss: 1.0703 - val_accuracy: 0.5933 - val_loss: 1.4898\n",
      "Epoch 36/50\n",
      "\u001b[1m132/133\u001b[0m \u001b[32m━━━━━━━━━━━━━━━━━━━\u001b[0m\u001b[37m━\u001b[0m \u001b[1m0s\u001b[0m 41ms/step - accuracy: 0.6664 - loss: 1.0432 — f1_train: 0.7933 — f1_val: 0.5944\n",
      "\u001b[1m133/133\u001b[0m \u001b[32m━━━━━━━━━━━━━━━━━━━━\u001b[0m\u001b[37m\u001b[0m \u001b[1m7s\u001b[0m 50ms/step - accuracy: 0.6664 - loss: 1.0434 - val_accuracy: 0.5953 - val_loss: 1.4561\n",
      "Epoch 37/50\n",
      "\u001b[1m133/133\u001b[0m \u001b[32m━━━━━━━━━━━━━━━━━━━━\u001b[0m\u001b[37m\u001b[0m \u001b[1m0s\u001b[0m 34ms/step - accuracy: 0.6852 - loss: 0.9757 — f1_train: 0.7737 — f1_val: 0.5914\n",
      "\u001b[1m133/133\u001b[0m \u001b[32m━━━━━━━━━━━━━━━━━━━━\u001b[0m\u001b[37m\u001b[0m \u001b[1m6s\u001b[0m 43ms/step - accuracy: 0.6851 - loss: 0.9760 - val_accuracy: 0.5913 - val_loss: 1.4540\n",
      "Epoch 38/50\n",
      "\u001b[1m132/133\u001b[0m \u001b[32m━━━━━━━━━━━━━━━━━━━\u001b[0m\u001b[37m━\u001b[0m \u001b[1m0s\u001b[0m 42ms/step - accuracy: 0.6937 - loss: 0.9638 — f1_train: 0.7851 — f1_val: 0.5995\n",
      "\u001b[1m133/133\u001b[0m \u001b[32m━━━━━━━━━━━━━━━━━━━━\u001b[0m\u001b[37m\u001b[0m \u001b[1m7s\u001b[0m 51ms/step - accuracy: 0.6935 - loss: 0.9642 - val_accuracy: 0.6067 - val_loss: 1.4570\n",
      "Epoch 39/50\n",
      "\u001b[1m132/133\u001b[0m \u001b[32m━━━━━━━━━━━━━━━━━━━\u001b[0m\u001b[37m━\u001b[0m \u001b[1m0s\u001b[0m 34ms/step - accuracy: 0.6898 - loss: 0.9874 — f1_train: 0.8070 — f1_val: 0.5870\n",
      "\u001b[1m133/133\u001b[0m \u001b[32m━━━━━━━━━━━━━━━━━━━━\u001b[0m\u001b[37m\u001b[0m \u001b[1m6s\u001b[0m 44ms/step - accuracy: 0.6897 - loss: 0.9876 - val_accuracy: 0.5960 - val_loss: 1.4988\n",
      "Epoch 40/50\n",
      "\u001b[1m133/133\u001b[0m \u001b[32m━━━━━━━━━━━━━━━━━━━━\u001b[0m\u001b[37m\u001b[0m \u001b[1m0s\u001b[0m 42ms/step - accuracy: 0.6953 - loss: 0.9514 — f1_train: 0.8149 — f1_val: 0.6081\n",
      "\u001b[1m133/133\u001b[0m \u001b[32m━━━━━━━━━━━━━━━━━━━━\u001b[0m\u001b[37m\u001b[0m \u001b[1m7s\u001b[0m 51ms/step - accuracy: 0.6952 - loss: 0.9515 - val_accuracy: 0.6193 - val_loss: 1.4654\n",
      "Epoch 41/50\n",
      "\u001b[1m132/133\u001b[0m \u001b[32m━━━━━━━━━━━━━━━━━━━\u001b[0m\u001b[37m━\u001b[0m \u001b[1m0s\u001b[0m 35ms/step - accuracy: 0.7007 - loss: 0.9370 — f1_train: 0.8294 — f1_val: 0.6097\n",
      "\u001b[1m133/133\u001b[0m \u001b[32m━━━━━━━━━━━━━━━━━━━━\u001b[0m\u001b[37m\u001b[0m \u001b[1m6s\u001b[0m 45ms/step - accuracy: 0.7005 - loss: 0.9372 - val_accuracy: 0.6153 - val_loss: 1.3929\n",
      "Epoch 42/50\n",
      "\u001b[1m132/133\u001b[0m \u001b[32m━━━━━━━━━━━━━━━━━━━\u001b[0m\u001b[37m━\u001b[0m \u001b[1m0s\u001b[0m 40ms/step - accuracy: 0.6917 - loss: 0.9159 — f1_train: 0.7706 — f1_val: 0.5763\n",
      "\u001b[1m133/133\u001b[0m \u001b[32m━━━━━━━━━━━━━━━━━━━━\u001b[0m\u001b[37m\u001b[0m \u001b[1m7s\u001b[0m 50ms/step - accuracy: 0.6918 - loss: 0.9161 - val_accuracy: 0.5807 - val_loss: 1.6180\n",
      "Epoch 43/50\n",
      "\u001b[1m132/133\u001b[0m \u001b[32m━━━━━━━━━━━━━━━━━━━\u001b[0m\u001b[37m━\u001b[0m \u001b[1m0s\u001b[0m 35ms/step - accuracy: 0.7112 - loss: 0.8941 — f1_train: 0.8370 — f1_val: 0.5984\n",
      "\u001b[1m133/133\u001b[0m \u001b[32m━━━━━━━━━━━━━━━━━━━━\u001b[0m\u001b[37m\u001b[0m \u001b[1m7s\u001b[0m 50ms/step - accuracy: 0.7110 - loss: 0.8945 - val_accuracy: 0.6053 - val_loss: 1.4727\n",
      "Epoch 44/50\n",
      "\u001b[1m133/133\u001b[0m \u001b[32m━━━━━━━━━━━━━━━━━━━━\u001b[0m\u001b[37m\u001b[0m \u001b[1m0s\u001b[0m 35ms/step - accuracy: 0.7237 - loss: 0.8641 — f1_train: 0.8118 — f1_val: 0.5894\n",
      "\u001b[1m133/133\u001b[0m \u001b[32m━━━━━━━━━━━━━━━━━━━━\u001b[0m\u001b[37m\u001b[0m \u001b[1m6s\u001b[0m 45ms/step - accuracy: 0.7236 - loss: 0.8642 - val_accuracy: 0.5973 - val_loss: 1.5728\n",
      "Epoch 45/50\n",
      "\u001b[1m133/133\u001b[0m \u001b[32m━━━━━━━━━━━━━━━━━━━━\u001b[0m\u001b[37m\u001b[0m \u001b[1m0s\u001b[0m 34ms/step - accuracy: 0.7109 - loss: 0.8915 — f1_train: 0.8387 — f1_val: 0.5964\n",
      "\u001b[1m133/133\u001b[0m \u001b[32m━━━━━━━━━━━━━━━━━━━━\u001b[0m\u001b[37m\u001b[0m \u001b[1m7s\u001b[0m 49ms/step - accuracy: 0.7109 - loss: 0.8915 - val_accuracy: 0.6067 - val_loss: 1.5125\n",
      "Epoch 46/50\n",
      "\u001b[1m132/133\u001b[0m \u001b[32m━━━━━━━━━━━━━━━━━━━\u001b[0m\u001b[37m━\u001b[0m \u001b[1m0s\u001b[0m 34ms/step - accuracy: 0.7345 - loss: 0.8220 — f1_train: 0.8243 — f1_val: 0.5874\n",
      "\u001b[1m133/133\u001b[0m \u001b[32m━━━━━━━━━━━━━━━━━━━━\u001b[0m\u001b[37m\u001b[0m \u001b[1m6s\u001b[0m 43ms/step - accuracy: 0.7345 - loss: 0.8222 - val_accuracy: 0.5893 - val_loss: 1.6326\n",
      "Epoch 47/50\n",
      "\u001b[1m132/133\u001b[0m \u001b[32m━━━━━━━━━━━━━━━━━━━\u001b[0m\u001b[37m━\u001b[0m \u001b[1m0s\u001b[0m 37ms/step - accuracy: 0.7269 - loss: 0.8277 — f1_train: 0.8539 — f1_val: 0.6018\n",
      "\u001b[1m133/133\u001b[0m \u001b[32m━━━━━━━━━━━━━━━━━━━━\u001b[0m\u001b[37m\u001b[0m \u001b[1m6s\u001b[0m 49ms/step - accuracy: 0.7268 - loss: 0.8279 - val_accuracy: 0.6073 - val_loss: 1.4890\n",
      "Epoch 48/50\n",
      "\u001b[1m133/133\u001b[0m \u001b[32m━━━━━━━━━━━━━━━━━━━━\u001b[0m\u001b[37m\u001b[0m \u001b[1m0s\u001b[0m 34ms/step - accuracy: 0.7353 - loss: 0.8001 — f1_train: 0.8617 — f1_val: 0.5945\n",
      "\u001b[1m133/133\u001b[0m \u001b[32m━━━━━━━━━━━━━━━━━━━━\u001b[0m\u001b[37m\u001b[0m \u001b[1m9s\u001b[0m 43ms/step - accuracy: 0.7353 - loss: 0.8002 - val_accuracy: 0.5973 - val_loss: 1.5401\n",
      "Epoch 49/50\n",
      "\u001b[1m132/133\u001b[0m \u001b[32m━━━━━━━━━━━━━━━━━━━\u001b[0m\u001b[37m━\u001b[0m \u001b[1m0s\u001b[0m 42ms/step - accuracy: 0.7351 - loss: 0.8128 — f1_train: 0.8515 — f1_val: 0.5941\n",
      "\u001b[1m133/133\u001b[0m \u001b[32m━━━━━━━━━━━━━━━━━━━━\u001b[0m\u001b[37m\u001b[0m \u001b[1m7s\u001b[0m 51ms/step - accuracy: 0.7350 - loss: 0.8131 - val_accuracy: 0.6020 - val_loss: 1.5517\n",
      "Epoch 50/50\n",
      "\u001b[1m133/133\u001b[0m \u001b[32m━━━━━━━━━━━━━━━━━━━━\u001b[0m\u001b[37m\u001b[0m \u001b[1m0s\u001b[0m 34ms/step - accuracy: 0.7531 - loss: 0.7629 — f1_train: 0.8292 — f1_val: 0.5885\n",
      "\u001b[1m133/133\u001b[0m \u001b[32m━━━━━━━━━━━━━━━━━━━━\u001b[0m\u001b[37m\u001b[0m \u001b[1m6s\u001b[0m 43ms/step - accuracy: 0.7530 - loss: 0.7631 - val_accuracy: 0.5900 - val_loss: 1.6656\n"
     ]
    },
    {
     "data": {
      "text/plain": [
       "<keras.src.callbacks.history.History at 0x791744307110>"
      ]
     },
     "execution_count": 22,
     "metadata": {},
     "output_type": "execute_result"
    }
   ],
   "source": [
    "model = MYCNN(num_classes=20)\n",
    "f1_callback = F1ScoreCallback(x_train, y_train, x_val, y_val)\n",
    "\n",
    "\n",
    "# Συμπίεση του μοντέλου\n",
    "model.compile(\n",
    "    optimizer=tf.keras.optimizers.Adam(learning_rate=0.001),\n",
    "    loss=tf.keras.losses.SparseCategoricalCrossentropy(from_logits=True),\n",
    "    metrics=['accuracy']\n",
    ")\n",
    "\n",
    "#train\n",
    "model.fit(\n",
    "    train_generator, #instead of (x_train, y_train) we pass the generator\n",
    "    epochs=50,\n",
    "    validation_data=(x_val, y_val),\n",
    "    callbacks=[f1_callback]\n",
    ")"
   ]
  },
  {
   "cell_type": "code",
   "execution_count": null,
   "metadata": {
    "colab": {
     "base_uri": "https://localhost:8080/",
     "height": 564
    },
    "executionInfo": {
     "elapsed": 315,
     "status": "ok",
     "timestamp": 1745769519656,
     "user": {
      "displayName": "Νίκος Κατσαϊδώνης",
      "userId": "13489937806515013970"
     },
     "user_tz": -180
    },
    "id": "5UyZJ3Se4Rqn",
    "outputId": "8e36a576-f153-44eb-943e-11695ca22893"
   },
   "outputs": [
    {
     "data": {
      "image/png": "[encoded data removed]",
      "text/plain": [
       "<Figure size 1000x600 with 1 Axes>"
      ]
     },
     "metadata": {},
     "output_type": "display_data"
    }
   ],
   "source": [
    "#plot of f1 scores\n",
    "plt.figure(figsize=(10, 6))\n",
    "plt.plot(f1_callback.f1_train_scores, label='Train F1-score')\n",
    "plt.plot(f1_callback.f1_val_scores, label='Validation F1-score')\n",
    "plt.title('F1-score per epoch')\n",
    "plt.xlabel('Epoch')\n",
    "plt.ylabel('F1-score')\n",
    "plt.legend()\n",
    "plt.grid(True)\n",
    "plt.show()\n"
   ]
  },
  {
   "cell_type": "markdown",
   "metadata": {
    "id": "GkBKKX8pD79k"
   },
   "source": [
    "It is clear that overfitting has been reduced, as the training F1-score dropped to 0.82.  \n",
    "As a result, our model generalizes better, achieving an F1-score of 0.58 on the validation set — approximately 0.06 higher than the basic model without any regularization or augmentation techniques.\n"
   ]
  },
  {
   "cell_type": "markdown",
   "metadata": {
    "id": "cp7AH2XZEqYC"
   },
   "source": [
    "**Testing**"
   ]
  },
  {
   "cell_type": "code",
   "execution_count": null,
   "metadata": {
    "colab": {
     "base_uri": "https://localhost:8080/"
    },
    "executionInfo": {
     "elapsed": 1236,
     "status": "ok",
     "timestamp": 1745769520893,
     "user": {
      "displayName": "Νίκος Κατσαϊδώνης",
      "userId": "13489937806515013970"
     },
     "user_tz": -180
    },
    "id": "H4g9k-In4cQn",
    "outputId": "37a6d592-592f-4653-a4b9-64fe553bcde4"
   },
   "outputs": [
    {
     "name": "stdout",
     "output_type": "stream",
     "text": [
      "\u001b[1m63/63\u001b[0m \u001b[32m━━━━━━━━━━━━━━━━━━━━\u001b[0m\u001b[37m\u001b[0m \u001b[1m1s\u001b[0m 13ms/step\n",
      "F1 Score: 0.5847905276683059\n",
      "Accuracy: 0.587\n"
     ]
    }
   ],
   "source": [
    "from sklearn.metrics import f1_score, accuracy_score\n",
    "################ TESTING ###############\n",
    "\n",
    "#logits and predictions on test set\n",
    "y_pred_logits = model.predict(x_test)\n",
    "y_pred = np.argmax(y_pred_logits, axis=1)\n",
    "\n",
    "# F1 and accuracy\n",
    "y_test = y_test.flatten()\n",
    "f1_macro = f1_score(y_test, y_pred, average='macro')\n",
    "acc = accuracy_score(y_test, y_pred)\n",
    "\n",
    "print(\"F1 Score:\", f1_macro)\n",
    "print(\"Accuracy:\", acc)\n"
   ]
  },
  {
   "cell_type": "markdown",
   "metadata": {
    "id": "kSKGtmktEtpW"
   },
   "source": [
    "Indeed, we also observe an increase of approximately 0.06 in both F1-score and accuracy on the test set.\n"
   ]
  },
  {
   "cell_type": "markdown",
   "metadata": {
    "id": "jTxKRNEHWfGs"
   },
   "source": [
    "## Question 3\n",
    "---\n",
    "\n",
    "### Step 1: Transfer Learning\n",
    "\n",
    "Apply **transfer learning** to your custom model (**MyCNN**), which you previously evaluated as the most effective in addressing overfitting based on the F1-score.\n",
    "\n",
    "For transfer learning, use the following pre-trained models:\n",
    "\n",
    "- [VGG19](https://www.tensorflow.org/api_docs/python/tf/keras/applications/vgg19)  \n",
    "- [EfficientNetB0](https://www.tensorflow.org/api_docs/python/tf/keras/applications/efficientnet/EfficientNetB0)\n",
    "\n",
    "a. **Freeze** the convolutional base and train only the classification head (`trainable = False`).  \n",
    "\n",
    "b. Train only a portion of the layers near the output of the network. In this case, the `trainable` flag must be set individually for each layer.\n",
    "\n",
    "---\n",
    "\n",
    "### Step 2: Evaluation\n",
    "\n",
    "Evaluate your results based on the **F1-score** for both the **validation set** and the **test set**.\n",
    "\n",
    "---\n"
   ]
  },
  {
   "cell_type": "markdown",
   "metadata": {
    "id": "b_5rHuw395RC"
   },
   "source": [
    "# Transfer Learning and Fine Tuning with VGG19"
   ]
  },
  {
   "cell_type": "markdown",
   "metadata": {
    "id": "c4lDXgmzANNA"
   },
   "source": [
    "a) First, we apply transfer learning using the **VGG19** model.  \n",
    "Essentially, we freeze the weights of the model's convolutional base so that they are not retrained, and we only train the custom classification head that we add on top.\n"
   ]
  },
  {
   "cell_type": "code",
   "execution_count": null,
   "metadata": {
    "id": "YTHDDc32JP8Y"
   },
   "outputs": [],
   "source": [
    "x_train = (x_train*255).astype('uint8')\n",
    "x_val = (x_val*255).astype('uint8')\n",
    "x_test = (x_test*255).astype('uint8')\n",
    "\n",
    "x_train_res = tf.image.resize(x_train, (224,224)).numpy()\n",
    "x_val_res = tf.image.resize(x_val, (224,224)).numpy()\n",
    "x_test_res = tf.image.resize(x_test, (224,224)).numpy()"
   ]
  },
  {
   "cell_type": "code",
   "execution_count": null,
   "metadata": {
    "colab": {
     "base_uri": "https://localhost:8080/"
    },
    "executionInfo": {
     "elapsed": 4148,
     "status": "ok",
     "timestamp": 1746449741875,
     "user": {
      "displayName": "κυριακος «kyriakos» κατσιαδραμης",
      "userId": "14339214325585293356"
     },
     "user_tz": -180
    },
    "id": "6mq6s73iKaib",
    "outputId": "2e9a5501-bdae-4398-a466-8079983b59c9"
   },
   "outputs": [
    {
     "name": "stdout",
     "output_type": "stream",
     "text": [
      "Downloading data from https://storage.googleapis.com/tensorflow/keras-applications/vgg19/vgg19_weights_tf_dim_ordering_tf_kernels_notop.h5\n",
      "\u001b[1m80134624/80134624\u001b[0m \u001b[32m━━━━━━━━━━━━━━━━━━━━\u001b[0m\u001b[37m\u001b[0m \u001b[1m0s\u001b[0m 0us/step\n"
     ]
    },
    {
     "name": "stderr",
     "output_type": "stream",
     "text": [
      "/usr/local/lib/python3.11/dist-packages/keras/src/layers/core/input_layer.py:27: UserWarning: Argument `input_shape` is deprecated. Use `shape` instead.\n",
      "  warnings.warn(\n"
     ]
    }
   ],
   "source": [
    "import tensorflow as tf\n",
    "from tensorflow.keras import layers, models\n",
    "from tensorflow.keras.applications import VGG19\n",
    "from tensorflow.keras.applications.vgg19 import preprocess_input\n",
    "\n",
    "\n",
    "\"\"\"\n",
    "Each model, has each own preprocess_input which\n",
    "transfer the input to the corresponding input in which\n",
    "it has been trained.\n",
    "\"\"\"\n",
    "\n",
    "x_train_res = preprocess_input(x_train_res)\n",
    "x_val_res = preprocess_input(x_val_res)\n",
    "x_test_res = preprocess_input(x_test_res)\n",
    "\n",
    "\n",
    "#Load the pretrained model VGG19\n",
    "base_model = VGG19(weights='imagenet', include_top=False,input_shape=(224,224,3))\n",
    "#We set trainable false so that we dont train the conv layers again\n",
    "base_model.trainable = False\n",
    "\n",
    "#We add our classification head\n",
    "model = models.Sequential([\n",
    "    layers.InputLayer(input_shape=(224, 224, 3)),\n",
    "    base_model,  # VGG19\n",
    "    layers.Flatten(),  # flattening and Pooling\n",
    "    layers.Dense(1024, activation='relu'), #FC layer\n",
    "    layers.Dropout(0.5),  # Dropout\n",
    "    layers.Dense(20)  # 20 classes\n",
    "])\n",
    "\n"
   ]
  },
  {
   "cell_type": "code",
   "execution_count": null,
   "metadata": {
    "colab": {
     "base_uri": "https://localhost:8080/"
    },
    "executionInfo": {
     "elapsed": 402814,
     "status": "ok",
     "timestamp": 1746450144691,
     "user": {
      "displayName": "κυριακος «kyriakos» κατσιαδραμης",
      "userId": "14339214325585293356"
     },
     "user_tz": -180
    },
    "id": "CzlsfSlWLbAB",
    "outputId": "a1d8e400-7ca3-48e1-fcd9-396bb1fc03eb"
   },
   "outputs": [
    {
     "name": "stdout",
     "output_type": "stream",
     "text": [
      "Epoch 1/5\n",
      "\u001b[1m133/133\u001b[0m \u001b[32m━━━━━━━━━━━━━━━━━━━━\u001b[0m\u001b[37m\u001b[0m \u001b[1m0s\u001b[0m 294ms/step - accuracy: 0.5170 - loss: 13.7802 — f1_train: 0.8750 — f1_val: 0.7601\n",
      "\u001b[1m133/133\u001b[0m \u001b[32m━━━━━━━━━━━━━━━━━━━━\u001b[0m\u001b[37m\u001b[0m \u001b[1m135s\u001b[0m 859ms/step - accuracy: 0.5178 - loss: 13.7194 - val_accuracy: 0.7660 - val_loss: 0.8482\n",
      "Epoch 2/5\n",
      "\u001b[1m133/133\u001b[0m \u001b[32m━━━━━━━━━━━━━━━━━━━━\u001b[0m\u001b[37m\u001b[0m \u001b[1m0s\u001b[0m 180ms/step - accuracy: 0.7789 - loss: 0.8602 — f1_train: 0.9346 — f1_val: 0.7848\n",
      "\u001b[1m133/133\u001b[0m \u001b[32m━━━━━━━━━━━━━━━━━━━━\u001b[0m\u001b[37m\u001b[0m \u001b[1m65s\u001b[0m 491ms/step - accuracy: 0.7790 - loss: 0.8600 - val_accuracy: 0.7907 - val_loss: 0.8468\n",
      "Epoch 3/5\n",
      "\u001b[1m133/133\u001b[0m \u001b[32m━━━━━━━━━━━━━━━━━━━━\u001b[0m\u001b[37m\u001b[0m \u001b[1m0s\u001b[0m 183ms/step - accuracy: 0.8370 - loss: 0.6163 — f1_train: 0.9649 — f1_val: 0.8194\n",
      "\u001b[1m133/133\u001b[0m \u001b[32m━━━━━━━━━━━━━━━━━━━━\u001b[0m\u001b[37m\u001b[0m \u001b[1m66s\u001b[0m 495ms/step - accuracy: 0.8370 - loss: 0.6164 - val_accuracy: 0.8207 - val_loss: 0.7676\n",
      "Epoch 4/5\n",
      "\u001b[1m133/133\u001b[0m \u001b[32m━━━━━━━━━━━━━━━━━━━━\u001b[0m\u001b[37m\u001b[0m \u001b[1m0s\u001b[0m 181ms/step - accuracy: 0.8696 - loss: 0.4952 — f1_train: 0.9642 — f1_val: 0.7902\n",
      "\u001b[1m133/133\u001b[0m \u001b[32m━━━━━━━━━━━━━━━━━━━━\u001b[0m\u001b[37m\u001b[0m \u001b[1m65s\u001b[0m 493ms/step - accuracy: 0.8695 - loss: 0.4953 - val_accuracy: 0.7953 - val_loss: 0.9437\n",
      "Epoch 5/5\n",
      "\u001b[1m133/133\u001b[0m \u001b[32m━━━━━━━━━━━━━━━━━━━━\u001b[0m\u001b[37m\u001b[0m \u001b[1m0s\u001b[0m 181ms/step - accuracy: 0.8739 - loss: 0.5133 — f1_train: 0.9744 — f1_val: 0.8069\n",
      "\u001b[1m133/133\u001b[0m \u001b[32m━━━━━━━━━━━━━━━━━━━━\u001b[0m\u001b[37m\u001b[0m \u001b[1m65s\u001b[0m 492ms/step - accuracy: 0.8739 - loss: 0.5134 - val_accuracy: 0.8053 - val_loss: 0.9601\n"
     ]
    }
   ],
   "source": [
    "######################### Training #######################\n",
    "f1_callback = F1ScoreCallback(x_train_res, y_train, x_val_res, y_val)\n",
    "\n",
    "\n",
    "\n",
    "model.compile(\n",
    "    optimizer=tf.keras.optimizers.Adam(learning_rate=0.001),\n",
    "    loss=tf.keras.losses.SparseCategoricalCrossentropy(from_logits=True),\n",
    "    metrics=['accuracy']\n",
    ")\n",
    "\n",
    "# Train (only the classification head is being trained)\n",
    "history = model.fit(\n",
    "    x_train_res, y_train,\n",
    "    epochs=5,\n",
    "    batch_size=64,\n",
    "    validation_data=(x_val_res, y_val),\n",
    "    callbacks=[f1_callback]\n",
    ")\n"
   ]
  },
  {
   "cell_type": "markdown",
   "metadata": {
    "id": "ZjHP8QQbFDbg"
   },
   "source": [
    "Evaluation of the model on the validation set and the test set.\n"
   ]
  },
  {
   "cell_type": "code",
   "execution_count": null,
   "metadata": {
    "colab": {
     "base_uri": "https://localhost:8080/"
    },
    "executionInfo": {
     "elapsed": 18590,
     "status": "ok",
     "timestamp": 1746450206097,
     "user": {
      "displayName": "κυριακος «kyriakos» κατσιαδραμης",
      "userId": "14339214325585293356"
     },
     "user_tz": -180
    },
    "id": "QdC-jBWsS78l",
    "outputId": "e173249c-07a9-4e03-e44a-a20bfe2cb671"
   },
   "outputs": [
    {
     "name": "stdout",
     "output_type": "stream",
     "text": [
      "\u001b[1m63/63\u001b[0m \u001b[32m━━━━━━━━━━━━━━━━━━━━\u001b[0m\u001b[37m\u001b[0m \u001b[1m11s\u001b[0m 181ms/step\n",
      "Test set:\n",
      "F1 Score: 0.8050750339580934\n",
      "Accuracy: 0.802\n",
      "\u001b[1m47/47\u001b[0m \u001b[32m━━━━━━━━━━━━━━━━━━━━\u001b[0m\u001b[37m\u001b[0m \u001b[1m4s\u001b[0m 93ms/step\n",
      "\n",
      "Validation set:\n",
      "F1 Score: 0.8069470710732599\n",
      "Accuracy: 0.8053333333333333\n"
     ]
    }
   ],
   "source": [
    "from sklearn.metrics import f1_score, accuracy_score\n",
    "################ TESTING ###############\n",
    "\n",
    "#logits and predictions on test set\n",
    "y_pred_logits = model.predict(x_test_res)\n",
    "y_pred = np.argmax(y_pred_logits, axis=1)\n",
    "\n",
    "# F1 and accuracy\n",
    "y_test = y_test.flatten()\n",
    "f1_macro = f1_score(y_test, y_pred, average='macro')\n",
    "acc = accuracy_score(y_test, y_pred)\n",
    "\n",
    "print(\"Test set:\")\n",
    "print(\"F1 Score:\", f1_macro)\n",
    "print(\"Accuracy:\", acc)\n",
    "\n",
    "\n",
    "\n",
    "#logits and predictions on val set\n",
    "y_pred_logits = model.predict(x_val_res)\n",
    "y_pred = np.argmax(y_pred_logits, axis=1)\n",
    "\n",
    "# F1 and accuracy\n",
    "y_val = y_val.flatten()\n",
    "f1_macro = f1_score(y_val, y_pred, average='macro')\n",
    "acc = accuracy_score(y_val, y_pred)\n",
    "\n",
    "print(\"\\nValidation set:\")\n",
    "print(\"F1 Score:\", f1_macro)\n",
    "print(\"Accuracy:\", acc)\n",
    "\n"
   ]
  },
  {
   "cell_type": "markdown",
   "metadata": {
    "id": "Z2HuJG_hnCT6"
   },
   "source": [
    "We observe that by applying transfer learning and training only the classification head, we achieve significantly high performance.  \n",
    "This is expected, as the model has been pre-trained on much larger datasets.\n"
   ]
  },
  {
   "cell_type": "markdown",
   "metadata": {
    "id": "9NP-COyoAxsi"
   },
   "source": [
    "b) Here, we perform fine-tuning by also training a portion of the final layers of the network.  \n",
    "We further reduce the learning rate to avoid significantly altering the pre-trained weights of the base model.\n"
   ]
  },
  {
   "cell_type": "code",
   "execution_count": null,
   "metadata": {
    "colab": {
     "base_uri": "https://localhost:8080/"
    },
    "executionInfo": {
     "elapsed": 25,
     "status": "ok",
     "timestamp": 1746450234565,
     "user": {
      "displayName": "κυριακος «kyriakos» κατσιαδραμης",
      "userId": "14339214325585293356"
     },
     "user_tz": -180
    },
    "id": "O-OQyScPRtvi",
    "outputId": "d26dc209-0d99-48e2-c12a-ace93f7673c2"
   },
   "outputs": [
    {
     "name": "stderr",
     "output_type": "stream",
     "text": [
      "/usr/local/lib/python3.11/dist-packages/keras/src/layers/core/input_layer.py:27: UserWarning: Argument `input_shape` is deprecated. Use `shape` instead.\n",
      "  warnings.warn(\n"
     ]
    }
   ],
   "source": [
    "#Unlock the layers we locked before\n",
    "base_model.trainable = True\n",
    "\n",
    "#we will lock the first 5 layers\n",
    "fine_tune_at = 5\n",
    "for layer in base_model.layers[:fine_tune_at]:\n",
    "    layer.trainable = False  #lock the first 15 layers\n",
    "\n",
    "\n",
    "#We add our classification head\n",
    "#The input shape MUST be specified\n",
    "model = models.Sequential([\n",
    "    layers.InputLayer(input_shape=(224, 224, 3)),\n",
    "    base_model,  # VGG19\n",
    "    layers.Flatten(),  # Pooling\n",
    "    layers.Dense(1024, activation='relu'), #FC layer\n",
    "    layers.Dropout(0.5),  # Dropout\n",
    "    layers.Dense(20)  # 20 classes\n",
    "])"
   ]
  },
  {
   "cell_type": "code",
   "execution_count": null,
   "metadata": {
    "colab": {
     "base_uri": "https://localhost:8080/"
    },
    "executionInfo": {
     "elapsed": 543108,
     "status": "ok",
     "timestamp": 1746450780694,
     "user": {
      "displayName": "κυριακος «kyriakos» κατσιαδραμης",
      "userId": "14339214325585293356"
     },
     "user_tz": -180
    },
    "id": "6rbzYANGSEJn",
    "outputId": "7f74d3fa-3f2e-4b8e-c0fc-30a695c5376d"
   },
   "outputs": [
    {
     "name": "stdout",
     "output_type": "stream",
     "text": [
      "Epoch 1/5\n",
      "\u001b[1m133/133\u001b[0m \u001b[32m━━━━━━━━━━━━━━━━━━━━\u001b[0m\u001b[37m\u001b[0m \u001b[1m0s\u001b[0m 585ms/step - accuracy: 0.0597 - loss: 3.7384 — f1_train: 0.0295 — f1_val: 0.0294\n",
      "\u001b[1m133/133\u001b[0m \u001b[32m━━━━━━━━━━━━━━━━━━━━\u001b[0m\u001b[37m\u001b[0m \u001b[1m154s\u001b[0m 924ms/step - accuracy: 0.0597 - loss: 3.7339 - val_accuracy: 0.0773 - val_loss: 2.9652\n",
      "Epoch 2/5\n",
      "\u001b[1m133/133\u001b[0m \u001b[32m━━━━━━━━━━━━━━━━━━━━\u001b[0m\u001b[37m\u001b[0m \u001b[1m0s\u001b[0m 413ms/step - accuracy: 0.1023 - loss: 2.8670 — f1_train: 0.2074 — f1_val: 0.2060\n",
      "\u001b[1m133/133\u001b[0m \u001b[32m━━━━━━━━━━━━━━━━━━━━\u001b[0m\u001b[37m\u001b[0m \u001b[1m95s\u001b[0m 718ms/step - accuracy: 0.1026 - loss: 2.8663 - val_accuracy: 0.2487 - val_loss: 2.5054\n",
      "Epoch 3/5\n",
      "\u001b[1m133/133\u001b[0m \u001b[32m━━━━━━━━━━━━━━━━━━━━\u001b[0m\u001b[37m\u001b[0m \u001b[1m0s\u001b[0m 415ms/step - accuracy: 0.2397 - loss: 2.4647 — f1_train: 0.3072 — f1_val: 0.2890\n",
      "\u001b[1m133/133\u001b[0m \u001b[32m━━━━━━━━━━━━━━━━━━━━\u001b[0m\u001b[37m\u001b[0m \u001b[1m96s\u001b[0m 722ms/step - accuracy: 0.2398 - loss: 2.4641 - val_accuracy: 0.3240 - val_loss: 2.2185\n",
      "Epoch 4/5\n",
      "\u001b[1m133/133\u001b[0m \u001b[32m━━━━━━━━━━━━━━━━━━━━\u001b[0m\u001b[37m\u001b[0m \u001b[1m0s\u001b[0m 415ms/step - accuracy: 0.3636 - loss: 2.0483 — f1_train: 0.5011 — f1_val: 0.4695\n",
      "\u001b[1m133/133\u001b[0m \u001b[32m━━━━━━━━━━━━━━━━━━━━\u001b[0m\u001b[37m\u001b[0m \u001b[1m96s\u001b[0m 721ms/step - accuracy: 0.3638 - loss: 2.0477 - val_accuracy: 0.4873 - val_loss: 1.7027\n",
      "Epoch 5/5\n",
      "\u001b[1m133/133\u001b[0m \u001b[32m━━━━━━━━━━━━━━━━━━━━\u001b[0m\u001b[37m\u001b[0m \u001b[1m0s\u001b[0m 415ms/step - accuracy: 0.4896 - loss: 1.6341 — f1_train: 0.6271 — f1_val: 0.5795\n",
      "\u001b[1m133/133\u001b[0m \u001b[32m━━━━━━━━━━━━━━━━━━━━\u001b[0m\u001b[37m\u001b[0m \u001b[1m96s\u001b[0m 720ms/step - accuracy: 0.4897 - loss: 1.6339 - val_accuracy: 0.5933 - val_loss: 1.3685\n"
     ]
    }
   ],
   "source": [
    "######################### Training #######################\n",
    "\n",
    "f1_callback = F1ScoreCallback(x_train_res, y_train, x_val_res, y_val)\n",
    "\n",
    "model.compile(\n",
    "    optimizer=tf.keras.optimizers.Adam(learning_rate=0.0001),  #smaller learning rate\n",
    "    loss=tf.keras.losses.SparseCategoricalCrossentropy(from_logits=True),\n",
    "    metrics=['accuracy']\n",
    ")\n",
    "\n",
    "# train\n",
    "history_finetune = model.fit(\n",
    "    x_train_res, y_train,\n",
    "    epochs=5,\n",
    "    batch_size=64,\n",
    "    validation_data=(x_val_res, y_val),\n",
    "    callbacks=[f1_callback]\n",
    ")\n"
   ]
  },
  {
   "cell_type": "markdown",
   "metadata": {
    "id": "eYQOxoXxKw7w"
   },
   "source": [
    "Model evaluation"
   ]
  },
  {
   "cell_type": "code",
   "execution_count": null,
   "metadata": {
    "colab": {
     "base_uri": "https://localhost:8080/"
    },
    "executionInfo": {
     "elapsed": 13160,
     "status": "ok",
     "timestamp": 1746450793855,
     "user": {
      "displayName": "κυριακος «kyriakos» κατσιαδραμης",
      "userId": "14339214325585293356"
     },
     "user_tz": -180
    },
    "id": "iLSYma17SXGj",
    "outputId": "d18c1694-7b3c-4e47-da72-69a57df456c0"
   },
   "outputs": [
    {
     "name": "stdout",
     "output_type": "stream",
     "text": [
      "\u001b[1m63/63\u001b[0m \u001b[32m━━━━━━━━━━━━━━━━━━━━\u001b[0m\u001b[37m\u001b[0m \u001b[1m6s\u001b[0m 96ms/step\n",
      "Test set:\n",
      "F1 Score: 0.5607890000763255\n",
      "Accuracy: 0.5685\n",
      "\u001b[1m47/47\u001b[0m \u001b[32m━━━━━━━━━━━━━━━━━━━━\u001b[0m\u001b[37m\u001b[0m \u001b[1m4s\u001b[0m 91ms/step\n",
      "\n",
      "Validation set:\n",
      "F1 Score: 0.5795175368953391\n",
      "Accuracy: 0.5933333333333334\n"
     ]
    }
   ],
   "source": [
    "from sklearn.metrics import f1_score, accuracy_score\n",
    "################ TESTING ###############\n",
    "\n",
    "#logits and predictions on test set\n",
    "y_pred_logits = model.predict(x_test_res)\n",
    "y_pred = np.argmax(y_pred_logits, axis=1)\n",
    "\n",
    "# F1 and accuracy\n",
    "y_test = y_test.flatten()\n",
    "f1_macro = f1_score(y_test, y_pred, average='macro')\n",
    "acc = accuracy_score(y_test, y_pred)\n",
    "\n",
    "print(\"Test set:\")\n",
    "print(\"F1 Score:\", f1_macro)\n",
    "print(\"Accuracy:\", acc)\n",
    "\n",
    "\n",
    "\n",
    "#logits and predictions on val set\n",
    "y_pred_logits = model.predict(x_val_res)\n",
    "y_pred = np.argmax(y_pred_logits, axis=1)\n",
    "\n",
    "# F1 and accuracy\n",
    "y_val = y_val.flatten()\n",
    "f1_macro = f1_score(y_val, y_pred, average='macro')\n",
    "acc = accuracy_score(y_val, y_pred)\n",
    "\n",
    "print(\"\\nValidation set:\")\n",
    "print(\"F1 Score:\", f1_macro)\n",
    "print(\"Accuracy:\", acc)\n",
    "\n"
   ]
  },
  {
   "cell_type": "markdown",
   "metadata": {
    "id": "PQ6lrErEnipF"
   },
   "source": [
    "We observe that the results are worse than plain transfer learning, which is expected since we are also training the last layers of the network, potentially \"damaging\" its general knowledge in an attempt to specialize it on our dataset.  \n",
    "However, with more training epochs, we estimate that the model could reach the performance of the initial transfer learning approach, as its performance continues to improve with each epoch.  \n",
    "It is likely that we should have fine-tuned fewer layers.\n",
    "\n",
    "We also observe longer training times, as we are now updating convolutional layer parameters in addition to the classification head.\n"
   ]
  },
  {
   "cell_type": "markdown",
   "metadata": {
    "id": "xIgo6ekaESvd"
   },
   "source": [
    "# Transfer Learning και Fine Tuning with EfficientNetB0"
   ]
  },
  {
   "cell_type": "markdown",
   "metadata": {
    "id": "QBU_7KjRErYM"
   },
   "source": [
    "Same exact process, just using a different model.\n",
    "\n",
    "a) Transfer Learning\n"
   ]
  },
  {
   "cell_type": "code",
   "execution_count": null,
   "metadata": {
    "colab": {
     "base_uri": "https://localhost:8080/"
    },
    "executionInfo": {
     "elapsed": 350,
     "status": "ok",
     "timestamp": 1746450811049,
     "user": {
      "displayName": "κυριακος «kyriakos» κατσιαδραμης",
      "userId": "14339214325585293356"
     },
     "user_tz": -180
    },
    "id": "hdpAkdLWUiPY",
    "outputId": "a062d82c-7d6c-4712-92c2-c60b8ed38a52"
   },
   "outputs": [
    {
     "name": "stderr",
     "output_type": "stream",
     "text": [
      "/usr/local/lib/python3.11/dist-packages/keras/src/layers/core/input_layer.py:27: UserWarning: Argument `input_shape` is deprecated. Use `shape` instead.\n",
      "  warnings.warn(\n"
     ]
    }
   ],
   "source": [
    "import tensorflow as tf\n",
    "from tensorflow.keras import layers, models\n",
    "from tensorflow.keras.applications import EfficientNetB0\n",
    "from tensorflow.keras.applications.efficientnet import preprocess_input\n",
    "\n",
    "\n",
    "\n",
    "\"\"\"\n",
    "Each model, has each own preprocess_input which\n",
    "transfer the input to the corresponding input in which\n",
    "it has been trained.\n",
    "\"\"\"\n",
    "\n",
    "x_train_res = preprocess_input(x_train_res)\n",
    "x_val_res = preprocess_input(x_val_res)\n",
    "x_test_res = preprocess_input(x_test_res)\n",
    "\n",
    "\n",
    "#Load the pretrained model EfficientNetB0\n",
    "base_model = EfficientNetB0(weights='imagenet', include_top=False,input_shape=(224,224,3))\n",
    "#We set trainable false so that we dont train the conv layers again\n",
    "base_model.trainable = False\n",
    "\n",
    "#We add our classification head\n",
    "model = models.Sequential([\n",
    "    layers.InputLayer(input_shape=(224, 224, 3)),\n",
    "    base_model,  # VGG19\n",
    "    layers.Flatten(),  # flattening and Pooling\n",
    "    layers.Dense(1024, activation='relu'), #FC layer\n",
    "    layers.Dropout(0.5),  # Dropout\n",
    "    layers.Dense(20)  # 20 classes\n",
    "])\n",
    "\n"
   ]
  },
  {
   "cell_type": "code",
   "execution_count": null,
   "metadata": {
    "colab": {
     "base_uri": "https://localhost:8080/"
    },
    "executionInfo": {
     "elapsed": 340876,
     "status": "ok",
     "timestamp": 1746451156886,
     "user": {
      "displayName": "κυριακος «kyriakos» κατσιαδραμης",
      "userId": "14339214325585293356"
     },
     "user_tz": -180
    },
    "id": "h4zBaoOJU05Y",
    "outputId": "3b2f2ecb-c9e4-4c79-9395-b9db56b1b554"
   },
   "outputs": [
    {
     "name": "stdout",
     "output_type": "stream",
     "text": [
      "Epoch 1/5\n",
      "\u001b[1m133/133\u001b[0m \u001b[32m━━━━━━━━━━━━━━━━━━━━\u001b[0m\u001b[37m\u001b[0m \u001b[1m0s\u001b[0m 192ms/step - accuracy: 0.5382 - loss: 12.7597 — f1_train: 0.8678 — f1_val: 0.7602\n",
      "\u001b[1m133/133\u001b[0m \u001b[32m━━━━━━━━━━━━━━━━━━━━\u001b[0m\u001b[37m\u001b[0m \u001b[1m73s\u001b[0m 535ms/step - accuracy: 0.5387 - loss: 12.7038 - val_accuracy: 0.7620 - val_loss: 0.9627\n",
      "Epoch 2/5\n",
      "\u001b[1m133/133\u001b[0m \u001b[32m━━━━━━━━━━━━━━━━━━━━\u001b[0m\u001b[37m\u001b[0m \u001b[1m0s\u001b[0m 180ms/step - accuracy: 0.7775 - loss: 0.9052 — f1_train: 0.9317 — f1_val: 0.7840\n",
      "\u001b[1m133/133\u001b[0m \u001b[32m━━━━━━━━━━━━━━━━━━━━\u001b[0m\u001b[37m\u001b[0m \u001b[1m65s\u001b[0m 489ms/step - accuracy: 0.7775 - loss: 0.9050 - val_accuracy: 0.7840 - val_loss: 0.9524\n",
      "Epoch 3/5\n",
      "\u001b[1m133/133\u001b[0m \u001b[32m━━━━━━━━━━━━━━━━━━━━\u001b[0m\u001b[37m\u001b[0m \u001b[1m0s\u001b[0m 185ms/step - accuracy: 0.8233 - loss: 0.6754 — f1_train: 0.9544 — f1_val: 0.8115\n",
      "\u001b[1m133/133\u001b[0m \u001b[32m━━━━━━━━━━━━━━━━━━━━\u001b[0m\u001b[37m\u001b[0m \u001b[1m66s\u001b[0m 496ms/step - accuracy: 0.8233 - loss: 0.6756 - val_accuracy: 0.8113 - val_loss: 0.9723\n",
      "Epoch 4/5\n",
      "\u001b[1m133/133\u001b[0m \u001b[32m━━━━━━━━━━━━━━━━━━━━\u001b[0m\u001b[37m\u001b[0m \u001b[1m0s\u001b[0m 180ms/step - accuracy: 0.8523 - loss: 0.6175 — f1_train: 0.9659 — f1_val: 0.8000\n",
      "\u001b[1m133/133\u001b[0m \u001b[32m━━━━━━━━━━━━━━━━━━━━\u001b[0m\u001b[37m\u001b[0m \u001b[1m65s\u001b[0m 492ms/step - accuracy: 0.8523 - loss: 0.6176 - val_accuracy: 0.7987 - val_loss: 0.9542\n",
      "Epoch 5/5\n",
      "\u001b[1m133/133\u001b[0m \u001b[32m━━━━━━━━━━━━━━━━━━━━\u001b[0m\u001b[37m\u001b[0m \u001b[1m0s\u001b[0m 181ms/step - accuracy: 0.8845 - loss: 0.5463 — f1_train: 0.9695 — f1_val: 0.8132\n",
      "\u001b[1m133/133\u001b[0m \u001b[32m━━━━━━━━━━━━━━━━━━━━\u001b[0m\u001b[37m\u001b[0m \u001b[1m65s\u001b[0m 493ms/step - accuracy: 0.8844 - loss: 0.5469 - val_accuracy: 0.8173 - val_loss: 0.9314\n"
     ]
    }
   ],
   "source": [
    "######################### Training #######################\n",
    "f1_callback = F1ScoreCallback(x_train_res, y_train, x_val_res, y_val)\n",
    "\n",
    "\n",
    "\n",
    "model.compile(\n",
    "    optimizer=tf.keras.optimizers.Adam(learning_rate=0.001),\n",
    "    loss=tf.keras.losses.SparseCategoricalCrossentropy(from_logits=True),\n",
    "    metrics=['accuracy']\n",
    ")\n",
    "\n",
    "# Train (only the classification head is being trained)\n",
    "history = model.fit(\n",
    "    x_train_res, y_train,\n",
    "    epochs=5,\n",
    "    batch_size=64,\n",
    "    validation_data=(x_val_res, y_val),\n",
    "    callbacks=[f1_callback]\n",
    ")\n"
   ]
  },
  {
   "cell_type": "markdown",
   "metadata": {
    "id": "9LTT2cLbK348"
   },
   "source": [
    "Model evaluation"
   ]
  },
  {
   "cell_type": "code",
   "execution_count": null,
   "metadata": {
    "colab": {
     "base_uri": "https://localhost:8080/"
    },
    "executionInfo": {
     "elapsed": 13320,
     "status": "ok",
     "timestamp": 1746451170208,
     "user": {
      "displayName": "κυριακος «kyriakos» κατσιαδραμης",
      "userId": "14339214325585293356"
     },
     "user_tz": -180
    },
    "id": "FPmh5OZ-VBvd",
    "outputId": "411abeb4-f561-4e7b-8a9e-5475ee421176"
   },
   "outputs": [
    {
     "name": "stdout",
     "output_type": "stream",
     "text": [
      "\u001b[1m63/63\u001b[0m \u001b[32m━━━━━━━━━━━━━━━━━━━━\u001b[0m\u001b[37m\u001b[0m \u001b[1m6s\u001b[0m 97ms/step\n",
      "Test set:\n",
      "F1 Score: 0.8011543013327003\n",
      "Accuracy: 0.803\n",
      "\u001b[1m47/47\u001b[0m \u001b[32m━━━━━━━━━━━━━━━━━━━━\u001b[0m\u001b[37m\u001b[0m \u001b[1m4s\u001b[0m 92ms/step\n",
      "\n",
      "Validation set:\n",
      "F1 Score: 0.8132479598580824\n",
      "Accuracy: 0.8173333333333334\n"
     ]
    }
   ],
   "source": [
    "from sklearn.metrics import f1_score, accuracy_score\n",
    "################ TESTING ###############\n",
    "\n",
    "#logits and predictions on test set\n",
    "y_pred_logits = model.predict(x_test_res)\n",
    "y_pred = np.argmax(y_pred_logits, axis=1)\n",
    "\n",
    "# F1 and accuracy\n",
    "y_test = y_test.flatten()\n",
    "f1_macro = f1_score(y_test, y_pred, average='macro')\n",
    "acc = accuracy_score(y_test, y_pred)\n",
    "\n",
    "print(\"Test set:\")\n",
    "print(\"F1 Score:\", f1_macro)\n",
    "print(\"Accuracy:\", acc)\n",
    "\n",
    "\n",
    "\n",
    "#logits and predictions on val set\n",
    "y_pred_logits = model.predict(x_val_res)\n",
    "y_pred = np.argmax(y_pred_logits, axis=1)\n",
    "\n",
    "# F1 and accuracy\n",
    "y_val = y_val.flatten()\n",
    "f1_macro = f1_score(y_val, y_pred, average='macro')\n",
    "acc = accuracy_score(y_val, y_pred)\n",
    "\n",
    "print(\"\\nValidation set:\")\n",
    "print(\"F1 Score:\", f1_macro)\n",
    "print(\"Accuracy:\", acc)\n",
    "\n"
   ]
  },
  {
   "cell_type": "markdown",
   "metadata": {
    "id": "ajAWCycqo_bX"
   },
   "source": [
    "We observe that by applying transfer learning and training only the classification head, we achieve very high performance — a result that is expected since the model was pretrained on much larger datasets.\n"
   ]
  },
  {
   "cell_type": "markdown",
   "metadata": {
    "id": "pdxAZqd6Zi-x"
   },
   "source": [
    "** b) Fine tuning**"
   ]
  },
  {
   "cell_type": "code",
   "execution_count": null,
   "metadata": {
    "colab": {
     "base_uri": "https://localhost:8080/"
    },
    "executionInfo": {
     "elapsed": 22,
     "status": "ok",
     "timestamp": 1746451176578,
     "user": {
      "displayName": "κυριακος «kyriakos» κατσιαδραμης",
      "userId": "14339214325585293356"
     },
     "user_tz": -180
    },
    "id": "AY1sMxU5V8gU",
    "outputId": "1db2c627-f8b9-4e1a-f598-2789b16ee4ba"
   },
   "outputs": [
    {
     "name": "stderr",
     "output_type": "stream",
     "text": [
      "/usr/local/lib/python3.11/dist-packages/keras/src/layers/core/input_layer.py:27: UserWarning: Argument `input_shape` is deprecated. Use `shape` instead.\n",
      "  warnings.warn(\n"
     ]
    }
   ],
   "source": [
    "#Unlock the layers we locked before\n",
    "base_model.trainable = True\n",
    "\n",
    "#we will lock the first 5 layers\n",
    "fine_tune_at = 5\n",
    "for layer in base_model.layers[:fine_tune_at]:\n",
    "    layer.trainable = False  #lock the first 15 layers\n",
    "\n",
    "\n",
    "#We add our classification head\n",
    "model = models.Sequential([\n",
    "    layers.InputLayer(input_shape=(224, 224, 3)),\n",
    "    base_model,  # VGG19\n",
    "    layers.Flatten(),  # Pooling\n",
    "    layers.Dense(1024, activation='relu'), #FC layer\n",
    "    layers.Dropout(0.5),  # Dropout\n",
    "    layers.Dense(20)  # 20 classes\n",
    "])\n",
    "\n",
    "\n"
   ]
  },
  {
   "cell_type": "code",
   "execution_count": null,
   "metadata": {
    "colab": {
     "base_uri": "https://localhost:8080/"
    },
    "executionInfo": {
     "elapsed": 497963,
     "status": "ok",
     "timestamp": 1746451681122,
     "user": {
      "displayName": "κυριακος «kyriakos» κατσιαδραμης",
      "userId": "14339214325585293356"
     },
     "user_tz": -180
    },
    "id": "wtGHg6INV8Va",
    "outputId": "cf789e13-73bb-405c-e814-1ec03a1316be"
   },
   "outputs": [
    {
     "name": "stdout",
     "output_type": "stream",
     "text": [
      "Epoch 1/5\n",
      "\u001b[1m133/133\u001b[0m \u001b[32m━━━━━━━━━━━━━━━━━━━━\u001b[0m\u001b[37m\u001b[0m \u001b[1m0s\u001b[0m 436ms/step - accuracy: 0.0682 - loss: 3.6690 — f1_train: 0.1663 — f1_val: 0.1636\n",
      "\u001b[1m133/133\u001b[0m \u001b[32m━━━━━━━━━━━━━━━━━━━━\u001b[0m\u001b[37m\u001b[0m \u001b[1m109s\u001b[0m 770ms/step - accuracy: 0.0684 - loss: 3.6643 - val_accuracy: 0.2033 - val_loss: 2.6295\n",
      "Epoch 2/5\n",
      "\u001b[1m133/133\u001b[0m \u001b[32m━━━━━━━━━━━━━━━━━━━━\u001b[0m\u001b[37m\u001b[0m \u001b[1m0s\u001b[0m 416ms/step - accuracy: 0.2402 - loss: 2.4849 — f1_train: 0.3951 — f1_val: 0.3717\n",
      "\u001b[1m133/133\u001b[0m \u001b[32m━━━━━━━━━━━━━━━━━━━━\u001b[0m\u001b[37m\u001b[0m \u001b[1m96s\u001b[0m 722ms/step - accuracy: 0.2406 - loss: 2.4837 - val_accuracy: 0.4020 - val_loss: 1.9656\n",
      "Epoch 3/5\n",
      "\u001b[1m133/133\u001b[0m \u001b[32m━━━━━━━━━━━━━━━━━━━━\u001b[0m\u001b[37m\u001b[0m \u001b[1m0s\u001b[0m 415ms/step - accuracy: 0.4298 - loss: 1.8554 — f1_train: 0.6296 — f1_val: 0.5790\n",
      "\u001b[1m133/133\u001b[0m \u001b[32m━━━━━━━━━━━━━━━━━━━━\u001b[0m\u001b[37m\u001b[0m \u001b[1m96s\u001b[0m 721ms/step - accuracy: 0.4300 - loss: 1.8546 - val_accuracy: 0.5793 - val_loss: 1.3832\n",
      "Epoch 4/5\n",
      "\u001b[1m133/133\u001b[0m \u001b[32m━━━━━━━━━━━━━━━━━━━━\u001b[0m\u001b[37m\u001b[0m \u001b[1m0s\u001b[0m 415ms/step - accuracy: 0.5778 - loss: 1.3499 — f1_train: 0.6373 — f1_val: 0.5659\n",
      "\u001b[1m133/133\u001b[0m \u001b[32m━━━━━━━━━━━━━━━━━━━━\u001b[0m\u001b[37m\u001b[0m \u001b[1m95s\u001b[0m 719ms/step - accuracy: 0.5778 - loss: 1.3497 - val_accuracy: 0.5813 - val_loss: 1.3554\n",
      "Epoch 5/5\n",
      "\u001b[1m133/133\u001b[0m \u001b[32m━━━━━━━━━━━━━━━━━━━━\u001b[0m\u001b[37m\u001b[0m \u001b[1m0s\u001b[0m 417ms/step - accuracy: 0.6897 - loss: 1.0358 — f1_train: 0.8169 — f1_val: 0.6811\n",
      "\u001b[1m133/133\u001b[0m \u001b[32m━━━━━━━━━━━━━━━━━━━━\u001b[0m\u001b[37m\u001b[0m \u001b[1m96s\u001b[0m 721ms/step - accuracy: 0.6897 - loss: 1.0354 - val_accuracy: 0.6813 - val_loss: 1.0424\n"
     ]
    }
   ],
   "source": [
    "######################### Training #######################\n",
    "\n",
    "f1_callback = F1ScoreCallback(x_train_res, y_train, x_val_res, y_val)\n",
    "\n",
    "model.compile(\n",
    "    optimizer=tf.keras.optimizers.Adam(learning_rate=0.0001),  #smaller learning rate\n",
    "    loss=tf.keras.losses.SparseCategoricalCrossentropy(from_logits=True),\n",
    "    metrics=['accuracy']\n",
    ")\n",
    "\n",
    "# train\n",
    "history_finetune = model.fit(\n",
    "    x_train_res, y_train,\n",
    "    epochs=5,\n",
    "    batch_size=64,\n",
    "    validation_data=(x_val_res, y_val),\n",
    "    callbacks=[f1_callback]\n",
    ")\n"
   ]
  },
  {
   "cell_type": "markdown",
   "metadata": {
    "id": "Fu3b36VOZ0DT"
   },
   "source": [
    "Evaluation."
   ]
  },
  {
   "cell_type": "code",
   "execution_count": null,
   "metadata": {
    "colab": {
     "base_uri": "https://localhost:8080/"
    },
    "executionInfo": {
     "elapsed": 13137,
     "status": "ok",
     "timestamp": 1746451694260,
     "user": {
      "displayName": "κυριακος «kyriakos» κατσιαδραμης",
      "userId": "14339214325585293356"
     },
     "user_tz": -180
    },
    "id": "wMFdscXtV7sx",
    "outputId": "9681a9a5-2dd7-4f56-9abd-f5e22d20b55f"
   },
   "outputs": [
    {
     "name": "stdout",
     "output_type": "stream",
     "text": [
      "\u001b[1m63/63\u001b[0m \u001b[32m━━━━━━━━━━━━━━━━━━━━\u001b[0m\u001b[37m\u001b[0m \u001b[1m6s\u001b[0m 96ms/step\n",
      "Test set:\n",
      "F1 Score: 0.7016364628160789\n",
      "Accuracy: 0.702\n",
      "\u001b[1m47/47\u001b[0m \u001b[32m━━━━━━━━━━━━━━━━━━━━\u001b[0m\u001b[37m\u001b[0m \u001b[1m4s\u001b[0m 90ms/step\n",
      "\n",
      "Validation set:\n",
      "F1 Score: 0.6811138339326451\n",
      "Accuracy: 0.6813333333333333\n"
     ]
    }
   ],
   "source": [
    "from sklearn.metrics import f1_score, accuracy_score\n",
    "################ TESTING ###############\n",
    "\n",
    "#logits and predictions on test set\n",
    "y_pred_logits = model.predict(x_test_res)\n",
    "y_pred = np.argmax(y_pred_logits, axis=1)\n",
    "\n",
    "# F1 and accuracy\n",
    "y_test = y_test.flatten()\n",
    "f1_macro = f1_score(y_test, y_pred, average='macro')\n",
    "acc = accuracy_score(y_test, y_pred)\n",
    "\n",
    "print(\"Test set:\")\n",
    "print(\"F1 Score:\", f1_macro)\n",
    "print(\"Accuracy:\", acc)\n",
    "\n",
    "\n",
    "\n",
    "#logits and predictions on val set\n",
    "y_pred_logits = model.predict(x_val_res)\n",
    "y_pred = np.argmax(y_pred_logits, axis=1)\n",
    "\n",
    "# F1 and accuracy\n",
    "y_val = y_val.flatten()\n",
    "f1_macro = f1_score(y_val, y_pred, average='macro')\n",
    "acc = accuracy_score(y_val, y_pred)\n",
    "\n",
    "print(\"\\nValidation set:\")\n",
    "print(\"F1 Score:\", f1_macro)\n",
    "print(\"Accuracy:\", acc)\n",
    "\n"
   ]
  },
  {
   "cell_type": "markdown",
   "metadata": {
    "id": "8KDayCYYoyeY"
   },
   "source": [
    "We observe that the performance is worse compared to plain transfer learning, which is expected since we are now training some of the final layers of the network — slightly disrupting its generalized knowledge in an attempt to specialize it to our dataset. However, we estimate that with more training epochs, the performance could approach that of plain transfer learning, as the model shows significant improvement per epoch. It's also possible that we should have fine-tuned fewer layers.\n",
    "\n",
    "We also observe increased training time, as we are now updating parameters of convolutional layers in addition to the classifi\n"
   ]
  }
 ],
 "metadata": {
  "accelerator": "GPU",
  "colab": {
   "gpuType": "L4",
   "machine_shape": "hm",
   "provenance": [
    {
     "file_id": "1ll1Dp70pN-pPC2LNBuHs5QyN0uDyrac9",
     "timestamp": 1744736939281
    }
   ]
  },
  "kernelspec": {
   "display_name": "Python 3",
   "name": "python3"
  }
 },
 "nbformat": 4,
 "nbformat_minor": 0
}
